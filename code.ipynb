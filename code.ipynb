{
 "cells": [
  {
   "cell_type": "markdown",
   "metadata": {},
   "source": [
    "# Ticket inspection AI"
   ]
  },
  {
   "cell_type": "markdown",
   "metadata": {},
   "source": [
    "## Imports"
   ]
  },
  {
   "cell_type": "code",
   "execution_count": 437,
   "metadata": {},
   "outputs": [],
   "source": [
    "import re\n",
    "import xgboost as xgb\n",
    "from sklearn.metrics import mean_squared_error\n",
    "from sklearn.model_selection import train_test_split\n",
    "import pandas as pd\n",
    "import numpy as np\n",
    "from sklearn.model_selection import RandomizedSearchCV, GridSearchCV\n",
    "from sklearn.metrics import f1_score, confusion_matrix, ConfusionMatrixDisplay, accuracy_score\n",
    "import optuna as opt\n",
    "from sdv.tabular import GaussianCopula"
   ]
  },
  {
   "cell_type": "markdown",
   "metadata": {},
   "source": [
    "## Functions"
   ]
  },
  {
   "cell_type": "code",
   "execution_count": 438,
   "metadata": {},
   "outputs": [],
   "source": [
    "def strCleaner(x: str) -> str:\n",
    "    x = x.lower()\n",
    "    x = x.replace(\" \", \"_\")\n",
    "    return x\n",
    "\n",
    "\n",
    "def clockTofloat(x: str) -> float:\n",
    "    x = x[:-3]\n",
    "    x = x.replace(\":\",\".\")\n",
    "    x = float(x)\n",
    "    return x\n",
    "\n",
    "def findCatCode(l, x: str) -> int:\n",
    "    for i in range(len(l)):\n",
    "        if l[i] == x:\n",
    "            code = l.codes[i]\n",
    "            return code\n",
    "        \n",
    "def datetimeToInt(dt) -> int:\n",
    "    # second = dt.second\n",
    "    minute = dt.minute*1\n",
    "    hour = dt.hour*10\n",
    "    day = dt.day*10000\n",
    "    month = dt.month*1000000\n",
    "    year = dt.year*100000000\n",
    "    \n",
    "    ret = minute+hour+day+month+year\n",
    "    return ret\n",
    "    "
   ]
  },
  {
   "cell_type": "markdown",
   "metadata": {},
   "source": [
    "## Reading data"
   ]
  },
  {
   "cell_type": "code",
   "execution_count": 439,
   "metadata": {},
   "outputs": [
    {
     "data": {
      "text/html": [
       "<div>\n",
       "<style scoped>\n",
       "    .dataframe tbody tr th:only-of-type {\n",
       "        vertical-align: middle;\n",
       "    }\n",
       "\n",
       "    .dataframe tbody tr th {\n",
       "        vertical-align: top;\n",
       "    }\n",
       "\n",
       "    .dataframe thead th {\n",
       "        text-align: right;\n",
       "    }\n",
       "</style>\n",
       "<table border=\"1\" class=\"dataframe\">\n",
       "  <thead>\n",
       "    <tr style=\"text-align: right;\">\n",
       "      <th></th>\n",
       "      <th>Linje</th>\n",
       "      <th>Vogn</th>\n",
       "      <th>Dato</th>\n",
       "      <th>Klokke</th>\n",
       "      <th>Fra</th>\n",
       "      <th>Til</th>\n",
       "      <th>Fullt?</th>\n",
       "      <th>Sjekket?</th>\n",
       "      <th>Merknad</th>\n",
       "    </tr>\n",
       "  </thead>\n",
       "  <tbody>\n",
       "    <tr>\n",
       "      <th>0</th>\n",
       "      <td>L12</td>\n",
       "      <td>Fremst</td>\n",
       "      <td>2022-09-25</td>\n",
       "      <td>11:30:00</td>\n",
       "      <td>Eidsvoll</td>\n",
       "      <td>Oslo Lufthavn</td>\n",
       "      <td>Nei</td>\n",
       "      <td>Nei</td>\n",
       "      <td>NaN</td>\n",
       "    </tr>\n",
       "    <tr>\n",
       "      <th>1</th>\n",
       "      <td>R10</td>\n",
       "      <td>Bakerst</td>\n",
       "      <td>2022-09-25</td>\n",
       "      <td>21:59:00</td>\n",
       "      <td>Oslo Lufthavn</td>\n",
       "      <td>Eidsvoll</td>\n",
       "      <td>Ja</td>\n",
       "      <td>Ja</td>\n",
       "      <td>NaN</td>\n",
       "    </tr>\n",
       "  </tbody>\n",
       "</table>\n",
       "</div>"
      ],
      "text/plain": [
       "  Linje     Vogn       Dato    Klokke            Fra            Til Fullt?  \\\n",
       "0   L12   Fremst 2022-09-25  11:30:00       Eidsvoll  Oslo Lufthavn    Nei   \n",
       "1   R10  Bakerst 2022-09-25  21:59:00  Oslo Lufthavn       Eidsvoll     Ja   \n",
       "\n",
       "  Sjekket? Merknad  \n",
       "0      Nei     NaN  \n",
       "1       Ja     NaN  "
      ]
     },
     "execution_count": 439,
     "metadata": {},
     "output_type": "execute_result"
    }
   ],
   "source": [
    "db = pd.read_excel(\"/Users/sigurdskyrud/OneDrive/Dokumenter/Andre Dokumenter/Billettkontroll data.xlsx\")\n",
    "db.head(2)"
   ]
  },
  {
   "cell_type": "code",
   "execution_count": 440,
   "metadata": {},
   "outputs": [
    {
     "name": "stdout",
     "output_type": "stream",
     "text": [
      "<class 'pandas.core.frame.DataFrame'>\n",
      "RangeIndex: 44 entries, 0 to 43\n",
      "Data columns (total 9 columns):\n",
      " #   Column    Non-Null Count  Dtype         \n",
      "---  ------    --------------  -----         \n",
      " 0   Linje     44 non-null     object        \n",
      " 1   Vogn      44 non-null     object        \n",
      " 2   Dato      44 non-null     datetime64[ns]\n",
      " 3   Klokke    44 non-null     object        \n",
      " 4   Fra       44 non-null     object        \n",
      " 5   Til       44 non-null     object        \n",
      " 6   Fullt?    44 non-null     object        \n",
      " 7   Sjekket?  44 non-null     object        \n",
      " 8   Merknad   3 non-null      object        \n",
      "dtypes: datetime64[ns](1), object(8)\n",
      "memory usage: 3.2+ KB\n"
     ]
    }
   ],
   "source": [
    "db.info()"
   ]
  },
  {
   "cell_type": "markdown",
   "metadata": {},
   "source": [
    "## Categorize the columns"
   ]
  },
  {
   "cell_type": "code",
   "execution_count": 441,
   "metadata": {},
   "outputs": [],
   "source": [
    "db[\"Fullt?\"] = db[\"Fullt?\"].apply(lambda x: strCleaner(x))\n",
    "fulltCat = pd.Categorical(db[\"Fullt?\"])\n",
    "db[\"Fullt?\"] = pd.Categorical(db[\"Fullt?\"]).codes\n",
    "\n",
    "db[\"Sjekket?\"] = db[\"Sjekket?\"].apply(lambda x: strCleaner(x))\n",
    "sjekketCat = pd.Categorical(db[\"Sjekket?\"])\n",
    "db[\"Sjekket?\"] = pd.Categorical(db[\"Sjekket?\"]).codes\n",
    "\n",
    "db[\"Linje\"] = db[\"Linje\"].apply(lambda x: strCleaner(x))\n",
    "linjeCat = pd.Categorical(db[\"Linje\"])\n",
    "db[\"Linje\"] = pd.Categorical(db[\"Linje\"]).codes\n",
    "\n",
    "db[\"Fra\"] = db[\"Fra\"].apply(lambda x: strCleaner(x))\n",
    "fraCat = pd.Categorical(db[\"Fra\"])\n",
    "db[\"Fra\"] = pd.Categorical(db[\"Fra\"]).codes\n",
    "\n",
    "db[\"Til\"] = db[\"Til\"].apply(lambda x: strCleaner(x))\n",
    "tilCat = pd.Categorical(db[\"Til\"])\n",
    "db[\"Til\"] = pd.Categorical(db[\"Til\"]).codes"
   ]
  },
  {
   "cell_type": "code",
   "execution_count": 442,
   "metadata": {},
   "outputs": [],
   "source": [
    "db[\"Vogn\"] = pd.Series(db[\"Vogn\"], dtype=\"string\")\n",
    "db[\"Vogn\"] = db[\"Vogn\"].apply(lambda x: strCleaner(x))\n",
    "\n",
    "vognCat = pd.Categorical(db[\"Vogn\"])\n",
    "db[\"Vogn\"] = pd.Categorical(db[\"Vogn\"]).codes"
   ]
  },
  {
   "cell_type": "code",
   "execution_count": 443,
   "metadata": {},
   "outputs": [],
   "source": [
    "db[\"Merknad\"].fillna(-1)\n",
    "\n",
    "merknadCat = pd.Categorical(db[\"Merknad\"])\n",
    "db[\"Merknad\"] = pd.Categorical(db[\"Merknad\"]).codes"
   ]
  },
  {
   "cell_type": "markdown",
   "metadata": {},
   "source": [
    "Sets date to integer"
   ]
  },
  {
   "cell_type": "code",
   "execution_count": 444,
   "metadata": {},
   "outputs": [],
   "source": [
    "# db['Dato'] = (db['Dato'] - db['Dato'].min())  / np.timedelta64(1,'D')\n",
    "# db[\"Dato\"] = db[\"Dato\"].apply(lambda x: datetimeToInt(x))\n",
    "# db[\"Dato\"].head(3)"
   ]
  },
  {
   "cell_type": "markdown",
   "metadata": {},
   "source": [
    "Sets the time in int format"
   ]
  },
  {
   "cell_type": "code",
   "execution_count": 445,
   "metadata": {},
   "outputs": [],
   "source": [
    "db[\"Klokke\"] = pd.Series(db[\"Klokke\"], dtype=\"str\")\n",
    "db[\"Klokke\"] = db[\"Klokke\"].apply(lambda x: clockTofloat(x))"
   ]
  },
  {
   "cell_type": "code",
   "execution_count": 446,
   "metadata": {},
   "outputs": [
    {
     "data": {
      "text/plain": [
       "['eidsvoll', 'oslo_lufthavn', 'eidsvoll', 'nationaltheatret', 'eidsvoll', ..., 'nationaltheatret', 'eidsvoll', 'oslo_lufthavn', 'eidsvoll', 'oslo_lufthavn']\n",
       "Length: 44\n",
       "Categories (5, object): ['eidsvoll', 'nationaltheatret', 'oslo_lufthavn', 'oslo_s', 'skarnes']"
      ]
     },
     "execution_count": 446,
     "metadata": {},
     "output_type": "execute_result"
    }
   ],
   "source": [
    "fraCat"
   ]
  },
  {
   "cell_type": "code",
   "execution_count": 447,
   "metadata": {},
   "outputs": [
    {
     "name": "stdout",
     "output_type": "stream",
     "text": [
      "<class 'pandas.core.frame.DataFrame'>\n",
      "RangeIndex: 44 entries, 0 to 43\n",
      "Data columns (total 9 columns):\n",
      " #   Column    Non-Null Count  Dtype         \n",
      "---  ------    --------------  -----         \n",
      " 0   Linje     44 non-null     int8          \n",
      " 1   Vogn      44 non-null     int8          \n",
      " 2   Dato      44 non-null     datetime64[ns]\n",
      " 3   Klokke    44 non-null     float64       \n",
      " 4   Fra       44 non-null     int8          \n",
      " 5   Til       44 non-null     int8          \n",
      " 6   Fullt?    44 non-null     int8          \n",
      " 7   Sjekket?  44 non-null     int8          \n",
      " 8   Merknad   44 non-null     int8          \n",
      "dtypes: datetime64[ns](1), float64(1), int8(7)\n",
      "memory usage: 1.1 KB\n"
     ]
    }
   ],
   "source": [
    "db.info()"
   ]
  },
  {
   "cell_type": "code",
   "execution_count": 448,
   "metadata": {},
   "outputs": [
    {
     "data": {
      "text/plain": [
       "<AxesSubplot: >"
      ]
     },
     "execution_count": 448,
     "metadata": {},
     "output_type": "execute_result"
    },
    {
     "data": {
      "image/png": "[encoded data removed]",
      "text/plain": [
       "<Figure size 640x480 with 1 Axes>"
      ]
     },
     "metadata": {},
     "output_type": "display_data"
    }
   ],
   "source": [
    "db.plot.box()"
   ]
  },
  {
   "cell_type": "markdown",
   "metadata": {},
   "source": [
    "# Synthetic data"
   ]
  },
  {
   "cell_type": "code",
   "execution_count": 449,
   "metadata": {},
   "outputs": [
    {
     "data": {
      "text/html": [
       "<div>\n",
       "<style scoped>\n",
       "    .dataframe tbody tr th:only-of-type {\n",
       "        vertical-align: middle;\n",
       "    }\n",
       "\n",
       "    .dataframe tbody tr th {\n",
       "        vertical-align: top;\n",
       "    }\n",
       "\n",
       "    .dataframe thead th {\n",
       "        text-align: right;\n",
       "    }\n",
       "</style>\n",
       "<table border=\"1\" class=\"dataframe\">\n",
       "  <thead>\n",
       "    <tr style=\"text-align: right;\">\n",
       "      <th></th>\n",
       "      <th>Linje</th>\n",
       "      <th>Vogn</th>\n",
       "      <th>Dato</th>\n",
       "      <th>Klokke</th>\n",
       "      <th>Fra</th>\n",
       "      <th>Til</th>\n",
       "      <th>Fullt?</th>\n",
       "      <th>Sjekket?</th>\n",
       "      <th>Merknad</th>\n",
       "    </tr>\n",
       "  </thead>\n",
       "  <tbody>\n",
       "    <tr>\n",
       "      <th>0</th>\n",
       "      <td>1</td>\n",
       "      <td>1</td>\n",
       "      <td>2022-09-30</td>\n",
       "      <td>20.38</td>\n",
       "      <td>3</td>\n",
       "      <td>1</td>\n",
       "      <td>2</td>\n",
       "      <td>0</td>\n",
       "      <td>-1</td>\n",
       "    </tr>\n",
       "    <tr>\n",
       "      <th>1</th>\n",
       "      <td>2</td>\n",
       "      <td>1</td>\n",
       "      <td>2022-10-22</td>\n",
       "      <td>18.48</td>\n",
       "      <td>2</td>\n",
       "      <td>3</td>\n",
       "      <td>1</td>\n",
       "      <td>0</td>\n",
       "      <td>0</td>\n",
       "    </tr>\n",
       "    <tr>\n",
       "      <th>2</th>\n",
       "      <td>0</td>\n",
       "      <td>1</td>\n",
       "      <td>2022-11-02</td>\n",
       "      <td>21.02</td>\n",
       "      <td>2</td>\n",
       "      <td>3</td>\n",
       "      <td>1</td>\n",
       "      <td>1</td>\n",
       "      <td>-1</td>\n",
       "    </tr>\n",
       "  </tbody>\n",
       "</table>\n",
       "</div>"
      ],
      "text/plain": [
       "   Linje  Vogn       Dato  Klokke  Fra  Til  Fullt?  Sjekket?  Merknad\n",
       "0      1     1 2022-09-30   20.38    3    1       2         0       -1\n",
       "1      2     1 2022-10-22   18.48    2    3       1         0        0\n",
       "2      0     1 2022-11-02   21.02    2    3       1         1       -1"
      ]
     },
     "execution_count": 449,
     "metadata": {},
     "output_type": "execute_result"
    }
   ],
   "source": [
    "sdv = GaussianCopula()\n",
    "sdv.fit(db)\n",
    "sample = sdv.sample(10000)\n",
    "sample.head(3)"
   ]
  },
  {
   "cell_type": "code",
   "execution_count": 450,
   "metadata": {},
   "outputs": [],
   "source": [
    "db = pd.concat([db, sample])"
   ]
  },
  {
   "cell_type": "markdown",
   "metadata": {},
   "source": [
    "## Creating testing data"
   ]
  },
  {
   "cell_type": "code",
   "execution_count": 451,
   "metadata": {},
   "outputs": [],
   "source": [
    "# Create the data to create predict from\n",
    "X = db.drop([\"Sjekket?\"], axis=1)\n",
    "\n",
    "# Create the data to predict to\n",
    "y = db[\"Sjekket?\"]"
   ]
  },
  {
   "cell_type": "markdown",
   "metadata": {},
   "source": [
    "Removing stuff"
   ]
  },
  {
   "cell_type": "code",
   "execution_count": 452,
   "metadata": {},
   "outputs": [],
   "source": [
    "# My data has too few entries, date becomes to dominant\n",
    "X = X.drop([\"Dato\"], axis=1)\n",
    "\n",
    "# Merknad has gives no impact on result\n",
    "X = X.drop([\"Merknad\"], axis=1)\n",
    "\n",
    "### Testing without clock\n",
    "# X = X.drop([\"Klokke\"], axis=1)"
   ]
  },
  {
   "cell_type": "code",
   "execution_count": 453,
   "metadata": {},
   "outputs": [
    {
     "data": {
      "text/html": [
       "<div>\n",
       "<style scoped>\n",
       "    .dataframe tbody tr th:only-of-type {\n",
       "        vertical-align: middle;\n",
       "    }\n",
       "\n",
       "    .dataframe tbody tr th {\n",
       "        vertical-align: top;\n",
       "    }\n",
       "\n",
       "    .dataframe thead th {\n",
       "        text-align: right;\n",
       "    }\n",
       "</style>\n",
       "<table border=\"1\" class=\"dataframe\">\n",
       "  <thead>\n",
       "    <tr style=\"text-align: right;\">\n",
       "      <th></th>\n",
       "      <th>Linje</th>\n",
       "      <th>Vogn</th>\n",
       "      <th>Klokke</th>\n",
       "      <th>Fra</th>\n",
       "      <th>Til</th>\n",
       "      <th>Fullt?</th>\n",
       "    </tr>\n",
       "  </thead>\n",
       "  <tbody>\n",
       "    <tr>\n",
       "      <th>0</th>\n",
       "      <td>0</td>\n",
       "      <td>1</td>\n",
       "      <td>11.30</td>\n",
       "      <td>0</td>\n",
       "      <td>3</td>\n",
       "      <td>1</td>\n",
       "    </tr>\n",
       "    <tr>\n",
       "      <th>1</th>\n",
       "      <td>2</td>\n",
       "      <td>0</td>\n",
       "      <td>21.59</td>\n",
       "      <td>2</td>\n",
       "      <td>0</td>\n",
       "      <td>0</td>\n",
       "    </tr>\n",
       "    <tr>\n",
       "      <th>2</th>\n",
       "      <td>0</td>\n",
       "      <td>1</td>\n",
       "      <td>9.30</td>\n",
       "      <td>0</td>\n",
       "      <td>2</td>\n",
       "      <td>0</td>\n",
       "    </tr>\n",
       "  </tbody>\n",
       "</table>\n",
       "</div>"
      ],
      "text/plain": [
       "   Linje  Vogn  Klokke  Fra  Til  Fullt?\n",
       "0      0     1   11.30    0    3       1\n",
       "1      2     0   21.59    2    0       0\n",
       "2      0     1    9.30    0    2       0"
      ]
     },
     "execution_count": 453,
     "metadata": {},
     "output_type": "execute_result"
    }
   ],
   "source": [
    "X.head(3)"
   ]
  },
  {
   "cell_type": "code",
   "execution_count": 454,
   "metadata": {},
   "outputs": [],
   "source": [
    "# Split the data into train and test sets with test_size=0.2 and random_state=42\n",
    "X_train, X_test, y_train, y_test = train_test_split(X, y, test_size=0.2, random_state=42)"
   ]
  },
  {
   "cell_type": "markdown",
   "metadata": {},
   "source": [
    "# Creating model1"
   ]
  },
  {
   "cell_type": "code",
   "execution_count": 455,
   "metadata": {},
   "outputs": [
    {
     "name": "stderr",
     "output_type": "stream",
     "text": [
      "/opt/miniconda3/envs/billettkontroll/lib/python3.8/site-packages/xgboost/sklearn.py:1224: UserWarning: The use of label encoder in XGBClassifier is deprecated and will be removed in a future release. To remove this warning, do the following: 1) Pass option use_label_encoder=False when constructing XGBClassifier object; and 2) Encode your labels (y) as integers starting with 0, i.e. 0, 1, 2, ..., [num_class - 1].\n",
      "  warnings.warn(label_encoder_deprecation_msg, UserWarning)\n",
      "/opt/miniconda3/envs/billettkontroll/lib/python3.8/site-packages/xgboost/data.py:250: FutureWarning: pandas.Int64Index is deprecated and will be removed from pandas in a future version. Use pandas.Index with the appropriate dtype instead.\n",
      "  elif isinstance(data.columns, (pd.Int64Index, pd.RangeIndex)):\n"
     ]
    },
    {
     "name": "stdout",
     "output_type": "stream",
     "text": [
      "[23:04:04] WARNING: /var/folders/nz/j6p8yfhx1mv_0grj5xl4650h0000gp/T/abs_eek2t0c4ro/croots/recipe/xgboost-split_1659548960591/work/src/learner.cc:1115: Starting in XGBoost 1.3.0, the default evaluation metric used with the objective 'binary:logistic' was changed from 'error' to 'logloss'. Explicitly set eval_metric if you'd like to restore the old behavior.\n"
     ]
    },
    {
     "data": {
      "text/html": [
       "<style>#sk-container-id-21 {color: black;background-color: white;}#sk-container-id-21 pre{padding: 0;}#sk-container-id-21 div.sk-toggleable {background-color: white;}#sk-container-id-21 label.sk-toggleable__label {cursor: pointer;display: block;width: 100%;margin-bottom: 0;padding: 0.3em;box-sizing: border-box;text-align: center;}#sk-container-id-21 label.sk-toggleable__label-arrow:before {content: \"▸\";float: left;margin-right: 0.25em;color: #696969;}#sk-container-id-21 label.sk-toggleable__label-arrow:hover:before {color: black;}#sk-container-id-21 div.sk-estimator:hover label.sk-toggleable__label-arrow:before {color: black;}#sk-container-id-21 div.sk-toggleable__content {max-height: 0;max-width: 0;overflow: hidden;text-align: left;background-color: #f0f8ff;}#sk-container-id-21 div.sk-toggleable__content pre {margin: 0.2em;color: black;border-radius: 0.25em;background-color: #f0f8ff;}#sk-container-id-21 input.sk-toggleable__control:checked~div.sk-toggleable__content {max-height: 200px;max-width: 100%;overflow: auto;}#sk-container-id-21 input.sk-toggleable__control:checked~label.sk-toggleable__label-arrow:before {content: \"▾\";}#sk-container-id-21 div.sk-estimator input.sk-toggleable__control:checked~label.sk-toggleable__label {background-color: #d4ebff;}#sk-container-id-21 div.sk-label input.sk-toggleable__control:checked~label.sk-toggleable__label {background-color: #d4ebff;}#sk-container-id-21 input.sk-hidden--visually {border: 0;clip: rect(1px 1px 1px 1px);clip: rect(1px, 1px, 1px, 1px);height: 1px;margin: -1px;overflow: hidden;padding: 0;position: absolute;width: 1px;}#sk-container-id-21 div.sk-estimator {font-family: monospace;background-color: #f0f8ff;border: 1px dotted black;border-radius: 0.25em;box-sizing: border-box;margin-bottom: 0.5em;}#sk-container-id-21 div.sk-estimator:hover {background-color: #d4ebff;}#sk-container-id-21 div.sk-parallel-item::after {content: \"\";width: 100%;border-bottom: 1px solid gray;flex-grow: 1;}#sk-container-id-21 div.sk-label:hover label.sk-toggleable__label {background-color: #d4ebff;}#sk-container-id-21 div.sk-serial::before {content: \"\";position: absolute;border-left: 1px solid gray;box-sizing: border-box;top: 0;bottom: 0;left: 50%;z-index: 0;}#sk-container-id-21 div.sk-serial {display: flex;flex-direction: column;align-items: center;background-color: white;padding-right: 0.2em;padding-left: 0.2em;position: relative;}#sk-container-id-21 div.sk-item {position: relative;z-index: 1;}#sk-container-id-21 div.sk-parallel {display: flex;align-items: stretch;justify-content: center;background-color: white;position: relative;}#sk-container-id-21 div.sk-item::before, #sk-container-id-21 div.sk-parallel-item::before {content: \"\";position: absolute;border-left: 1px solid gray;box-sizing: border-box;top: 0;bottom: 0;left: 50%;z-index: -1;}#sk-container-id-21 div.sk-parallel-item {display: flex;flex-direction: column;z-index: 1;position: relative;background-color: white;}#sk-container-id-21 div.sk-parallel-item:first-child::after {align-self: flex-end;width: 50%;}#sk-container-id-21 div.sk-parallel-item:last-child::after {align-self: flex-start;width: 50%;}#sk-container-id-21 div.sk-parallel-item:only-child::after {width: 0;}#sk-container-id-21 div.sk-dashed-wrapped {border: 1px dashed gray;margin: 0 0.4em 0.5em 0.4em;box-sizing: border-box;padding-bottom: 0.4em;background-color: white;}#sk-container-id-21 div.sk-label label {font-family: monospace;font-weight: bold;display: inline-block;line-height: 1.2em;}#sk-container-id-21 div.sk-label-container {text-align: center;}#sk-container-id-21 div.sk-container {/* jupyter's `normalize.less` sets `[hidden] { display: none; }` but bootstrap.min.css set `[hidden] { display: none !important; }` so we also need the `!important` here to be able to override the default hidden behavior on the sphinx rendered scikit-learn.org. See: https://github.com/scikit-learn/scikit-learn/issues/21755 */display: inline-block !important;position: relative;}#sk-container-id-21 div.sk-text-repr-fallback {display: none;}</style><div id=\"sk-container-id-21\" class=\"sk-top-container\"><div class=\"sk-text-repr-fallback\"><pre>XGBClassifier(base_score=0.5, booster=&#x27;gbtree&#x27;, colsample_bylevel=1,\n",
       "              colsample_bynode=1, colsample_bytree=1, enable_categorical=False,\n",
       "              gamma=0, gpu_id=-1, importance_type=None,\n",
       "              interaction_constraints=&#x27;&#x27;, learning_rate=0.300000012,\n",
       "              max_delta_step=0, max_depth=6, min_child_weight=1, missing=nan,\n",
       "              monotone_constraints=&#x27;()&#x27;, n_estimators=100, n_jobs=8,\n",
       "              num_parallel_tree=1, predictor=&#x27;auto&#x27;, random_state=0,\n",
       "              reg_alpha=0, reg_lambda=1, scale_pos_weight=1, subsample=1,\n",
       "              tree_method=&#x27;exact&#x27;, validate_parameters=1, verbosity=None)</pre><b>In a Jupyter environment, please rerun this cell to show the HTML representation or trust the notebook. <br />On GitHub, the HTML representation is unable to render, please try loading this page with nbviewer.org.</b></div><div class=\"sk-container\" hidden><div class=\"sk-item\"><div class=\"sk-estimator sk-toggleable\"><input class=\"sk-toggleable__control sk-hidden--visually\" id=\"sk-estimator-id-21\" type=\"checkbox\" checked><label for=\"sk-estimator-id-21\" class=\"sk-toggleable__label sk-toggleable__label-arrow\">XGBClassifier</label><div class=\"sk-toggleable__content\"><pre>XGBClassifier(base_score=0.5, booster=&#x27;gbtree&#x27;, colsample_bylevel=1,\n",
       "              colsample_bynode=1, colsample_bytree=1, enable_categorical=False,\n",
       "              gamma=0, gpu_id=-1, importance_type=None,\n",
       "              interaction_constraints=&#x27;&#x27;, learning_rate=0.300000012,\n",
       "              max_delta_step=0, max_depth=6, min_child_weight=1, missing=nan,\n",
       "              monotone_constraints=&#x27;()&#x27;, n_estimators=100, n_jobs=8,\n",
       "              num_parallel_tree=1, predictor=&#x27;auto&#x27;, random_state=0,\n",
       "              reg_alpha=0, reg_lambda=1, scale_pos_weight=1, subsample=1,\n",
       "              tree_method=&#x27;exact&#x27;, validate_parameters=1, verbosity=None)</pre></div></div></div></div></div>"
      ],
      "text/plain": [
       "XGBClassifier(base_score=0.5, booster='gbtree', colsample_bylevel=1,\n",
       "              colsample_bynode=1, colsample_bytree=1, enable_categorical=False,\n",
       "              gamma=0, gpu_id=-1, importance_type=None,\n",
       "              interaction_constraints='', learning_rate=0.300000012,\n",
       "              max_delta_step=0, max_depth=6, min_child_weight=1, missing=nan,\n",
       "              monotone_constraints='()', n_estimators=100, n_jobs=8,\n",
       "              num_parallel_tree=1, predictor='auto', random_state=0,\n",
       "              reg_alpha=0, reg_lambda=1, scale_pos_weight=1, subsample=1,\n",
       "              tree_method='exact', validate_parameters=1, verbosity=None)"
      ]
     },
     "execution_count": 455,
     "metadata": {},
     "output_type": "execute_result"
    }
   ],
   "source": [
    "model = xgb.XGBClassifier()\n",
    "model.fit(X_train, y_train)"
   ]
  },
  {
   "cell_type": "code",
   "execution_count": 456,
   "metadata": {},
   "outputs": [],
   "source": [
    "preds = model.predict(X_test)"
   ]
  },
  {
   "cell_type": "markdown",
   "metadata": {},
   "source": [
    "### Model 1's confusion matrix"
   ]
  },
  {
   "cell_type": "code",
   "execution_count": 457,
   "metadata": {},
   "outputs": [
    {
     "data": {
      "text/plain": [
       "<sklearn.metrics._plot.confusion_matrix.ConfusionMatrixDisplay at 0x1698d66d0>"
      ]
     },
     "execution_count": 457,
     "metadata": {},
     "output_type": "execute_result"
    },
    {
     "data": {
      "image/png": "[encoded data removed]",
      "text/plain": [
       "<Figure size 640x480 with 2 Axes>"
      ]
     },
     "metadata": {},
     "output_type": "display_data"
    }
   ],
   "source": [
    "cm = confusion_matrix(y_true=y_test, y_pred=preds)\n",
    "disp = ConfusionMatrixDisplay(confusion_matrix=cm, display_labels=model.classes_)\n",
    "\n",
    "disp.plot(cmap='Blues')"
   ]
  },
  {
   "cell_type": "code",
   "execution_count": 458,
   "metadata": {},
   "outputs": [
    {
     "name": "stdout",
     "output_type": "stream",
     "text": [
      "Accuracy:  65.11\n"
     ]
    }
   ],
   "source": [
    "accuracy = accuracy_score(y_true=y_test, y_pred=preds)\n",
    "print(f\"Accuracy: {accuracy * 100.0 : .2f}\")"
   ]
  },
  {
   "cell_type": "markdown",
   "metadata": {},
   "source": [
    "### Model 1's feature importance"
   ]
  },
  {
   "cell_type": "code",
   "execution_count": 459,
   "metadata": {},
   "outputs": [
    {
     "data": {
      "text/plain": [
       "<AxesSubplot: title={'center': 'Feature importance'}, xlabel='F score', ylabel='Features'>"
      ]
     },
     "execution_count": 459,
     "metadata": {},
     "output_type": "execute_result"
    },
    {
     "data": {
      "image/png": "[encoded data removed]",
      "text/plain": [
       "<Figure size 640x480 with 1 Axes>"
      ]
     },
     "metadata": {},
     "output_type": "display_data"
    }
   ],
   "source": [
    "xgb.plot_importance(model)"
   ]
  },
  {
   "cell_type": "markdown",
   "metadata": {},
   "source": [
    "## Creating model 2"
   ]
  },
  {
   "cell_type": "code",
   "execution_count": 460,
   "metadata": {},
   "outputs": [
    {
     "name": "stderr",
     "output_type": "stream",
     "text": [
      "\u001b[32m[I 2022-12-02 23:04:05,164]\u001b[0m A new study created in memory with name: no-name-9d66ed35-9686-4e46-8995-65f54ebc0e18\u001b[0m\n",
      "/opt/miniconda3/envs/billettkontroll/lib/python3.8/site-packages/xgboost/data.py:250: FutureWarning: pandas.Int64Index is deprecated and will be removed from pandas in a future version. Use pandas.Index with the appropriate dtype instead.\n",
      "  elif isinstance(data.columns, (pd.Int64Index, pd.RangeIndex)):\n",
      "\u001b[32m[I 2022-12-02 23:04:05,379]\u001b[0m Trial 0 finished with value: 0.615729218516675 and parameters: {'max_depth': 4, 'learning_rate': 0.9664611671806762, 'n_estimators': 422, 'min_child_weight': 9, 'gamma': 0.0009052855113890095, 'subsample': 0.01504011341246551, 'colsample_bytree': 0.025315182010990468, 'reg_alpha': 0.0016316050378446085, 'reg_lambda': 0.0005730391744932348}. Best is trial 0 with value: 0.615729218516675.\u001b[0m\n",
      "/opt/miniconda3/envs/billettkontroll/lib/python3.8/site-packages/xgboost/data.py:250: FutureWarning: pandas.Int64Index is deprecated and will be removed from pandas in a future version. Use pandas.Index with the appropriate dtype instead.\n",
      "  elif isinstance(data.columns, (pd.Int64Index, pd.RangeIndex)):\n",
      "\u001b[32m[I 2022-12-02 23:04:05,498]\u001b[0m Trial 1 finished with value: 0.6475858636137382 and parameters: {'max_depth': 1, 'learning_rate': 0.887797613405587, 'n_estimators': 258, 'min_child_weight': 7, 'gamma': 0.00048748992469090514, 'subsample': 0.016419695043930923, 'colsample_bytree': 0.0577473346556207, 'reg_alpha': 0.5374713389094941, 'reg_lambda': 0.00048497467607642433}. Best is trial 1 with value: 0.6475858636137382.\u001b[0m\n",
      "/opt/miniconda3/envs/billettkontroll/lib/python3.8/site-packages/xgboost/data.py:250: FutureWarning: pandas.Int64Index is deprecated and will be removed from pandas in a future version. Use pandas.Index with the appropriate dtype instead.\n",
      "  elif isinstance(data.columns, (pd.Int64Index, pd.RangeIndex)):\n",
      "\u001b[32m[I 2022-12-02 23:04:05,870]\u001b[0m Trial 2 finished with value: 0.6640119462419114 and parameters: {'max_depth': 3, 'learning_rate': 0.01899806068317831, 'n_estimators': 360, 'min_child_weight': 10, 'gamma': 1.4453036233073618e-05, 'subsample': 0.6126044623401689, 'colsample_bytree': 0.04729234093083031, 'reg_alpha': 5.156163581128273e-05, 'reg_lambda': 0.044529217475158166}. Best is trial 2 with value: 0.6640119462419114.\u001b[0m\n",
      "/opt/miniconda3/envs/billettkontroll/lib/python3.8/site-packages/xgboost/data.py:250: FutureWarning: pandas.Int64Index is deprecated and will be removed from pandas in a future version. Use pandas.Index with the appropriate dtype instead.\n",
      "  elif isinstance(data.columns, (pd.Int64Index, pd.RangeIndex)):\n",
      "\u001b[32m[I 2022-12-02 23:04:06,503]\u001b[0m Trial 3 finished with value: 0.605276256844201 and parameters: {'max_depth': 6, 'learning_rate': 0.41036480878689563, 'n_estimators': 316, 'min_child_weight': 4, 'gamma': 0.7374304229030434, 'subsample': 0.1520935452588849, 'colsample_bytree': 0.5760816867860341, 'reg_alpha': 0.00010114089956971945, 'reg_lambda': 0.45882333715165263}. Best is trial 2 with value: 0.6640119462419114.\u001b[0m\n",
      "/opt/miniconda3/envs/billettkontroll/lib/python3.8/site-packages/xgboost/data.py:250: FutureWarning: pandas.Int64Index is deprecated and will be removed from pandas in a future version. Use pandas.Index with the appropriate dtype instead.\n",
      "  elif isinstance(data.columns, (pd.Int64Index, pd.RangeIndex)):\n",
      "\u001b[32m[I 2022-12-02 23:04:06,674]\u001b[0m Trial 4 finished with value: 0.6152314584370333 and parameters: {'max_depth': 7, 'learning_rate': 0.015476587534712673, 'n_estimators': 325, 'min_child_weight': 10, 'gamma': 0.7219398934698237, 'subsample': 0.016257058736203225, 'colsample_bytree': 0.05544896835743932, 'reg_alpha': 9.178461930601913e-06, 'reg_lambda': 1.0585632019986845e-07}. Best is trial 2 with value: 0.6640119462419114.\u001b[0m\n",
      "/opt/miniconda3/envs/billettkontroll/lib/python3.8/site-packages/xgboost/data.py:250: FutureWarning: pandas.Int64Index is deprecated and will be removed from pandas in a future version. Use pandas.Index with the appropriate dtype instead.\n",
      "  elif isinstance(data.columns, (pd.Int64Index, pd.RangeIndex)):\n",
      "\u001b[32m[I 2022-12-02 23:04:06,913]\u001b[0m Trial 5 finished with value: 0.6650074664011946 and parameters: {'max_depth': 2, 'learning_rate': 0.12057275555156688, 'n_estimators': 382, 'min_child_weight': 3, 'gamma': 0.15024331410887465, 'subsample': 0.04885585342079947, 'colsample_bytree': 0.17966094371882027, 'reg_alpha': 3.1381486725982465e-05, 'reg_lambda': 4.2552075559614916e-05}. Best is trial 5 with value: 0.6650074664011946.\u001b[0m\n",
      "/opt/miniconda3/envs/billettkontroll/lib/python3.8/site-packages/xgboost/data.py:250: FutureWarning: pandas.Int64Index is deprecated and will be removed from pandas in a future version. Use pandas.Index with the appropriate dtype instead.\n",
      "  elif isinstance(data.columns, (pd.Int64Index, pd.RangeIndex)):\n",
      "\u001b[32m[I 2022-12-02 23:04:07,881]\u001b[0m Trial 6 finished with value: 0.6590343454454952 and parameters: {'max_depth': 9, 'learning_rate': 0.010211590744897298, 'n_estimators': 438, 'min_child_weight': 10, 'gamma': 1.2831235592644156e-05, 'subsample': 0.33475341502030637, 'colsample_bytree': 0.47923030319076626, 'reg_alpha': 0.0008132685444749297, 'reg_lambda': 0.0002894678514520975}. Best is trial 5 with value: 0.6650074664011946.\u001b[0m\n",
      "/opt/miniconda3/envs/billettkontroll/lib/python3.8/site-packages/xgboost/data.py:250: FutureWarning: pandas.Int64Index is deprecated and will be removed from pandas in a future version. Use pandas.Index with the appropriate dtype instead.\n",
      "  elif isinstance(data.columns, (pd.Int64Index, pd.RangeIndex)):\n",
      "\u001b[32m[I 2022-12-02 23:04:08,200]\u001b[0m Trial 7 finished with value: 0.6207068193130911 and parameters: {'max_depth': 7, 'learning_rate': 0.5633017525787356, 'n_estimators': 279, 'min_child_weight': 3, 'gamma': 0.00031073519967359935, 'subsample': 0.1654665035289562, 'colsample_bytree': 0.011235245063155956, 'reg_alpha': 0.400160255670671, 'reg_lambda': 0.0010240223874114602}. Best is trial 5 with value: 0.6650074664011946.\u001b[0m\n",
      "/opt/miniconda3/envs/billettkontroll/lib/python3.8/site-packages/xgboost/data.py:250: FutureWarning: pandas.Int64Index is deprecated and will be removed from pandas in a future version. Use pandas.Index with the appropriate dtype instead.\n",
      "  elif isinstance(data.columns, (pd.Int64Index, pd.RangeIndex)):\n",
      "\u001b[32m[I 2022-12-02 23:04:08,641]\u001b[0m Trial 8 finished with value: 0.6595321055251369 and parameters: {'max_depth': 4, 'learning_rate': 0.03244867843234416, 'n_estimators': 489, 'min_child_weight': 4, 'gamma': 7.503322332980424e-08, 'subsample': 0.1970018125351877, 'colsample_bytree': 0.08418069564255296, 'reg_alpha': 0.05662162252724193, 'reg_lambda': 3.585695328312959e-08}. Best is trial 5 with value: 0.6650074664011946.\u001b[0m\n",
      "/opt/miniconda3/envs/billettkontroll/lib/python3.8/site-packages/xgboost/data.py:250: FutureWarning: pandas.Int64Index is deprecated and will be removed from pandas in a future version. Use pandas.Index with the appropriate dtype instead.\n",
      "  elif isinstance(data.columns, (pd.Int64Index, pd.RangeIndex)):\n",
      "\u001b[32m[I 2022-12-02 23:04:08,810]\u001b[0m Trial 9 finished with value: 0.6694873071179691 and parameters: {'max_depth': 2, 'learning_rate': 0.08864895238433176, 'n_estimators': 290, 'min_child_weight': 6, 'gamma': 0.1688011000775091, 'subsample': 0.04295997614079436, 'colsample_bytree': 0.03056004132897841, 'reg_alpha': 3.5183404880886735e-07, 'reg_lambda': 0.2900537358686614}. Best is trial 9 with value: 0.6694873071179691.\u001b[0m\n",
      "/opt/miniconda3/envs/billettkontroll/lib/python3.8/site-packages/xgboost/data.py:250: FutureWarning: pandas.Int64Index is deprecated and will be removed from pandas in a future version. Use pandas.Index with the appropriate dtype instead.\n",
      "  elif isinstance(data.columns, (pd.Int64Index, pd.RangeIndex)):\n",
      "\u001b[32m[I 2022-12-02 23:04:08,885]\u001b[0m Trial 10 finished with value: 0.664509706321553 and parameters: {'max_depth': 1, 'learning_rate': 0.09756491446684457, 'n_estimators': 135, 'min_child_weight': 1, 'gamma': 0.01565072266531064, 'subsample': 0.04888847041873955, 'colsample_bytree': 0.011486921501053097, 'reg_alpha': 3.2464548148625895e-08, 'reg_lambda': 4.364085181194114e-06}. Best is trial 9 with value: 0.6694873071179691.\u001b[0m\n",
      "/opt/miniconda3/envs/billettkontroll/lib/python3.8/site-packages/xgboost/data.py:250: FutureWarning: pandas.Int64Index is deprecated and will be removed from pandas in a future version. Use pandas.Index with the appropriate dtype instead.\n",
      "  elif isinstance(data.columns, (pd.Int64Index, pd.RangeIndex)):\n",
      "\u001b[32m[I 2022-12-02 23:04:08,971]\u001b[0m Trial 11 finished with value: 0.6635141861622698 and parameters: {'max_depth': 2, 'learning_rate': 0.17329042009029713, 'n_estimators': 137, 'min_child_weight': 6, 'gamma': 0.04347737412198292, 'subsample': 0.050949008995169597, 'colsample_bytree': 0.2052856796471513, 'reg_alpha': 2.963442953486318e-07, 'reg_lambda': 3.5834368612814907e-06}. Best is trial 9 with value: 0.6694873071179691.\u001b[0m\n",
      "/opt/miniconda3/envs/billettkontroll/lib/python3.8/site-packages/xgboost/data.py:250: FutureWarning: pandas.Int64Index is deprecated and will be removed from pandas in a future version. Use pandas.Index with the appropriate dtype instead.\n",
      "  elif isinstance(data.columns, (pd.Int64Index, pd.RangeIndex)):\n",
      "\u001b[32m[I 2022-12-02 23:04:09,140]\u001b[0m Trial 12 finished with value: 0.6565455450472872 and parameters: {'max_depth': 3, 'learning_rate': 0.07252846212832542, 'n_estimators': 210, 'min_child_weight': 1, 'gamma': 0.02087885013387254, 'subsample': 0.04619989875671931, 'colsample_bytree': 0.19473399703070676, 'reg_alpha': 1.0384141407695842e-06, 'reg_lambda': 0.024398033331719644}. Best is trial 9 with value: 0.6694873071179691.\u001b[0m\n",
      "/opt/miniconda3/envs/billettkontroll/lib/python3.8/site-packages/xgboost/data.py:250: FutureWarning: pandas.Int64Index is deprecated and will be removed from pandas in a future version. Use pandas.Index with the appropriate dtype instead.\n",
      "  elif isinstance(data.columns, (pd.Int64Index, pd.RangeIndex)):\n",
      "\u001b[32m[I 2022-12-02 23:04:09,185]\u001b[0m Trial 13 finished with value: 0.658038825286212 and parameters: {'max_depth': 2, 'learning_rate': 0.21367879972959833, 'n_estimators': 52, 'min_child_weight': 7, 'gamma': 0.07659184060322727, 'subsample': 0.0776314363314677, 'colsample_bytree': 0.16040876107416885, 'reg_alpha': 1.0375038397454217e-08, 'reg_lambda': 6.184068316912644e-06}. Best is trial 9 with value: 0.6694873071179691.\u001b[0m\n",
      "/opt/miniconda3/envs/billettkontroll/lib/python3.8/site-packages/xgboost/data.py:250: FutureWarning: pandas.Int64Index is deprecated and will be removed from pandas in a future version. Use pandas.Index with the appropriate dtype instead.\n",
      "  elif isinstance(data.columns, (pd.Int64Index, pd.RangeIndex)):\n",
      "\u001b[32m[I 2022-12-02 23:04:09,519]\u001b[0m Trial 14 finished with value: 0.664509706321553 and parameters: {'max_depth': 5, 'learning_rate': 0.0497929839787112, 'n_estimators': 383, 'min_child_weight': 3, 'gamma': 0.004998991196175474, 'subsample': 0.02980126763039308, 'colsample_bytree': 0.024987379699184502, 'reg_alpha': 6.873096296342745e-07, 'reg_lambda': 0.008469072751930594}. Best is trial 9 with value: 0.6694873071179691.\u001b[0m\n",
      "/opt/miniconda3/envs/billettkontroll/lib/python3.8/site-packages/xgboost/data.py:250: FutureWarning: pandas.Int64Index is deprecated and will be removed from pandas in a future version. Use pandas.Index with the appropriate dtype instead.\n",
      "  elif isinstance(data.columns, (pd.Int64Index, pd.RangeIndex)):\n",
      "\u001b[32m[I 2022-12-02 23:04:09,660]\u001b[0m Trial 15 finished with value: 0.6610253857640617 and parameters: {'max_depth': 2, 'learning_rate': 0.16059735264017824, 'n_estimators': 227, 'min_child_weight': 5, 'gamma': 1.121150835683513e-08, 'subsample': 0.02681808114562308, 'colsample_bytree': 0.9538136875124318, 'reg_alpha': 6.476349525162535e-06, 'reg_lambda': 3.0343063483439392e-05}. Best is trial 9 with value: 0.6694873071179691.\u001b[0m\n",
      "/opt/miniconda3/envs/billettkontroll/lib/python3.8/site-packages/xgboost/data.py:250: FutureWarning: pandas.Int64Index is deprecated and will be removed from pandas in a future version. Use pandas.Index with the appropriate dtype instead.\n",
      "  elif isinstance(data.columns, (pd.Int64Index, pd.RangeIndex)):\n",
      "\u001b[32m[I 2022-12-02 23:04:09,983]\u001b[0m Trial 16 finished with value: 0.6625186660029866 and parameters: {'max_depth': 3, 'learning_rate': 0.04599354304215525, 'n_estimators': 400, 'min_child_weight': 8, 'gamma': 2.20859301214492e-05, 'subsample': 0.09442571844242859, 'colsample_bytree': 0.023920821966029918, 'reg_alpha': 1.1486536733112188e-07, 'reg_lambda': 6.743793047643558e-07}. Best is trial 9 with value: 0.6694873071179691.\u001b[0m\n",
      "/opt/miniconda3/envs/billettkontroll/lib/python3.8/site-packages/xgboost/data.py:250: FutureWarning: pandas.Int64Index is deprecated and will be removed from pandas in a future version. Use pandas.Index with the appropriate dtype instead.\n",
      "  elif isinstance(data.columns, (pd.Int64Index, pd.RangeIndex)):\n",
      "\u001b[32m[I 2022-12-02 23:04:10,187]\u001b[0m Trial 17 finished with value: 0.6515679442508711 and parameters: {'max_depth': 1, 'learning_rate': 0.2914696213143655, 'n_estimators': 487, 'min_child_weight': 2, 'gamma': 7.416882939940597e-07, 'subsample': 0.010614099427853239, 'colsample_bytree': 0.3505625416420806, 'reg_alpha': 0.0020197202367585967, 'reg_lambda': 0.3850719558634972}. Best is trial 9 with value: 0.6694873071179691.\u001b[0m\n",
      "/opt/miniconda3/envs/billettkontroll/lib/python3.8/site-packages/xgboost/data.py:250: FutureWarning: pandas.Int64Index is deprecated and will be removed from pandas in a future version. Use pandas.Index with the appropriate dtype instead.\n",
      "  elif isinstance(data.columns, (pd.Int64Index, pd.RangeIndex)):\n",
      "\u001b[32m[I 2022-12-02 23:04:10,498]\u001b[0m Trial 18 finished with value: 0.6560477849676456 and parameters: {'max_depth': 4, 'learning_rate': 0.1121708815479253, 'n_estimators': 329, 'min_child_weight': 5, 'gamma': 0.0032158523099128245, 'subsample': 0.9951443774450062, 'colsample_bytree': 0.14092335399615172, 'reg_alpha': 1.1946344601464645e-05, 'reg_lambda': 3.565682991861005e-05}. Best is trial 9 with value: 0.6694873071179691.\u001b[0m\n",
      "/opt/miniconda3/envs/billettkontroll/lib/python3.8/site-packages/xgboost/data.py:250: FutureWarning: pandas.Int64Index is deprecated and will be removed from pandas in a future version. Use pandas.Index with the appropriate dtype instead.\n",
      "  elif isinstance(data.columns, (pd.Int64Index, pd.RangeIndex)):\n",
      "\u001b[32m[I 2022-12-02 23:04:10,612]\u001b[0m Trial 19 finished with value: 0.6689895470383276 and parameters: {'max_depth': 2, 'learning_rate': 0.07512712972862186, 'n_estimators': 183, 'min_child_weight': 6, 'gamma': 0.23483766294746886, 'subsample': 0.029779561440635493, 'colsample_bytree': 0.1068797034717312, 'reg_alpha': 2.0533671277526993e-06, 'reg_lambda': 0.00393645130986373}. Best is trial 9 with value: 0.6694873071179691.\u001b[0m\n",
      "/opt/miniconda3/envs/billettkontroll/lib/python3.8/site-packages/xgboost/data.py:250: FutureWarning: pandas.Int64Index is deprecated and will be removed from pandas in a future version. Use pandas.Index with the appropriate dtype instead.\n",
      "  elif isinstance(data.columns, (pd.Int64Index, pd.RangeIndex)):\n",
      "\u001b[32m[I 2022-12-02 23:04:10,751]\u001b[0m Trial 20 finished with value: 0.6600298656047785 and parameters: {'max_depth': 5, 'learning_rate': 0.030711772933446103, 'n_estimators': 166, 'min_child_weight': 6, 'gamma': 0.23356602558446188, 'subsample': 0.028901391803117474, 'colsample_bytree': 0.03824973845259209, 'reg_alpha': 1.986679082812224e-06, 'reg_lambda': 0.0049516315003749435}. Best is trial 9 with value: 0.6694873071179691.\u001b[0m\n",
      "/opt/miniconda3/envs/billettkontroll/lib/python3.8/site-packages/xgboost/data.py:250: FutureWarning: pandas.Int64Index is deprecated and will be removed from pandas in a future version. Use pandas.Index with the appropriate dtype instead.\n",
      "  elif isinstance(data.columns, (pd.Int64Index, pd.RangeIndex)):\n",
      "\u001b[32m[I 2022-12-02 23:04:10,918]\u001b[0m Trial 21 finished with value: 0.6640119462419114 and parameters: {'max_depth': 2, 'learning_rate': 0.08064628800718215, 'n_estimators': 199, 'min_child_weight': 7, 'gamma': 0.17003133430456738, 'subsample': 0.06692493885370497, 'colsample_bytree': 0.10873855476816303, 'reg_alpha': 2.952241272951071e-05, 'reg_lambda': 0.040711675164932994}. Best is trial 9 with value: 0.6694873071179691.\u001b[0m\n",
      "/opt/miniconda3/envs/billettkontroll/lib/python3.8/site-packages/xgboost/data.py:250: FutureWarning: pandas.Int64Index is deprecated and will be removed from pandas in a future version. Use pandas.Index with the appropriate dtype instead.\n",
      "  elif isinstance(data.columns, (pd.Int64Index, pd.RangeIndex)):\n",
      "\u001b[32m[I 2022-12-02 23:04:11,124]\u001b[0m Trial 22 finished with value: 0.655550024888004 and parameters: {'max_depth': 3, 'learning_rate': 0.13026088181348694, 'n_estimators': 279, 'min_child_weight': 4, 'gamma': 0.005608653528240741, 'subsample': 0.034879105968747694, 'colsample_bytree': 0.08574817099915936, 'reg_alpha': 0.00022799751757630508, 'reg_lambda': 0.9640244680453818}. Best is trial 9 with value: 0.6694873071179691.\u001b[0m\n",
      "/opt/miniconda3/envs/billettkontroll/lib/python3.8/site-packages/xgboost/data.py:250: FutureWarning: pandas.Int64Index is deprecated and will be removed from pandas in a future version. Use pandas.Index with the appropriate dtype instead.\n",
      "  elif isinstance(data.columns, (pd.Int64Index, pd.RangeIndex)):\n",
      "\u001b[32m[I 2022-12-02 23:04:11,170]\u001b[0m Trial 23 finished with value: 0.6411149825783972 and parameters: {'max_depth': 1, 'learning_rate': 0.05497820682636886, 'n_estimators': 84, 'min_child_weight': 6, 'gamma': 0.8164984215462748, 'subsample': 0.020383578713628465, 'colsample_bytree': 0.30496727088083364, 'reg_alpha': 8.261709952581508e-08, 'reg_lambda': 0.08076953375248452}. Best is trial 9 with value: 0.6694873071179691.\u001b[0m\n",
      "/opt/miniconda3/envs/billettkontroll/lib/python3.8/site-packages/xgboost/data.py:250: FutureWarning: pandas.Int64Index is deprecated and will be removed from pandas in a future version. Use pandas.Index with the appropriate dtype instead.\n",
      "  elif isinstance(data.columns, (pd.Int64Index, pd.RangeIndex)):\n",
      "\u001b[32m[I 2022-12-02 23:04:11,339]\u001b[0m Trial 24 finished with value: 0.6640119462419114 and parameters: {'max_depth': 2, 'learning_rate': 0.0827844398538573, 'n_estimators': 234, 'min_child_weight': 8, 'gamma': 0.11765182021608703, 'subsample': 0.126042499317646, 'colsample_bytree': 0.25594908462399, 'reg_alpha': 3.160277589405692e-06, 'reg_lambda': 0.0035261270694025705}. Best is trial 9 with value: 0.6694873071179691.\u001b[0m\n",
      "/opt/miniconda3/envs/billettkontroll/lib/python3.8/site-packages/xgboost/data.py:250: FutureWarning: pandas.Int64Index is deprecated and will be removed from pandas in a future version. Use pandas.Index with the appropriate dtype instead.\n",
      "  elif isinstance(data.columns, (pd.Int64Index, pd.RangeIndex)):\n",
      "\u001b[32m[I 2022-12-02 23:04:11,625]\u001b[0m Trial 25 finished with value: 0.6560477849676456 and parameters: {'max_depth': 3, 'learning_rate': 0.2838266394767763, 'n_estimators': 359, 'min_child_weight': 5, 'gamma': 0.016768216748471496, 'subsample': 0.05879325525672264, 'colsample_bytree': 0.1310409418995131, 'reg_alpha': 4.729813853519385e-07, 'reg_lambda': 0.00010951833756604833}. Best is trial 9 with value: 0.6694873071179691.\u001b[0m\n",
      "/opt/miniconda3/envs/billettkontroll/lib/python3.8/site-packages/xgboost/data.py:250: FutureWarning: pandas.Int64Index is deprecated and will be removed from pandas in a future version. Use pandas.Index with the appropriate dtype instead.\n",
      "  elif isinstance(data.columns, (pd.Int64Index, pd.RangeIndex)):\n",
      "\u001b[32m[I 2022-12-02 23:04:11,884]\u001b[0m Trial 26 finished with value: 0.662020905923345 and parameters: {'max_depth': 4, 'learning_rate': 0.03397129054291995, 'n_estimators': 303, 'min_child_weight': 3, 'gamma': 0.001929089912919623, 'subsample': 0.04050152178155951, 'colsample_bytree': 0.017026082640943064, 'reg_alpha': 0.000246711541723493, 'reg_lambda': 0.1599406351200277}. Best is trial 9 with value: 0.6694873071179691.\u001b[0m\n",
      "/opt/miniconda3/envs/billettkontroll/lib/python3.8/site-packages/xgboost/data.py:250: FutureWarning: pandas.Int64Index is deprecated and will be removed from pandas in a future version. Use pandas.Index with the appropriate dtype instead.\n",
      "  elif isinstance(data.columns, (pd.Int64Index, pd.RangeIndex)):\n",
      "\u001b[32m[I 2022-12-02 23:04:12,016]\u001b[0m Trial 27 finished with value: 0.6689895470383276 and parameters: {'max_depth': 9, 'learning_rate': 0.06214015917808894, 'n_estimators': 178, 'min_child_weight': 8, 'gamma': 0.21084036473983167, 'subsample': 0.022303965220904064, 'colsample_bytree': 0.06986894817987742, 'reg_alpha': 0.00944889746566464, 'reg_lambda': 0.0019522137568159157}. Best is trial 9 with value: 0.6694873071179691.\u001b[0m\n",
      "/opt/miniconda3/envs/billettkontroll/lib/python3.8/site-packages/xgboost/data.py:250: FutureWarning: pandas.Int64Index is deprecated and will be removed from pandas in a future version. Use pandas.Index with the appropriate dtype instead.\n",
      "  elif isinstance(data.columns, (pd.Int64Index, pd.RangeIndex)):\n",
      "\u001b[32m[I 2022-12-02 23:04:12,151]\u001b[0m Trial 28 finished with value: 0.6660029865604778 and parameters: {'max_depth': 9, 'learning_rate': 0.05392892623517369, 'n_estimators': 178, 'min_child_weight': 8, 'gamma': 7.031489408258851e-05, 'subsample': 0.02253631334502904, 'colsample_bytree': 0.06992867601365708, 'reg_alpha': 0.02374709050010653, 'reg_lambda': 0.0018614813135840902}. Best is trial 9 with value: 0.6694873071179691.\u001b[0m\n",
      "/opt/miniconda3/envs/billettkontroll/lib/python3.8/site-packages/xgboost/data.py:250: FutureWarning: pandas.Int64Index is deprecated and will be removed from pandas in a future version. Use pandas.Index with the appropriate dtype instead.\n",
      "  elif isinstance(data.columns, (pd.Int64Index, pd.RangeIndex)):\n",
      "\u001b[32m[I 2022-12-02 23:04:12,217]\u001b[0m Trial 29 finished with value: 0.6152314584370333 and parameters: {'max_depth': 8, 'learning_rate': 0.021924536576105994, 'n_estimators': 123, 'min_child_weight': 9, 'gamma': 0.044106990647919404, 'subsample': 0.01049509191689658, 'colsample_bytree': 0.03930434083129472, 'reg_alpha': 0.01022253308222756, 'reg_lambda': 0.01753410282809253}. Best is trial 9 with value: 0.6694873071179691.\u001b[0m\n",
      "/opt/miniconda3/envs/billettkontroll/lib/python3.8/site-packages/xgboost/data.py:250: FutureWarning: pandas.Int64Index is deprecated and will be removed from pandas in a future version. Use pandas.Index with the appropriate dtype instead.\n",
      "  elif isinstance(data.columns, (pd.Int64Index, pd.RangeIndex)):\n",
      "\u001b[32m[I 2022-12-02 23:04:12,310]\u001b[0m Trial 30 finished with value: 0.6152314584370333 and parameters: {'max_depth': 6, 'learning_rate': 0.03663342785119092, 'n_estimators': 169, 'min_child_weight': 9, 'gamma': 0.0010589383561912177, 'subsample': 0.014293543380530457, 'colsample_bytree': 0.018613585746280113, 'reg_alpha': 0.0034705074437906642, 'reg_lambda': 0.15468462784005757}. Best is trial 9 with value: 0.6694873071179691.\u001b[0m\n",
      "/opt/miniconda3/envs/billettkontroll/lib/python3.8/site-packages/xgboost/data.py:250: FutureWarning: pandas.Int64Index is deprecated and will be removed from pandas in a future version. Use pandas.Index with the appropriate dtype instead.\n",
      "  elif isinstance(data.columns, (pd.Int64Index, pd.RangeIndex)):\n",
      "\u001b[32m[I 2022-12-02 23:04:12,469]\u001b[0m Trial 31 finished with value: 0.6630164260826281 and parameters: {'max_depth': 9, 'learning_rate': 0.06536538689770631, 'n_estimators': 168, 'min_child_weight': 8, 'gamma': 0.0001767959280680008, 'subsample': 0.025385960809393867, 'colsample_bytree': 0.07418651466238335, 'reg_alpha': 0.05791857657692678, 'reg_lambda': 0.0018232854647827173}. Best is trial 9 with value: 0.6694873071179691.\u001b[0m\n",
      "/opt/miniconda3/envs/billettkontroll/lib/python3.8/site-packages/xgboost/data.py:250: FutureWarning: pandas.Int64Index is deprecated and will be removed from pandas in a future version. Use pandas.Index with the appropriate dtype instead.\n",
      "  elif isinstance(data.columns, (pd.Int64Index, pd.RangeIndex)):\n",
      "\u001b[32m[I 2022-12-02 23:04:12,661]\u001b[0m Trial 32 finished with value: 0.6635141861622698 and parameters: {'max_depth': 9, 'learning_rate': 0.05849560612733756, 'n_estimators': 257, 'min_child_weight': 8, 'gamma': 7.87565335801124e-05, 'subsample': 0.02292267875176766, 'colsample_bytree': 0.034182299060637016, 'reg_alpha': 0.021801357904637424, 'reg_lambda': 0.000546823368058287}. Best is trial 9 with value: 0.6694873071179691.\u001b[0m\n",
      "/opt/miniconda3/envs/billettkontroll/lib/python3.8/site-packages/xgboost/data.py:250: FutureWarning: pandas.Int64Index is deprecated and will be removed from pandas in a future version. Use pandas.Index with the appropriate dtype instead.\n",
      "  elif isinstance(data.columns, (pd.Int64Index, pd.RangeIndex)):\n",
      "\u001b[32m[I 2022-12-02 23:04:12,737]\u001b[0m Trial 33 finished with value: 0.6291687406669985 and parameters: {'max_depth': 8, 'learning_rate': 0.04642107269456238, 'n_estimators': 97, 'min_child_weight': 7, 'gamma': 3.3906922306065675e-06, 'subsample': 0.019495776659058387, 'colsample_bytree': 0.06614025327738396, 'reg_alpha': 0.26219425217458925, 'reg_lambda': 0.0001513931966731938}. Best is trial 9 with value: 0.6694873071179691.\u001b[0m\n",
      "/opt/miniconda3/envs/billettkontroll/lib/python3.8/site-packages/xgboost/data.py:250: FutureWarning: pandas.Int64Index is deprecated and will be removed from pandas in a future version. Use pandas.Index with the appropriate dtype instead.\n",
      "  elif isinstance(data.columns, (pd.Int64Index, pd.RangeIndex)):\n",
      "\u001b[32m[I 2022-12-02 23:04:12,855]\u001b[0m Trial 34 finished with value: 0.6570433051269288 and parameters: {'max_depth': 8, 'learning_rate': 0.09626282154793178, 'n_estimators': 195, 'min_child_weight': 7, 'gamma': 7.866478721374753e-05, 'subsample': 0.014132421872865928, 'colsample_bytree': 0.10797364882742307, 'reg_alpha': 0.006031990777570432, 'reg_lambda': 0.0018445423175103197}. Best is trial 9 with value: 0.6694873071179691.\u001b[0m\n",
      "/opt/miniconda3/envs/billettkontroll/lib/python3.8/site-packages/xgboost/data.py:250: FutureWarning: pandas.Int64Index is deprecated and will be removed from pandas in a future version. Use pandas.Index with the appropriate dtype instead.\n",
      "  elif isinstance(data.columns, (pd.Int64Index, pd.RangeIndex)):\n",
      "\u001b[32m[I 2022-12-02 23:04:13,009]\u001b[0m Trial 35 finished with value: 0.6406172224987556 and parameters: {'max_depth': 7, 'learning_rate': 0.022034247454996284, 'n_estimators': 252, 'min_child_weight': 9, 'gamma': 0.3388896876503629, 'subsample': 0.017912320174624706, 'colsample_bytree': 0.05140626526915822, 'reg_alpha': 0.0005921312072008947, 'reg_lambda': 0.012298410735610166}. Best is trial 9 with value: 0.6694873071179691.\u001b[0m\n",
      "/opt/miniconda3/envs/billettkontroll/lib/python3.8/site-packages/xgboost/data.py:250: FutureWarning: pandas.Int64Index is deprecated and will be removed from pandas in a future version. Use pandas.Index with the appropriate dtype instead.\n",
      "  elif isinstance(data.columns, (pd.Int64Index, pd.RangeIndex)):\n",
      "\u001b[32m[I 2022-12-02 23:04:13,159]\u001b[0m Trial 36 finished with value: 0.6635141861622698 and parameters: {'max_depth': 6, 'learning_rate': 0.06678415857782692, 'n_estimators': 182, 'min_child_weight': 6, 'gamma': 2.1769366057704823e-06, 'subsample': 0.038168957994072134, 'colsample_bytree': 0.06075709061635448, 'reg_alpha': 0.07457630438396919, 'reg_lambda': 0.00037997580919450324}. Best is trial 9 with value: 0.6694873071179691.\u001b[0m\n",
      "/opt/miniconda3/envs/billettkontroll/lib/python3.8/site-packages/xgboost/data.py:250: FutureWarning: pandas.Int64Index is deprecated and will be removed from pandas in a future version. Use pandas.Index with the appropriate dtype instead.\n",
      "  elif isinstance(data.columns, (pd.Int64Index, pd.RangeIndex)):\n",
      "\u001b[32m[I 2022-12-02 23:04:13,325]\u001b[0m Trial 37 finished with value: 0.6665007466401195 and parameters: {'max_depth': 8, 'learning_rate': 0.14247754416605635, 'n_estimators': 223, 'min_child_weight': 9, 'gamma': 0.3559952440195138, 'subsample': 0.03143976345220996, 'colsample_bytree': 0.030732752682316587, 'reg_alpha': 0.9222712536728577, 'reg_lambda': 0.00390155379761553}. Best is trial 9 with value: 0.6694873071179691.\u001b[0m\n",
      "/opt/miniconda3/envs/billettkontroll/lib/python3.8/site-packages/xgboost/data.py:250: FutureWarning: pandas.Int64Index is deprecated and will be removed from pandas in a future version. Use pandas.Index with the appropriate dtype instead.\n",
      "  elif isinstance(data.columns, (pd.Int64Index, pd.RangeIndex)):\n",
      "\u001b[32m[I 2022-12-02 23:04:13,494]\u001b[0m Trial 38 finished with value: 0.6640119462419114 and parameters: {'max_depth': 8, 'learning_rate': 0.1849259226596154, 'n_estimators': 227, 'min_child_weight': 10, 'gamma': 0.40888530928547623, 'subsample': 0.03461392364209407, 'colsample_bytree': 0.030214754078834796, 'reg_alpha': 0.7085262935615024, 'reg_lambda': 0.06888005295554382}. Best is trial 9 with value: 0.6694873071179691.\u001b[0m\n",
      "/opt/miniconda3/envs/billettkontroll/lib/python3.8/site-packages/xgboost/data.py:250: FutureWarning: pandas.Int64Index is deprecated and will be removed from pandas in a future version. Use pandas.Index with the appropriate dtype instead.\n",
      "  elif isinstance(data.columns, (pd.Int64Index, pd.RangeIndex)):\n",
      "\u001b[32m[I 2022-12-02 23:04:13,776]\u001b[0m Trial 39 finished with value: 0.6679940268790443 and parameters: {'max_depth': 7, 'learning_rate': 0.1351355057163804, 'n_estimators': 291, 'min_child_weight': 9, 'gamma': 0.04665557203776226, 'subsample': 0.0798035397740175, 'colsample_bytree': 0.04545720592707107, 'reg_alpha': 0.19107647350806553, 'reg_lambda': 0.004592646993919765}. Best is trial 9 with value: 0.6694873071179691.\u001b[0m\n",
      "/opt/miniconda3/envs/billettkontroll/lib/python3.8/site-packages/xgboost/data.py:250: FutureWarning: pandas.Int64Index is deprecated and will be removed from pandas in a future version. Use pandas.Index with the appropriate dtype instead.\n",
      "  elif isinstance(data.columns, (pd.Int64Index, pd.RangeIndex)):\n",
      "\u001b[32m[I 2022-12-02 23:04:14,097]\u001b[0m Trial 40 finished with value: 0.6615231458437033 and parameters: {'max_depth': 7, 'learning_rate': 0.2340611924831456, 'n_estimators': 304, 'min_child_weight': 7, 'gamma': 0.049886451147922665, 'subsample': 0.0958887942612234, 'colsample_bytree': 0.04682974916364566, 'reg_alpha': 0.13988512006641268, 'reg_lambda': 0.0008794417265451172}. Best is trial 9 with value: 0.6694873071179691.\u001b[0m\n",
      "/opt/miniconda3/envs/billettkontroll/lib/python3.8/site-packages/xgboost/data.py:250: FutureWarning: pandas.Int64Index is deprecated and will be removed from pandas in a future version. Use pandas.Index with the appropriate dtype instead.\n",
      "  elif isinstance(data.columns, (pd.Int64Index, pd.RangeIndex)):\n",
      "\u001b[32m[I 2022-12-02 23:04:14,364]\u001b[0m Trial 41 finished with value: 0.664509706321553 and parameters: {'max_depth': 8, 'learning_rate': 0.11581667571610255, 'n_estimators': 275, 'min_child_weight': 9, 'gamma': 0.7720937273807675, 'subsample': 0.07008684823156847, 'colsample_bytree': 0.018506775161837945, 'reg_alpha': 0.20547938121704581, 'reg_lambda': 0.005316358447196571}. Best is trial 9 with value: 0.6694873071179691.\u001b[0m\n",
      "/opt/miniconda3/envs/billettkontroll/lib/python3.8/site-packages/xgboost/data.py:250: FutureWarning: pandas.Int64Index is deprecated and will be removed from pandas in a future version. Use pandas.Index with the appropriate dtype instead.\n",
      "  elif isinstance(data.columns, (pd.Int64Index, pd.RangeIndex)):\n",
      "\u001b[32m[I 2022-12-02 23:04:14,786]\u001b[0m Trial 42 finished with value: 0.6540567446490791 and parameters: {'max_depth': 9, 'learning_rate': 0.1455374026075005, 'n_estimators': 346, 'min_child_weight': 10, 'gamma': 0.011552544334530844, 'subsample': 0.24444447006127334, 'colsample_bytree': 0.04635797540349561, 'reg_alpha': 0.8229530013485035, 'reg_lambda': 0.011551602355970483}. Best is trial 9 with value: 0.6694873071179691.\u001b[0m\n",
      "/opt/miniconda3/envs/billettkontroll/lib/python3.8/site-packages/xgboost/data.py:250: FutureWarning: pandas.Int64Index is deprecated and will be removed from pandas in a future version. Use pandas.Index with the appropriate dtype instead.\n",
      "  elif isinstance(data.columns, (pd.Int64Index, pd.RangeIndex)):\n",
      "\u001b[32m[I 2022-12-02 23:04:15,054]\u001b[0m Trial 43 finished with value: 0.6669985067197611 and parameters: {'max_depth': 7, 'learning_rate': 0.09227184943679013, 'n_estimators': 290, 'min_child_weight': 9, 'gamma': 0.10757291890203764, 'subsample': 0.05813035357743676, 'colsample_bytree': 0.030732340828156648, 'reg_alpha': 0.01609478267334028, 'reg_lambda': 0.026539789129276778}. Best is trial 9 with value: 0.6694873071179691.\u001b[0m\n",
      "/opt/miniconda3/envs/billettkontroll/lib/python3.8/site-packages/xgboost/data.py:250: FutureWarning: pandas.Int64Index is deprecated and will be removed from pandas in a future version. Use pandas.Index with the appropriate dtype instead.\n",
      "  elif isinstance(data.columns, (pd.Int64Index, pd.RangeIndex)):\n",
      "\u001b[32m[I 2022-12-02 23:04:15,363]\u001b[0m Trial 44 finished with value: 0.6625186660029866 and parameters: {'max_depth': 6, 'learning_rate': 0.08865507139087421, 'n_estimators': 300, 'min_child_weight': 9, 'gamma': 0.1023049992067837, 'subsample': 0.08403694699895665, 'colsample_bytree': 0.014283074552266191, 'reg_alpha': 0.020613096764819257, 'reg_lambda': 0.2620029797377042}. Best is trial 9 with value: 0.6694873071179691.\u001b[0m\n",
      "/opt/miniconda3/envs/billettkontroll/lib/python3.8/site-packages/xgboost/data.py:250: FutureWarning: pandas.Int64Index is deprecated and will be removed from pandas in a future version. Use pandas.Index with the appropriate dtype instead.\n",
      "  elif isinstance(data.columns, (pd.Int64Index, pd.RangeIndex)):\n",
      "\u001b[32m[I 2022-12-02 23:04:15,741]\u001b[0m Trial 45 finished with value: 0.6655052264808362 and parameters: {'max_depth': 7, 'learning_rate': 0.10584253933525611, 'n_estimators': 332, 'min_child_weight': 10, 'gamma': 0.04385816557464589, 'subsample': 0.12394927618901053, 'colsample_bytree': 0.022443863961028526, 'reg_alpha': 1.1964203054998017e-07, 'reg_lambda': 0.048177995270197324}. Best is trial 9 with value: 0.6694873071179691.\u001b[0m\n",
      "/opt/miniconda3/envs/billettkontroll/lib/python3.8/site-packages/xgboost/data.py:250: FutureWarning: pandas.Int64Index is deprecated and will be removed from pandas in a future version. Use pandas.Index with the appropriate dtype instead.\n",
      "  elif isinstance(data.columns, (pd.Int64Index, pd.RangeIndex)):\n",
      "\u001b[32m[I 2022-12-02 23:04:15,984]\u001b[0m Trial 46 finished with value: 0.6724738675958188 and parameters: {'max_depth': 5, 'learning_rate': 0.07561753813911151, 'n_estimators': 270, 'min_child_weight': 8, 'gamma': 0.02385043771412609, 'subsample': 0.05391071105945479, 'colsample_bytree': 0.084860669038275, 'reg_alpha': 7.334577656575015e-05, 'reg_lambda': 0.9604023120751489}. Best is trial 46 with value: 0.6724738675958188.\u001b[0m\n",
      "/opt/miniconda3/envs/billettkontroll/lib/python3.8/site-packages/xgboost/data.py:250: FutureWarning: pandas.Int64Index is deprecated and will be removed from pandas in a future version. Use pandas.Index with the appropriate dtype instead.\n",
      "  elif isinstance(data.columns, (pd.Int64Index, pd.RangeIndex)):\n",
      "\u001b[32m[I 2022-12-02 23:04:16,200]\u001b[0m Trial 47 finished with value: 0.6635141861622698 and parameters: {'max_depth': 5, 'learning_rate': 0.03942454648748616, 'n_estimators': 248, 'min_child_weight': 8, 'gamma': 0.012249374257818633, 'subsample': 0.0446046621118657, 'colsample_bytree': 0.09235884998106292, 'reg_alpha': 5.170313448991617e-05, 'reg_lambda': 0.8014463207657284}. Best is trial 46 with value: 0.6724738675958188.\u001b[0m\n",
      "/opt/miniconda3/envs/billettkontroll/lib/python3.8/site-packages/xgboost/data.py:250: FutureWarning: pandas.Int64Index is deprecated and will be removed from pandas in a future version. Use pandas.Index with the appropriate dtype instead.\n",
      "  elif isinstance(data.columns, (pd.Int64Index, pd.RangeIndex)):\n",
      "\u001b[32m[I 2022-12-02 23:04:16,440]\u001b[0m Trial 48 finished with value: 0.6361373817819811 and parameters: {'max_depth': 5, 'learning_rate': 0.4501113904718586, 'n_estimators': 263, 'min_child_weight': 5, 'gamma': 0.0005929887487413429, 'subsample': 0.05887574534815388, 'colsample_bytree': 0.11819068880880652, 'reg_alpha': 1.2508244714799058e-05, 'reg_lambda': 0.12298829548381436}. Best is trial 46 with value: 0.6724738675958188.\u001b[0m\n",
      "/opt/miniconda3/envs/billettkontroll/lib/python3.8/site-packages/xgboost/data.py:250: FutureWarning: pandas.Int64Index is deprecated and will be removed from pandas in a future version. Use pandas.Index with the appropriate dtype instead.\n",
      "  elif isinstance(data.columns, (pd.Int64Index, pd.RangeIndex)):\n",
      "\u001b[32m[I 2022-12-02 23:04:16,530]\u001b[0m Trial 49 finished with value: 0.6515679442508711 and parameters: {'max_depth': 1, 'learning_rate': 0.9163935350853951, 'n_estimators': 142, 'min_child_weight': 7, 'gamma': 0.022550263546992657, 'subsample': 0.12764212432850894, 'colsample_bytree': 0.0759867700212421, 'reg_alpha': 0.0009938335058735377, 'reg_lambda': 0.4493541470412797}. Best is trial 46 with value: 0.6724738675958188.\u001b[0m\n",
      "/opt/miniconda3/envs/billettkontroll/lib/python3.8/site-packages/xgboost/data.py:250: FutureWarning: pandas.Int64Index is deprecated and will be removed from pandas in a future version. Use pandas.Index with the appropriate dtype instead.\n",
      "  elif isinstance(data.columns, (pd.Int64Index, pd.RangeIndex)):\n",
      "\u001b[32m[I 2022-12-02 23:04:16,902]\u001b[0m Trial 50 finished with value: 0.6719761075161772 and parameters: {'max_depth': 4, 'learning_rate': 0.06988213256271669, 'n_estimators': 443, 'min_child_weight': 6, 'gamma': 0.005597087329061351, 'subsample': 0.05276645756273076, 'colsample_bytree': 0.056440059638377775, 'reg_alpha': 1.8693355363960103e-08, 'reg_lambda': 1.4090724581028279e-05}. Best is trial 46 with value: 0.6724738675958188.\u001b[0m\n",
      "/opt/miniconda3/envs/billettkontroll/lib/python3.8/site-packages/xgboost/data.py:250: FutureWarning: pandas.Int64Index is deprecated and will be removed from pandas in a future version. Use pandas.Index with the appropriate dtype instead.\n",
      "  elif isinstance(data.columns, (pd.Int64Index, pd.RangeIndex)):\n",
      "\u001b[32m[I 2022-12-02 23:04:17,282]\u001b[0m Trial 51 finished with value: 0.6640119462419114 and parameters: {'max_depth': 4, 'learning_rate': 0.06954593628757287, 'n_estimators': 449, 'min_child_weight': 6, 'gamma': 0.00664311114793194, 'subsample': 0.049330157405710534, 'colsample_bytree': 0.05341800128472963, 'reg_alpha': 4.165773650417617e-08, 'reg_lambda': 1.6636816505363512e-05}. Best is trial 46 with value: 0.6724738675958188.\u001b[0m\n",
      "/opt/miniconda3/envs/billettkontroll/lib/python3.8/site-packages/xgboost/data.py:250: FutureWarning: pandas.Int64Index is deprecated and will be removed from pandas in a future version. Use pandas.Index with the appropriate dtype instead.\n",
      "  elif isinstance(data.columns, (pd.Int64Index, pd.RangeIndex)):\n",
      "\u001b[32m[I 2022-12-02 23:04:17,681]\u001b[0m Trial 52 finished with value: 0.6625186660029866 and parameters: {'max_depth': 5, 'learning_rate': 0.07556772638307548, 'n_estimators': 420, 'min_child_weight': 6, 'gamma': 0.027168252085065518, 'subsample': 0.08173200925749718, 'colsample_bytree': 0.15838173141011588, 'reg_alpha': 1.0165467952714153e-08, 'reg_lambda': 1.6795902724139036e-06}. Best is trial 46 with value: 0.6724738675958188.\u001b[0m\n",
      "/opt/miniconda3/envs/billettkontroll/lib/python3.8/site-packages/xgboost/data.py:250: FutureWarning: pandas.Int64Index is deprecated and will be removed from pandas in a future version. Use pandas.Index with the appropriate dtype instead.\n",
      "  elif isinstance(data.columns, (pd.Int64Index, pd.RangeIndex)):\n",
      "\u001b[32m[I 2022-12-02 23:04:17,982]\u001b[0m Trial 53 finished with value: 0.6679940268790443 and parameters: {'max_depth': 3, 'learning_rate': 0.04114682824302091, 'n_estimators': 392, 'min_child_weight': 5, 'gamma': 0.23554832534448836, 'subsample': 0.04052141625553569, 'colsample_bytree': 0.043865179106807636, 'reg_alpha': 2.98629845718929e-07, 'reg_lambda': 0.0002382469145623274}. Best is trial 46 with value: 0.6724738675958188.\u001b[0m\n",
      "/opt/miniconda3/envs/billettkontroll/lib/python3.8/site-packages/xgboost/data.py:250: FutureWarning: pandas.Int64Index is deprecated and will be removed from pandas in a future version. Use pandas.Index with the appropriate dtype instead.\n",
      "  elif isinstance(data.columns, (pd.Int64Index, pd.RangeIndex)):\n",
      "\u001b[32m[I 2022-12-02 23:04:18,408]\u001b[0m Trial 54 finished with value: 0.6694873071179691 and parameters: {'max_depth': 6, 'learning_rate': 0.06156005259419767, 'n_estimators': 467, 'min_child_weight': 7, 'gamma': 0.002295768874161587, 'subsample': 0.06366511501954154, 'colsample_bytree': 0.056785665887196496, 'reg_alpha': 1.5852666468095816e-06, 'reg_lambda': 9.416255795009126e-06}. Best is trial 46 with value: 0.6724738675958188.\u001b[0m\n",
      "/opt/miniconda3/envs/billettkontroll/lib/python3.8/site-packages/xgboost/data.py:250: FutureWarning: pandas.Int64Index is deprecated and will be removed from pandas in a future version. Use pandas.Index with the appropriate dtype instead.\n",
      "  elif isinstance(data.columns, (pd.Int64Index, pd.RangeIndex)):\n",
      "\u001b[32m[I 2022-12-02 23:04:18,831]\u001b[0m Trial 55 finished with value: 0.6630164260826281 and parameters: {'max_depth': 4, 'learning_rate': 0.025324289035079002, 'n_estimators': 450, 'min_child_weight': 7, 'gamma': 0.006992046089081929, 'subsample': 0.05599411677757646, 'colsample_bytree': 0.06030035149659133, 'reg_alpha': 1.315467827300469e-06, 'reg_lambda': 6.465204313182606e-06}. Best is trial 46 with value: 0.6724738675958188.\u001b[0m\n",
      "/opt/miniconda3/envs/billettkontroll/lib/python3.8/site-packages/xgboost/data.py:250: FutureWarning: pandas.Int64Index is deprecated and will be removed from pandas in a future version. Use pandas.Index with the appropriate dtype instead.\n",
      "  elif isinstance(data.columns, (pd.Int64Index, pd.RangeIndex)):\n",
      "\u001b[32m[I 2022-12-02 23:04:19,208]\u001b[0m Trial 56 finished with value: 0.6655052264808362 and parameters: {'max_depth': 3, 'learning_rate': 0.06116515125359857, 'n_estimators': 498, 'min_child_weight': 6, 'gamma': 0.0021263507072579162, 'subsample': 0.02943609633073375, 'colsample_bytree': 0.21886723331439117, 'reg_alpha': 4.585179470943497e-06, 'reg_lambda': 2.7711276910074764e-07}. Best is trial 46 with value: 0.6724738675958188.\u001b[0m\n",
      "/opt/miniconda3/envs/billettkontroll/lib/python3.8/site-packages/xgboost/data.py:250: FutureWarning: pandas.Int64Index is deprecated and will be removed from pandas in a future version. Use pandas.Index with the appropriate dtype instead.\n",
      "  elif isinstance(data.columns, (pd.Int64Index, pd.RangeIndex)):\n",
      "\u001b[32m[I 2022-12-02 23:04:19,514]\u001b[0m Trial 57 finished with value: 0.6650074664011946 and parameters: {'max_depth': 2, 'learning_rate': 0.045614889902872754, 'n_estimators': 473, 'min_child_weight': 7, 'gamma': 0.0011801678500185414, 'subsample': 0.0661697272644672, 'colsample_bytree': 0.0933564624689246, 'reg_alpha': 2.3238784247918593e-05, 'reg_lambda': 4.525350179810756e-05}. Best is trial 46 with value: 0.6724738675958188.\u001b[0m\n",
      "/opt/miniconda3/envs/billettkontroll/lib/python3.8/site-packages/xgboost/data.py:250: FutureWarning: pandas.Int64Index is deprecated and will be removed from pandas in a future version. Use pandas.Index with the appropriate dtype instead.\n",
      "  elif isinstance(data.columns, (pd.Int64Index, pd.RangeIndex)):\n",
      "\u001b[32m[I 2022-12-02 23:04:19,865]\u001b[0m Trial 58 finished with value: 0.6615231458437033 and parameters: {'max_depth': 4, 'learning_rate': 0.013987452115885415, 'n_estimators': 416, 'min_child_weight': 4, 'gamma': 0.0003665058700604943, 'subsample': 0.03498156495045765, 'colsample_bytree': 0.08172749918548852, 'reg_alpha': 2.906203929361334e-08, 'reg_lambda': 1.2846053930905208e-05}. Best is trial 46 with value: 0.6724738675958188.\u001b[0m\n",
      "/opt/miniconda3/envs/billettkontroll/lib/python3.8/site-packages/xgboost/data.py:250: FutureWarning: pandas.Int64Index is deprecated and will be removed from pandas in a future version. Use pandas.Index with the appropriate dtype instead.\n",
      "  elif isinstance(data.columns, (pd.Int64Index, pd.RangeIndex)):\n",
      "\u001b[32m[I 2022-12-02 23:04:20,007]\u001b[0m Trial 59 finished with value: 0.6560477849676456 and parameters: {'max_depth': 6, 'learning_rate': 0.029958071262524755, 'n_estimators': 147, 'min_child_weight': 6, 'gamma': 0.07898396853160573, 'subsample': 0.045770301014686154, 'colsample_bytree': 0.13019762607507382, 'reg_alpha': 2.023769526718441e-07, 'reg_lambda': 2.3661420828776727e-06}. Best is trial 46 with value: 0.6724738675958188.\u001b[0m\n",
      "/opt/miniconda3/envs/billettkontroll/lib/python3.8/site-packages/xgboost/data.py:250: FutureWarning: pandas.Int64Index is deprecated and will be removed from pandas in a future version. Use pandas.Index with the appropriate dtype instead.\n",
      "  elif isinstance(data.columns, (pd.Int64Index, pd.RangeIndex)):\n",
      "\u001b[32m[I 2022-12-02 23:04:20,294]\u001b[0m Trial 60 finished with value: 0.6655052264808362 and parameters: {'max_depth': 2, 'learning_rate': 0.07884876446426037, 'n_estimators': 465, 'min_child_weight': 8, 'gamma': 0.49900886158569807, 'subsample': 0.02546018633872437, 'colsample_bytree': 0.03666994022047182, 'reg_alpha': 6.529816638505553e-07, 'reg_lambda': 1.466475232872157e-08}. Best is trial 46 with value: 0.6724738675958188.\u001b[0m\n",
      "/opt/miniconda3/envs/billettkontroll/lib/python3.8/site-packages/xgboost/data.py:250: FutureWarning: pandas.Int64Index is deprecated and will be removed from pandas in a future version. Use pandas.Index with the appropriate dtype instead.\n",
      "  elif isinstance(data.columns, (pd.Int64Index, pd.RangeIndex)):\n",
      "\u001b[32m[I 2022-12-02 23:04:20,593]\u001b[0m Trial 61 finished with value: 0.6669985067197611 and parameters: {'max_depth': 3, 'learning_rate': 0.04123112414156194, 'n_estimators': 386, 'min_child_weight': 5, 'gamma': 0.22469782823156603, 'subsample': 0.03988847666415125, 'colsample_bytree': 0.04181842070864598, 'reg_alpha': 3.619256935636269e-07, 'reg_lambda': 0.00018697984420318646}. Best is trial 46 with value: 0.6724738675958188.\u001b[0m\n",
      "/opt/miniconda3/envs/billettkontroll/lib/python3.8/site-packages/xgboost/data.py:250: FutureWarning: pandas.Int64Index is deprecated and will be removed from pandas in a future version. Use pandas.Index with the appropriate dtype instead.\n",
      "  elif isinstance(data.columns, (pd.Int64Index, pd.RangeIndex)):\n",
      "\u001b[32m[I 2022-12-02 23:04:20,901]\u001b[0m Trial 62 finished with value: 0.6684917869586859 and parameters: {'max_depth': 3, 'learning_rate': 0.04958692166173964, 'n_estimators': 401, 'min_child_weight': 5, 'gamma': 0.9858863954995155, 'subsample': 0.04260840164185668, 'colsample_bytree': 0.05609653311525677, 'reg_alpha': 1.8409311209016908e-06, 'reg_lambda': 7.002168889264826e-05}. Best is trial 46 with value: 0.6724738675958188.\u001b[0m\n",
      "/opt/miniconda3/envs/billettkontroll/lib/python3.8/site-packages/xgboost/data.py:250: FutureWarning: pandas.Int64Index is deprecated and will be removed from pandas in a future version. Use pandas.Index with the appropriate dtype instead.\n",
      "  elif isinstance(data.columns, (pd.Int64Index, pd.RangeIndex)):\n",
      "\u001b[32m[I 2022-12-02 23:04:21,267]\u001b[0m Trial 63 finished with value: 0.6684917869586859 and parameters: {'max_depth': 4, 'learning_rate': 0.05215524818805699, 'n_estimators': 438, 'min_child_weight': 5, 'gamma': 0.9753745420315753, 'subsample': 0.051914548922349105, 'colsample_bytree': 0.057145775649663014, 'reg_alpha': 2.276927966862564e-06, 'reg_lambda': 7.992192324640165e-05}. Best is trial 46 with value: 0.6724738675958188.\u001b[0m\n",
      "/opt/miniconda3/envs/billettkontroll/lib/python3.8/site-packages/xgboost/data.py:250: FutureWarning: pandas.Int64Index is deprecated and will be removed from pandas in a future version. Use pandas.Index with the appropriate dtype instead.\n",
      "  elif isinstance(data.columns, (pd.Int64Index, pd.RangeIndex)):\n",
      "\u001b[32m[I 2022-12-02 23:04:21,811]\u001b[0m Trial 64 finished with value: 0.6560477849676456 and parameters: {'max_depth': 4, 'learning_rate': 0.05738102370634056, 'n_estimators': 474, 'min_child_weight': 4, 'gamma': 0.14298747731104267, 'subsample': 0.4209058394999291, 'colsample_bytree': 0.10424488797115214, 'reg_alpha': 2.6177005052437155e-06, 'reg_lambda': 1.729071916855173e-05}. Best is trial 46 with value: 0.6724738675958188.\u001b[0m\n",
      "/opt/miniconda3/envs/billettkontroll/lib/python3.8/site-packages/xgboost/data.py:250: FutureWarning: pandas.Int64Index is deprecated and will be removed from pandas in a future version. Use pandas.Index with the appropriate dtype instead.\n",
      "  elif isinstance(data.columns, (pd.Int64Index, pd.RangeIndex)):\n",
      "\u001b[32m[I 2022-12-02 23:04:22,161]\u001b[0m Trial 65 finished with value: 0.658038825286212 and parameters: {'max_depth': 3, 'learning_rate': 0.11063362190036526, 'n_estimators': 370, 'min_child_weight': 6, 'gamma': 0.0030656481742759385, 'subsample': 0.11010118759668207, 'colsample_bytree': 0.06610353941418014, 'reg_alpha': 1.3354150276018435e-06, 'reg_lambda': 6.459725503709579e-05}. Best is trial 46 with value: 0.6724738675958188.\u001b[0m\n",
      "/opt/miniconda3/envs/billettkontroll/lib/python3.8/site-packages/xgboost/data.py:250: FutureWarning: pandas.Int64Index is deprecated and will be removed from pandas in a future version. Use pandas.Index with the appropriate dtype instead.\n",
      "  elif isinstance(data.columns, (pd.Int64Index, pd.RangeIndex)):\n",
      "\u001b[32m[I 2022-12-02 23:04:22,540]\u001b[0m Trial 66 finished with value: 0.6699850671976108 and parameters: {'max_depth': 5, 'learning_rate': 0.07200555182414704, 'n_estimators': 432, 'min_child_weight': 7, 'gamma': 0.030779686798303493, 'subsample': 0.05291310972660667, 'colsample_bytree': 0.08096873786476853, 'reg_alpha': 6.930733972821425e-06, 'reg_lambda': 8.117153571945472e-07}. Best is trial 46 with value: 0.6724738675958188.\u001b[0m\n",
      "/opt/miniconda3/envs/billettkontroll/lib/python3.8/site-packages/xgboost/data.py:250: FutureWarning: pandas.Int64Index is deprecated and will be removed from pandas in a future version. Use pandas.Index with the appropriate dtype instead.\n",
      "  elif isinstance(data.columns, (pd.Int64Index, pd.RangeIndex)):\n",
      "\u001b[32m[I 2022-12-02 23:04:22,928]\u001b[0m Trial 67 finished with value: 0.6630164260826281 and parameters: {'max_depth': 5, 'learning_rate': 0.08571583705961483, 'n_estimators': 428, 'min_child_weight': 7, 'gamma': 0.01066788838077799, 'subsample': 0.07129774160410376, 'colsample_bytree': 0.1751508557261759, 'reg_alpha': 9.903628071062924e-05, 'reg_lambda': 4.1145948929911815e-07}. Best is trial 46 with value: 0.6724738675958188.\u001b[0m\n",
      "/opt/miniconda3/envs/billettkontroll/lib/python3.8/site-packages/xgboost/data.py:250: FutureWarning: pandas.Int64Index is deprecated and will be removed from pandas in a future version. Use pandas.Index with the appropriate dtype instead.\n",
      "  elif isinstance(data.columns, (pd.Int64Index, pd.RangeIndex)):\n",
      "\u001b[32m[I 2022-12-02 23:04:23,030]\u001b[0m Trial 68 finished with value: 0.6535589845694375 and parameters: {'max_depth': 5, 'learning_rate': 0.06695669639468439, 'n_estimators': 101, 'min_child_weight': 8, 'gamma': 0.02566656140451714, 'subsample': 0.03276058919788968, 'colsample_bytree': 0.08223163623882056, 'reg_alpha': 5.6840937451470305e-06, 'reg_lambda': 9.902623923615186e-07}. Best is trial 46 with value: 0.6724738675958188.\u001b[0m\n",
      "/opt/miniconda3/envs/billettkontroll/lib/python3.8/site-packages/xgboost/data.py:250: FutureWarning: pandas.Int64Index is deprecated and will be removed from pandas in a future version. Use pandas.Index with the appropriate dtype instead.\n",
      "  elif isinstance(data.columns, (pd.Int64Index, pd.RangeIndex)):\n",
      "\u001b[32m[I 2022-12-02 23:04:23,129]\u001b[0m Trial 69 finished with value: 0.6739671478347437 and parameters: {'max_depth': 1, 'learning_rate': 0.10173707573528287, 'n_estimators': 198, 'min_child_weight': 7, 'gamma': 0.061198361999742774, 'subsample': 0.022286535398233755, 'colsample_bytree': 0.11668330353844032, 'reg_alpha': 1.2584884639444367e-05, 'reg_lambda': 1.6018551483026814e-07}. Best is trial 69 with value: 0.6739671478347437.\u001b[0m\n",
      "/opt/miniconda3/envs/billettkontroll/lib/python3.8/site-packages/xgboost/data.py:250: FutureWarning: pandas.Int64Index is deprecated and will be removed from pandas in a future version. Use pandas.Index with the appropriate dtype instead.\n",
      "  elif isinstance(data.columns, (pd.Int64Index, pd.RangeIndex)):\n",
      "\u001b[32m[I 2022-12-02 23:04:23,353]\u001b[0m Trial 70 finished with value: 0.6610253857640617 and parameters: {'max_depth': 1, 'learning_rate': 0.0995295095973776, 'n_estimators': 485, 'min_child_weight': 7, 'gamma': 0.0035812562632683317, 'subsample': 0.01590018758132883, 'colsample_bytree': 0.1402094489719078, 'reg_alpha': 1.706371465934301e-05, 'reg_lambda': 9.984911111862538e-08}. Best is trial 69 with value: 0.6739671478347437.\u001b[0m\n",
      "/opt/miniconda3/envs/billettkontroll/lib/python3.8/site-packages/xgboost/data.py:250: FutureWarning: pandas.Int64Index is deprecated and will be removed from pandas in a future version. Use pandas.Index with the appropriate dtype instead.\n",
      "  elif isinstance(data.columns, (pd.Int64Index, pd.RangeIndex)):\n",
      "\u001b[32m[I 2022-12-02 23:04:23,453]\u001b[0m Trial 71 finished with value: 0.6540567446490791 and parameters: {'max_depth': 1, 'learning_rate': 0.07519850993303372, 'n_estimators': 203, 'min_child_weight': 7, 'gamma': 0.07372189354802845, 'subsample': 0.012134354270405151, 'colsample_bytree': 0.11849098566381959, 'reg_alpha': 8.744318952804738e-06, 'reg_lambda': 1.2497470661283759e-07}. Best is trial 69 with value: 0.6739671478347437.\u001b[0m\n",
      "/opt/miniconda3/envs/billettkontroll/lib/python3.8/site-packages/xgboost/data.py:250: FutureWarning: pandas.Int64Index is deprecated and will be removed from pandas in a future version. Use pandas.Index with the appropriate dtype instead.\n",
      "  elif isinstance(data.columns, (pd.Int64Index, pd.RangeIndex)):\n",
      "\u001b[32m[I 2022-12-02 23:04:23,591]\u001b[0m Trial 72 finished with value: 0.6600298656047785 and parameters: {'max_depth': 2, 'learning_rate': 0.1209892141060901, 'n_estimators': 215, 'min_child_weight': 8, 'gamma': 0.03320150295392066, 'subsample': 0.02262389705414212, 'colsample_bytree': 0.0936735166546748, 'reg_alpha': 4.500422517687807e-05, 'reg_lambda': 7.076841357216186e-06}. Best is trial 69 with value: 0.6739671478347437.\u001b[0m\n",
      "/opt/miniconda3/envs/billettkontroll/lib/python3.8/site-packages/xgboost/data.py:250: FutureWarning: pandas.Int64Index is deprecated and will be removed from pandas in a future version. Use pandas.Index with the appropriate dtype instead.\n",
      "  elif isinstance(data.columns, (pd.Int64Index, pd.RangeIndex)):\n",
      "\u001b[32m[I 2022-12-02 23:04:23,728]\u001b[0m Trial 73 finished with value: 0.6605276256844201 and parameters: {'max_depth': 6, 'learning_rate': 0.06293941754336375, 'n_estimators': 188, 'min_child_weight': 7, 'gamma': 0.16917047096821836, 'subsample': 0.017819383997294, 'colsample_bytree': 0.0721695872259207, 'reg_alpha': 0.0003163770123956364, 'reg_lambda': 6.954518524260135e-08}. Best is trial 69 with value: 0.6739671478347437.\u001b[0m\n",
      "/opt/miniconda3/envs/billettkontroll/lib/python3.8/site-packages/xgboost/data.py:250: FutureWarning: pandas.Int64Index is deprecated and will be removed from pandas in a future version. Use pandas.Index with the appropriate dtype instead.\n",
      "  elif isinstance(data.columns, (pd.Int64Index, pd.RangeIndex)):\n",
      "\u001b[32m[I 2022-12-02 23:04:23,813]\u001b[0m Trial 74 finished with value: 0.6635141861622698 and parameters: {'max_depth': 1, 'learning_rate': 0.09003283752833362, 'n_estimators': 153, 'min_child_weight': 6, 'gamma': 0.008943218648639365, 'subsample': 0.028792602363451002, 'colsample_bytree': 0.09995700090595848, 'reg_alpha': 9.13591236031703e-05, 'reg_lambda': 9.933631401250115e-07}. Best is trial 69 with value: 0.6739671478347437.\u001b[0m\n",
      "/opt/miniconda3/envs/billettkontroll/lib/python3.8/site-packages/xgboost/data.py:250: FutureWarning: pandas.Int64Index is deprecated and will be removed from pandas in a future version. Use pandas.Index with the appropriate dtype instead.\n",
      "  elif isinstance(data.columns, (pd.Int64Index, pd.RangeIndex)):\n",
      "\u001b[32m[I 2022-12-02 23:04:23,971]\u001b[0m Trial 75 finished with value: 0.6495769039323046 and parameters: {'max_depth': 2, 'learning_rate': 0.759070408985473, 'n_estimators': 238, 'min_child_weight': 8, 'gamma': 0.06823410435530892, 'subsample': 0.03647824046218905, 'colsample_bytree': 0.1569238407908747, 'reg_alpha': 1.8547839995237283e-08, 'reg_lambda': 0.9938351822746692}. Best is trial 69 with value: 0.6739671478347437.\u001b[0m\n",
      "/opt/miniconda3/envs/billettkontroll/lib/python3.8/site-packages/xgboost/data.py:250: FutureWarning: pandas.Int64Index is deprecated and will be removed from pandas in a future version. Use pandas.Index with the appropriate dtype instead.\n",
      "  elif isinstance(data.columns, (pd.Int64Index, pd.RangeIndex)):\n",
      "\u001b[32m[I 2022-12-02 23:04:24,116]\u001b[0m Trial 76 finished with value: 0.658038825286212 and parameters: {'max_depth': 5, 'learning_rate': 0.07441237438739233, 'n_estimators': 156, 'min_child_weight': 6, 'gamma': 0.01718888942579759, 'subsample': 0.06352119551109396, 'colsample_bytree': 0.11918357203943192, 'reg_alpha': 4.7395117296857255e-06, 'reg_lambda': 1.9653078775864717e-07}. Best is trial 69 with value: 0.6739671478347437.\u001b[0m\n",
      "/opt/miniconda3/envs/billettkontroll/lib/python3.8/site-packages/xgboost/data.py:250: FutureWarning: pandas.Int64Index is deprecated and will be removed from pandas in a future version. Use pandas.Index with the appropriate dtype instead.\n",
      "  elif isinstance(data.columns, (pd.Int64Index, pd.RangeIndex)):\n",
      "\u001b[32m[I 2022-12-02 23:04:24,185]\u001b[0m Trial 77 finished with value: 0.6655052264808362 and parameters: {'max_depth': 1, 'learning_rate': 0.15245484730993758, 'n_estimators': 123, 'min_child_weight': 7, 'gamma': 0.5331365605042876, 'subsample': 0.026050168469482337, 'colsample_bytree': 0.06594271317791461, 'reg_alpha': 6.743558562545331e-08, 'reg_lambda': 3.3930567256732754e-08}. Best is trial 69 with value: 0.6739671478347437.\u001b[0m\n",
      "/opt/miniconda3/envs/billettkontroll/lib/python3.8/site-packages/xgboost/data.py:250: FutureWarning: pandas.Int64Index is deprecated and will be removed from pandas in a future version. Use pandas.Index with the appropriate dtype instead.\n",
      "  elif isinstance(data.columns, (pd.Int64Index, pd.RangeIndex)):\n",
      "\u001b[32m[I 2022-12-02 23:04:24,588]\u001b[0m Trial 78 finished with value: 0.662020905923345 and parameters: {'max_depth': 6, 'learning_rate': 0.170686547987405, 'n_estimators': 457, 'min_child_weight': 8, 'gamma': 0.2712137760425815, 'subsample': 0.05327361406774128, 'colsample_bytree': 0.08003134631339408, 'reg_alpha': 8.937096194737694e-06, 'reg_lambda': 0.27967586740908623}. Best is trial 69 with value: 0.6739671478347437.\u001b[0m\n",
      "/opt/miniconda3/envs/billettkontroll/lib/python3.8/site-packages/xgboost/data.py:250: FutureWarning: pandas.Int64Index is deprecated and will be removed from pandas in a future version. Use pandas.Index with the appropriate dtype instead.\n",
      "  elif isinstance(data.columns, (pd.Int64Index, pd.RangeIndex)):\n",
      "\u001b[32m[I 2022-12-02 23:04:24,793]\u001b[0m Trial 79 finished with value: 0.6694873071179691 and parameters: {'max_depth': 2, 'learning_rate': 0.125315245678023, 'n_estimators': 319, 'min_child_weight': 6, 'gamma': 0.13883849678181812, 'subsample': 0.019870877779245396, 'colsample_bytree': 0.02717926267431129, 'reg_alpha': 6.234961802118171e-07, 'reg_lambda': 3.1315496173474126e-06}. Best is trial 69 with value: 0.6739671478347437.\u001b[0m\n",
      "/opt/miniconda3/envs/billettkontroll/lib/python3.8/site-packages/xgboost/data.py:250: FutureWarning: pandas.Int64Index is deprecated and will be removed from pandas in a future version. Use pandas.Index with the appropriate dtype instead.\n",
      "  elif isinstance(data.columns, (pd.Int64Index, pd.RangeIndex)):\n",
      "\u001b[32m[I 2022-12-02 23:04:24,964]\u001b[0m Trial 80 finished with value: 0.662020905923345 and parameters: {'max_depth': 1, 'learning_rate': 0.10121448938391978, 'n_estimators': 361, 'min_child_weight': 7, 'gamma': 0.1236968745903376, 'subsample': 0.019589141675945897, 'colsample_bytree': 0.021838044548031923, 'reg_alpha': 7.073848585215854e-07, 'reg_lambda': 3.455863751211553e-06}. Best is trial 69 with value: 0.6739671478347437.\u001b[0m\n",
      "/opt/miniconda3/envs/billettkontroll/lib/python3.8/site-packages/xgboost/data.py:250: FutureWarning: pandas.Int64Index is deprecated and will be removed from pandas in a future version. Use pandas.Index with the appropriate dtype instead.\n",
      "  elif isinstance(data.columns, (pd.Int64Index, pd.RangeIndex)):\n",
      "\u001b[32m[I 2022-12-02 23:04:25,136]\u001b[0m Trial 81 finished with value: 0.670980587356894 and parameters: {'max_depth': 2, 'learning_rate': 0.12713676296838436, 'n_estimators': 266, 'min_child_weight': 6, 'gamma': 0.05294603155351757, 'subsample': 0.02062609559327703, 'colsample_bytree': 0.034432647204869986, 'reg_alpha': 1.7223689600872092e-07, 'reg_lambda': 4.900897836470383e-07}. Best is trial 69 with value: 0.6739671478347437.\u001b[0m\n",
      "/opt/miniconda3/envs/billettkontroll/lib/python3.8/site-packages/xgboost/data.py:250: FutureWarning: pandas.Int64Index is deprecated and will be removed from pandas in a future version. Use pandas.Index with the appropriate dtype instead.\n",
      "  elif isinstance(data.columns, (pd.Int64Index, pd.RangeIndex)):\n",
      "\u001b[32m[I 2022-12-02 23:04:25,297]\u001b[0m Trial 82 finished with value: 0.6565455450472872 and parameters: {'max_depth': 2, 'learning_rate': 0.20114104080299938, 'n_estimators': 274, 'min_child_weight': 6, 'gamma': 0.052957153209318666, 'subsample': 0.012372044248650108, 'colsample_bytree': 0.03443043883292827, 'reg_alpha': 1.2927733353150538e-07, 'reg_lambda': 7.308488143990456e-07}. Best is trial 69 with value: 0.6739671478347437.\u001b[0m\n",
      "/opt/miniconda3/envs/billettkontroll/lib/python3.8/site-packages/xgboost/data.py:250: FutureWarning: pandas.Int64Index is deprecated and will be removed from pandas in a future version. Use pandas.Index with the appropriate dtype instead.\n",
      "  elif isinstance(data.columns, (pd.Int64Index, pd.RangeIndex)):\n",
      "\u001b[32m[I 2022-12-02 23:04:25,498]\u001b[0m Trial 83 finished with value: 0.6699850671976108 and parameters: {'max_depth': 2, 'learning_rate': 0.11943648459022567, 'n_estimators': 316, 'min_child_weight': 6, 'gamma': 0.03461596567006938, 'subsample': 0.017637246142788908, 'colsample_bytree': 0.02675977778680956, 'reg_alpha': 1.8620148451354016e-07, 'reg_lambda': 1.5045212947754232e-06}. Best is trial 69 with value: 0.6739671478347437.\u001b[0m\n",
      "/opt/miniconda3/envs/billettkontroll/lib/python3.8/site-packages/xgboost/data.py:250: FutureWarning: pandas.Int64Index is deprecated and will be removed from pandas in a future version. Use pandas.Index with the appropriate dtype instead.\n",
      "  elif isinstance(data.columns, (pd.Int64Index, pd.RangeIndex)):\n",
      "\u001b[32m[I 2022-12-02 23:04:25,695]\u001b[0m Trial 84 finished with value: 0.6749626679940269 and parameters: {'max_depth': 2, 'learning_rate': 0.12105842837584481, 'n_estimators': 313, 'min_child_weight': 6, 'gamma': 0.017441960685857228, 'subsample': 0.01681620773544708, 'colsample_bytree': 0.02686964856765784, 'reg_alpha': 2.112695510987184e-07, 'reg_lambda': 1.5341028719438793e-06}. Best is trial 84 with value: 0.6749626679940269.\u001b[0m\n",
      "/opt/miniconda3/envs/billettkontroll/lib/python3.8/site-packages/xgboost/data.py:250: FutureWarning: pandas.Int64Index is deprecated and will be removed from pandas in a future version. Use pandas.Index with the appropriate dtype instead.\n",
      "  elif isinstance(data.columns, (pd.Int64Index, pd.RangeIndex)):\n",
      "\u001b[32m[I 2022-12-02 23:04:25,901]\u001b[0m Trial 85 finished with value: 0.6585365853658537 and parameters: {'max_depth': 2, 'learning_rate': 0.24007004317696054, 'n_estimators': 344, 'min_child_weight': 6, 'gamma': 0.0044797990337644, 'subsample': 0.014982061825904372, 'colsample_bytree': 0.02663063376575533, 'reg_alpha': 2.013669558716233e-07, 'reg_lambda': 1.5851981274051991e-06}. Best is trial 84 with value: 0.6749626679940269.\u001b[0m\n",
      "/opt/miniconda3/envs/billettkontroll/lib/python3.8/site-packages/xgboost/data.py:250: FutureWarning: pandas.Int64Index is deprecated and will be removed from pandas in a future version. Use pandas.Index with the appropriate dtype instead.\n",
      "  elif isinstance(data.columns, (pd.Int64Index, pd.RangeIndex)):\n",
      "\u001b[32m[I 2022-12-02 23:04:26,104]\u001b[0m Trial 86 finished with value: 0.6665007466401195 and parameters: {'max_depth': 2, 'learning_rate': 0.13573313290709363, 'n_estimators': 314, 'min_child_weight': 6, 'gamma': 0.0323658619844417, 'subsample': 0.01851264314306989, 'colsample_bytree': 0.02684446117380654, 'reg_alpha': 5.644184895020838e-08, 'reg_lambda': 4.3878258561607054e-07}. Best is trial 84 with value: 0.6749626679940269.\u001b[0m\n",
      "/opt/miniconda3/envs/billettkontroll/lib/python3.8/site-packages/xgboost/data.py:250: FutureWarning: pandas.Int64Index is deprecated and will be removed from pandas in a future version. Use pandas.Index with the appropriate dtype instead.\n",
      "  elif isinstance(data.columns, (pd.Int64Index, pd.RangeIndex)):\n",
      "\u001b[32m[I 2022-12-02 23:04:26,298]\u001b[0m Trial 87 finished with value: 0.6650074664011946 and parameters: {'max_depth': 2, 'learning_rate': 0.12362852906622587, 'n_estimators': 319, 'min_child_weight': 5, 'gamma': 0.02067429850602427, 'subsample': 0.01231861991444727, 'colsample_bytree': 0.015672830395460066, 'reg_alpha': 1.9865968338051443e-07, 'reg_lambda': 3.987784646002734e-06}. Best is trial 84 with value: 0.6749626679940269.\u001b[0m\n",
      "/opt/miniconda3/envs/billettkontroll/lib/python3.8/site-packages/xgboost/data.py:250: FutureWarning: pandas.Int64Index is deprecated and will be removed from pandas in a future version. Use pandas.Index with the appropriate dtype instead.\n",
      "  elif isinstance(data.columns, (pd.Int64Index, pd.RangeIndex)):\n",
      "\u001b[32m[I 2022-12-02 23:04:26,429]\u001b[0m Trial 88 finished with value: 0.6625186660029866 and parameters: {'max_depth': 1, 'learning_rate': 0.15806433696460886, 'n_estimators': 267, 'min_child_weight': 6, 'gamma': 0.016627810373932322, 'subsample': 0.016658925076841483, 'colsample_bytree': 0.021879906357918703, 'reg_alpha': 7.330203160003087e-07, 'reg_lambda': 2.1515993294222077e-06}. Best is trial 84 with value: 0.6749626679940269.\u001b[0m\n",
      "/opt/miniconda3/envs/billettkontroll/lib/python3.8/site-packages/xgboost/data.py:250: FutureWarning: pandas.Int64Index is deprecated and will be removed from pandas in a future version. Use pandas.Index with the appropriate dtype instead.\n",
      "  elif isinstance(data.columns, (pd.Int64Index, pd.RangeIndex)):\n",
      "\u001b[32m[I 2022-12-02 23:04:26,655]\u001b[0m Trial 89 finished with value: 0.6669985067197611 and parameters: {'max_depth': 3, 'learning_rate': 0.11219443689061681, 'n_estimators': 288, 'min_child_weight': 5, 'gamma': 2.5529984530362016e-07, 'subsample': 0.020775225773005578, 'colsample_bytree': 0.019490305370717935, 'reg_alpha': 2.229413967767462e-08, 'reg_lambda': 4.588111245430712e-07}. Best is trial 84 with value: 0.6749626679940269.\u001b[0m\n",
      "/opt/miniconda3/envs/billettkontroll/lib/python3.8/site-packages/xgboost/data.py:250: FutureWarning: pandas.Int64Index is deprecated and will be removed from pandas in a future version. Use pandas.Index with the appropriate dtype instead.\n",
      "  elif isinstance(data.columns, (pd.Int64Index, pd.RangeIndex)):\n",
      "\u001b[32m[I 2022-12-02 23:04:26,913]\u001b[0m Trial 90 finished with value: 0.6640119462419114 and parameters: {'max_depth': 6, 'learning_rate': 0.0838831936420704, 'n_estimators': 241, 'min_child_weight': 7, 'gamma': 0.0023985065528666382, 'subsample': 0.09235601531137042, 'colsample_bytree': 0.03236577101131418, 'reg_alpha': 3.5933576750607023e-06, 'reg_lambda': 1.0179655830045346e-05}. Best is trial 84 with value: 0.6749626679940269.\u001b[0m\n",
      "/opt/miniconda3/envs/billettkontroll/lib/python3.8/site-packages/xgboost/data.py:250: FutureWarning: pandas.Int64Index is deprecated and will be removed from pandas in a future version. Use pandas.Index with the appropriate dtype instead.\n",
      "  elif isinstance(data.columns, (pd.Int64Index, pd.RangeIndex)):\n",
      "\u001b[32m[I 2022-12-02 23:04:27,132]\u001b[0m Trial 91 finished with value: 0.6660029865604778 and parameters: {'max_depth': 2, 'learning_rate': 0.10345883415206072, 'n_estimators': 341, 'min_child_weight': 6, 'gamma': 0.008148836082934416, 'subsample': 0.02272240176682228, 'colsample_bytree': 0.027709020469714907, 'reg_alpha': 4.2938581751919507e-07, 'reg_lambda': 1.2091192056000728e-06}. Best is trial 84 with value: 0.6749626679940269.\u001b[0m\n",
      "/opt/miniconda3/envs/billettkontroll/lib/python3.8/site-packages/xgboost/data.py:250: FutureWarning: pandas.Int64Index is deprecated and will be removed from pandas in a future version. Use pandas.Index with the appropriate dtype instead.\n",
      "  elif isinstance(data.columns, (pd.Int64Index, pd.RangeIndex)):\n",
      "\u001b[32m[I 2022-12-02 23:04:27,334]\u001b[0m Trial 92 finished with value: 0.658038825286212 and parameters: {'max_depth': 5, 'learning_rate': 0.127147239698538, 'n_estimators': 322, 'min_child_weight': 6, 'gamma': 0.03539351257512175, 'subsample': 0.013249266426344403, 'colsample_bytree': 0.049867412887096944, 'reg_alpha': 1.0317746169106393e-07, 'reg_lambda': 2.243145237456478e-05}. Best is trial 84 with value: 0.6749626679940269.\u001b[0m\n",
      "/opt/miniconda3/envs/billettkontroll/lib/python3.8/site-packages/xgboost/data.py:250: FutureWarning: pandas.Int64Index is deprecated and will be removed from pandas in a future version. Use pandas.Index with the appropriate dtype instead.\n",
      "  elif isinstance(data.columns, (pd.Int64Index, pd.RangeIndex)):\n",
      "\u001b[32m[I 2022-12-02 23:04:27,520]\u001b[0m Trial 93 finished with value: 0.6635141861622698 and parameters: {'max_depth': 2, 'learning_rate': 0.09426226981265924, 'n_estimators': 310, 'min_child_weight': 7, 'gamma': 0.08635792498388195, 'subsample': 0.016295732584515957, 'colsample_bytree': 0.012711903758774993, 'reg_alpha': 1.0799914990442395e-06, 'reg_lambda': 2.823304787466017e-06}. Best is trial 84 with value: 0.6749626679940269.\u001b[0m\n",
      "/opt/miniconda3/envs/billettkontroll/lib/python3.8/site-packages/xgboost/data.py:250: FutureWarning: pandas.Int64Index is deprecated and will be removed from pandas in a future version. Use pandas.Index with the appropriate dtype instead.\n",
      "  elif isinstance(data.columns, (pd.Int64Index, pd.RangeIndex)):\n",
      "\u001b[32m[I 2022-12-02 23:04:27,675]\u001b[0m Trial 94 finished with value: 0.6545545047287208 and parameters: {'max_depth': 1, 'learning_rate': 0.08401444459728581, 'n_estimators': 332, 'min_child_weight': 6, 'gamma': 4.0411386203198385e-05, 'subsample': 0.01049483275869055, 'colsample_bytree': 0.03836896897296939, 'reg_alpha': 1.7383335940620534e-07, 'reg_lambda': 5.75316945938465e-06}. Best is trial 84 with value: 0.6749626679940269.\u001b[0m\n",
      "/opt/miniconda3/envs/billettkontroll/lib/python3.8/site-packages/xgboost/data.py:250: FutureWarning: pandas.Int64Index is deprecated and will be removed from pandas in a future version. Use pandas.Index with the appropriate dtype instead.\n",
      "  elif isinstance(data.columns, (pd.Int64Index, pd.RangeIndex)):\n",
      "\u001b[32m[I 2022-12-02 23:04:27,880]\u001b[0m Trial 95 finished with value: 0.664509706321553 and parameters: {'max_depth': 2, 'learning_rate': 0.19206744461004943, 'n_estimators': 299, 'min_child_weight': 6, 'gamma': 0.0015917329693792542, 'subsample': 0.07482387295148059, 'colsample_bytree': 0.024768071125209415, 'reg_alpha': 5.26998183019439e-07, 'reg_lambda': 3.2110224246111475e-07}. Best is trial 84 with value: 0.6749626679940269.\u001b[0m\n",
      "/opt/miniconda3/envs/billettkontroll/lib/python3.8/site-packages/xgboost/data.py:250: FutureWarning: pandas.Int64Index is deprecated and will be removed from pandas in a future version. Use pandas.Index with the appropriate dtype instead.\n",
      "  elif isinstance(data.columns, (pd.Int64Index, pd.RangeIndex)):\n",
      "\u001b[32m[I 2022-12-02 23:04:28,111]\u001b[0m Trial 96 finished with value: 0.6650074664011946 and parameters: {'max_depth': 3, 'learning_rate': 0.1429800730217934, 'n_estimators': 289, 'min_child_weight': 7, 'gamma': 0.011763434406173535, 'subsample': 0.04435550184930845, 'colsample_bytree': 0.041978794227170796, 'reg_alpha': 8.770634006243082e-07, 'reg_lambda': 1.885851242547542e-07}. Best is trial 84 with value: 0.6749626679940269.\u001b[0m\n",
      "/opt/miniconda3/envs/billettkontroll/lib/python3.8/site-packages/xgboost/data.py:250: FutureWarning: pandas.Int64Index is deprecated and will be removed from pandas in a future version. Use pandas.Index with the appropriate dtype instead.\n",
      "  elif isinstance(data.columns, (pd.Int64Index, pd.RangeIndex)):\n",
      "\u001b[32m[I 2022-12-02 23:04:28,251]\u001b[0m Trial 97 finished with value: 0.6689895470383276 and parameters: {'max_depth': 1, 'learning_rate': 0.0691882535177705, 'n_estimators': 278, 'min_child_weight': 5, 'gamma': 0.06023752844842193, 'subsample': 0.06217315956864376, 'colsample_bytree': 0.02880342079325315, 'reg_alpha': 4.4630920597141345e-08, 'reg_lambda': 5.972180646120395e-07}. Best is trial 84 with value: 0.6749626679940269.\u001b[0m\n",
      "/opt/miniconda3/envs/billettkontroll/lib/python3.8/site-packages/xgboost/data.py:250: FutureWarning: pandas.Int64Index is deprecated and will be removed from pandas in a future version. Use pandas.Index with the appropriate dtype instead.\n",
      "  elif isinstance(data.columns, (pd.Int64Index, pd.RangeIndex)):\n",
      "\u001b[32m[I 2022-12-02 23:04:28,483]\u001b[0m Trial 98 finished with value: 0.6610253857640617 and parameters: {'max_depth': 2, 'learning_rate': 0.11551894451369507, 'n_estimators': 374, 'min_child_weight': 7, 'gamma': 0.0007448545513389668, 'subsample': 0.024206657518779363, 'colsample_bytree': 0.03553176015081449, 'reg_alpha': 1.5821094305872475e-06, 'reg_lambda': 0.642583199236261}. Best is trial 84 with value: 0.6749626679940269.\u001b[0m\n",
      "/opt/miniconda3/envs/billettkontroll/lib/python3.8/site-packages/xgboost/data.py:250: FutureWarning: pandas.Int64Index is deprecated and will be removed from pandas in a future version. Use pandas.Index with the appropriate dtype instead.\n",
      "  elif isinstance(data.columns, (pd.Int64Index, pd.RangeIndex)):\n",
      "\u001b[32m[I 2022-12-02 23:04:28,756]\u001b[0m Trial 99 finished with value: 0.662020905923345 and parameters: {'max_depth': 5, 'learning_rate': 0.056762063825043625, 'n_estimators': 256, 'min_child_weight': 6, 'gamma': 0.006008934312586694, 'subsample': 0.020790652302742275, 'colsample_bytree': 0.6912856766843314, 'reg_alpha': 3.2113805758917253e-07, 'reg_lambda': 1.8185992979144158e-06}. Best is trial 84 with value: 0.6749626679940269.\u001b[0m\n",
      "/opt/miniconda3/envs/billettkontroll/lib/python3.8/site-packages/xgboost/data.py:250: FutureWarning: pandas.Int64Index is deprecated and will be removed from pandas in a future version. Use pandas.Index with the appropriate dtype instead.\n",
      "  elif isinstance(data.columns, (pd.Int64Index, pd.RangeIndex)):\n",
      "\u001b[32m[I 2022-12-02 23:04:29,090]\u001b[0m Trial 100 finished with value: 0.6625186660029866 and parameters: {'max_depth': 3, 'learning_rate': 0.17235518859756976, 'n_estimators': 430, 'min_child_weight': 2, 'gamma': 0.12682507109097024, 'subsample': 0.04913990114640168, 'colsample_bytree': 0.02006872313906636, 'reg_alpha': 1.420432454175793e-08, 'reg_lambda': 8.629200102852131e-06}. Best is trial 84 with value: 0.6749626679940269.\u001b[0m\n",
      "/opt/miniconda3/envs/billettkontroll/lib/python3.8/site-packages/xgboost/data.py:250: FutureWarning: pandas.Int64Index is deprecated and will be removed from pandas in a future version. Use pandas.Index with the appropriate dtype instead.\n",
      "  elif isinstance(data.columns, (pd.Int64Index, pd.RangeIndex)):\n",
      "\u001b[32m[I 2022-12-02 23:04:29,225]\u001b[0m Trial 101 finished with value: 0.6694873071179691 and parameters: {'max_depth': 1, 'learning_rate': 0.06526661035368203, 'n_estimators': 270, 'min_child_weight': 5, 'gamma': 0.05875820043268948, 'subsample': 0.06013051669872132, 'colsample_bytree': 0.028692665911017406, 'reg_alpha': 3.6283900632316465e-08, 'reg_lambda': 5.35050514815355e-07}. Best is trial 84 with value: 0.6749626679940269.\u001b[0m\n",
      "/opt/miniconda3/envs/billettkontroll/lib/python3.8/site-packages/xgboost/data.py:250: FutureWarning: pandas.Int64Index is deprecated and will be removed from pandas in a future version. Use pandas.Index with the appropriate dtype instead.\n",
      "  elif isinstance(data.columns, (pd.Int64Index, pd.RangeIndex)):\n",
      "\u001b[32m[I 2022-12-02 23:04:29,359]\u001b[0m Trial 102 finished with value: 0.6769537083125934 and parameters: {'max_depth': 1, 'learning_rate': 0.09791171703563345, 'n_estimators': 270, 'min_child_weight': 5, 'gamma': 0.014908294870484841, 'subsample': 0.054665361734067545, 'colsample_bytree': 0.02466616797212445, 'reg_alpha': 2.976235135886206e-08, 'reg_lambda': 7.383604698475473e-07}. Best is trial 102 with value: 0.6769537083125934.\u001b[0m\n",
      "/opt/miniconda3/envs/billettkontroll/lib/python3.8/site-packages/xgboost/data.py:250: FutureWarning: pandas.Int64Index is deprecated and will be removed from pandas in a future version. Use pandas.Index with the appropriate dtype instead.\n",
      "  elif isinstance(data.columns, (pd.Int64Index, pd.RangeIndex)):\n",
      "\u001b[32m[I 2022-12-02 23:04:29,510]\u001b[0m Trial 103 finished with value: 0.6704828272772524 and parameters: {'max_depth': 1, 'learning_rate': 0.10285909185411488, 'n_estimators': 267, 'min_child_weight': 5, 'gamma': 0.01383805603477613, 'subsample': 0.09096562689227848, 'colsample_bytree': 0.023400124615306283, 'reg_alpha': 7.926263721486962e-08, 'reg_lambda': 7.032396368440895e-07}. Best is trial 102 with value: 0.6769537083125934.\u001b[0m\n",
      "/opt/miniconda3/envs/billettkontroll/lib/python3.8/site-packages/xgboost/data.py:250: FutureWarning: pandas.Int64Index is deprecated and will be removed from pandas in a future version. Use pandas.Index with the appropriate dtype instead.\n",
      "  elif isinstance(data.columns, (pd.Int64Index, pd.RangeIndex)):\n",
      "\u001b[32m[I 2022-12-02 23:04:29,649]\u001b[0m Trial 104 finished with value: 0.6684917869586859 and parameters: {'max_depth': 1, 'learning_rate': 0.09613783384800481, 'n_estimators': 248, 'min_child_weight': 4, 'gamma': 0.023267679765214832, 'subsample': 0.0875347411326827, 'colsample_bytree': 0.017734505773729925, 'reg_alpha': 3.514628687887619e-08, 'reg_lambda': 2.1866685052262882e-07}. Best is trial 102 with value: 0.6769537083125934.\u001b[0m\n",
      "/opt/miniconda3/envs/billettkontroll/lib/python3.8/site-packages/xgboost/data.py:250: FutureWarning: pandas.Int64Index is deprecated and will be removed from pandas in a future version. Use pandas.Index with the appropriate dtype instead.\n",
      "  elif isinstance(data.columns, (pd.Int64Index, pd.RangeIndex)):\n",
      "\u001b[32m[I 2022-12-02 23:04:29,787]\u001b[0m Trial 105 finished with value: 0.6714783474365356 and parameters: {'max_depth': 1, 'learning_rate': 0.08207473987418824, 'n_estimators': 266, 'min_child_weight': 5, 'gamma': 0.004375267692294057, 'subsample': 0.0736763559427321, 'colsample_bytree': 0.02289469435392866, 'reg_alpha': 7.630254097157616e-08, 'reg_lambda': 6.893402976014917e-07}. Best is trial 102 with value: 0.6769537083125934.\u001b[0m\n",
      "/opt/miniconda3/envs/billettkontroll/lib/python3.8/site-packages/xgboost/data.py:250: FutureWarning: pandas.Int64Index is deprecated and will be removed from pandas in a future version. Use pandas.Index with the appropriate dtype instead.\n",
      "  elif isinstance(data.columns, (pd.Int64Index, pd.RangeIndex)):\n",
      "\u001b[32m[I 2022-12-02 23:04:29,955]\u001b[0m Trial 106 finished with value: 0.6640119462419114 and parameters: {'max_depth': 1, 'learning_rate': 0.10644413940666159, 'n_estimators': 284, 'min_child_weight': 5, 'gamma': 0.01457128404582223, 'subsample': 0.1545571973575197, 'colsample_bytree': 0.015392978915165861, 'reg_alpha': 8.729407363519005e-08, 'reg_lambda': 9.486553317405263e-07}. Best is trial 102 with value: 0.6769537083125934.\u001b[0m\n",
      "/opt/miniconda3/envs/billettkontroll/lib/python3.8/site-packages/xgboost/data.py:250: FutureWarning: pandas.Int64Index is deprecated and will be removed from pandas in a future version. Use pandas.Index with the appropriate dtype instead.\n",
      "  elif isinstance(data.columns, (pd.Int64Index, pd.RangeIndex)):\n",
      "\u001b[32m[I 2022-12-02 23:04:30,096]\u001b[0m Trial 107 finished with value: 0.6714783474365356 and parameters: {'max_depth': 1, 'learning_rate': 0.07888850982987812, 'n_estimators': 270, 'min_child_weight': 5, 'gamma': 0.0045623830849003556, 'subsample': 0.07569653650655105, 'colsample_bytree': 0.021301263239335164, 'reg_alpha': 2.311077758673431e-08, 'reg_lambda': 4.300944935962739e-08}. Best is trial 102 with value: 0.6769537083125934.\u001b[0m\n",
      "/opt/miniconda3/envs/billettkontroll/lib/python3.8/site-packages/xgboost/data.py:250: FutureWarning: pandas.Int64Index is deprecated and will be removed from pandas in a future version. Use pandas.Index with the appropriate dtype instead.\n",
      "  elif isinstance(data.columns, (pd.Int64Index, pd.RangeIndex)):\n",
      "\u001b[32m[I 2022-12-02 23:04:30,253]\u001b[0m Trial 108 finished with value: 0.6655052264808362 and parameters: {'max_depth': 1, 'learning_rate': 0.07450506201533345, 'n_estimators': 261, 'min_child_weight': 5, 'gamma': 0.004680841725366502, 'subsample': 0.1073070901232762, 'colsample_bytree': 0.023661977759362657, 'reg_alpha': 1.959027702633397e-08, 'reg_lambda': 5.5365213391821035e-08}. Best is trial 102 with value: 0.6769537083125934.\u001b[0m\n",
      "/opt/miniconda3/envs/billettkontroll/lib/python3.8/site-packages/xgboost/data.py:250: FutureWarning: pandas.Int64Index is deprecated and will be removed from pandas in a future version. Use pandas.Index with the appropriate dtype instead.\n",
      "  elif isinstance(data.columns, (pd.Int64Index, pd.RangeIndex)):\n",
      "\u001b[32m[I 2022-12-02 23:04:30,375]\u001b[0m Trial 109 finished with value: 0.6665007466401195 and parameters: {'max_depth': 1, 'learning_rate': 0.0806211816626129, 'n_estimators': 229, 'min_child_weight': 4, 'gamma': 0.008738174741912382, 'subsample': 0.07754499643954965, 'colsample_bytree': 0.021565133685458156, 'reg_alpha': 6.017764579944986e-08, 'reg_lambda': 1.4135551918265507e-07}. Best is trial 102 with value: 0.6769537083125934.\u001b[0m\n",
      "/opt/miniconda3/envs/billettkontroll/lib/python3.8/site-packages/xgboost/data.py:250: FutureWarning: pandas.Int64Index is deprecated and will be removed from pandas in a future version. Use pandas.Index with the appropriate dtype instead.\n",
      "  elif isinstance(data.columns, (pd.Int64Index, pd.RangeIndex)):\n",
      "\u001b[32m[I 2022-12-02 23:04:30,505]\u001b[0m Trial 110 finished with value: 0.6630164260826281 and parameters: {'max_depth': 1, 'learning_rate': 0.08966199904293264, 'n_estimators': 211, 'min_child_weight': 4, 'gamma': 0.0012619995368551517, 'subsample': 0.199050630038258, 'colsample_bytree': 0.01689686907930034, 'reg_alpha': 1.4426140061995535e-08, 'reg_lambda': 3.070535667053521e-07}. Best is trial 102 with value: 0.6769537083125934.\u001b[0m\n",
      "/opt/miniconda3/envs/billettkontroll/lib/python3.8/site-packages/xgboost/data.py:250: FutureWarning: pandas.Int64Index is deprecated and will be removed from pandas in a future version. Use pandas.Index with the appropriate dtype instead.\n",
      "  elif isinstance(data.columns, (pd.Int64Index, pd.RangeIndex)):\n",
      "\u001b[32m[I 2022-12-02 23:04:30,665]\u001b[0m Trial 111 finished with value: 0.6679940268790443 and parameters: {'max_depth': 1, 'learning_rate': 0.06889041770476435, 'n_estimators': 274, 'min_child_weight': 5, 'gamma': 0.0410688025972996, 'subsample': 0.10268465043699174, 'colsample_bytree': 0.01003526789378904, 'reg_alpha': 2.890535779934134e-08, 'reg_lambda': 6.044661108846109e-07}. Best is trial 102 with value: 0.6769537083125934.\u001b[0m\n",
      "/opt/miniconda3/envs/billettkontroll/lib/python3.8/site-packages/xgboost/data.py:250: FutureWarning: pandas.Int64Index is deprecated and will be removed from pandas in a future version. Use pandas.Index with the appropriate dtype instead.\n",
      "  elif isinstance(data.columns, (pd.Int64Index, pd.RangeIndex)):\n",
      "\u001b[32m[I 2022-12-02 23:04:30,819]\u001b[0m Trial 112 finished with value: 0.6655052264808362 and parameters: {'max_depth': 1, 'learning_rate': 0.04954343032504728, 'n_estimators': 302, 'min_child_weight': 5, 'gamma': 0.003202891083035534, 'subsample': 0.0733874037816821, 'colsample_bytree': 0.02414320326790021, 'reg_alpha': 1.4201149534620448e-07, 'reg_lambda': 2.7590178028810338e-08}. Best is trial 102 with value: 0.6769537083125934.\u001b[0m\n",
      "/opt/miniconda3/envs/billettkontroll/lib/python3.8/site-packages/xgboost/data.py:250: FutureWarning: pandas.Int64Index is deprecated and will be removed from pandas in a future version. Use pandas.Index with the appropriate dtype instead.\n",
      "  elif isinstance(data.columns, (pd.Int64Index, pd.RangeIndex)):\n",
      "\u001b[32m[I 2022-12-02 23:04:30,949]\u001b[0m Trial 113 finished with value: 0.6729716276754605 and parameters: {'max_depth': 1, 'learning_rate': 0.10778759102594723, 'n_estimators': 265, 'min_child_weight': 5, 'gamma': 0.015532993448341302, 'subsample': 0.055727367630467636, 'colsample_bytree': 0.031218220126438018, 'reg_alpha': 4.869644480049754e-08, 'reg_lambda': 5.986398741787108e-08}. Best is trial 102 with value: 0.6769537083125934.\u001b[0m\n",
      "/opt/miniconda3/envs/billettkontroll/lib/python3.8/site-packages/xgboost/data.py:250: FutureWarning: pandas.Int64Index is deprecated and will be removed from pandas in a future version. Use pandas.Index with the appropriate dtype instead.\n",
      "  elif isinstance(data.columns, (pd.Int64Index, pd.RangeIndex)):\n",
      "\u001b[32m[I 2022-12-02 23:04:31,078]\u001b[0m Trial 114 finished with value: 0.6699850671976108 and parameters: {'max_depth': 1, 'learning_rate': 0.13550901396432002, 'n_estimators': 251, 'min_child_weight': 4, 'gamma': 0.015854232949135034, 'subsample': 0.05672688502791257, 'colsample_bytree': 0.03306106276626041, 'reg_alpha': 8.228622045681856e-08, 'reg_lambda': 1.9219946308475462e-08}. Best is trial 102 with value: 0.6769537083125934.\u001b[0m\n",
      "/opt/miniconda3/envs/billettkontroll/lib/python3.8/site-packages/xgboost/data.py:250: FutureWarning: pandas.Int64Index is deprecated and will be removed from pandas in a future version. Use pandas.Index with the appropriate dtype instead.\n",
      "  elif isinstance(data.columns, (pd.Int64Index, pd.RangeIndex)):\n",
      "\u001b[32m[I 2022-12-02 23:04:31,207]\u001b[0m Trial 115 finished with value: 0.6684917869586859 and parameters: {'max_depth': 1, 'learning_rate': 0.10601851069320013, 'n_estimators': 249, 'min_child_weight': 4, 'gamma': 0.012190275407830204, 'subsample': 0.0679353952036367, 'colsample_bytree': 0.03196741437443051, 'reg_alpha': 7.44005947846727e-08, 'reg_lambda': 1.8260459560631418e-08}. Best is trial 102 with value: 0.6769537083125934.\u001b[0m\n",
      "/opt/miniconda3/envs/billettkontroll/lib/python3.8/site-packages/xgboost/data.py:250: FutureWarning: pandas.Int64Index is deprecated and will be removed from pandas in a future version. Use pandas.Index with the appropriate dtype instead.\n",
      "  elif isinstance(data.columns, (pd.Int64Index, pd.RangeIndex)):\n",
      "\u001b[32m[I 2022-12-02 23:04:31,319]\u001b[0m Trial 116 finished with value: 0.6694873071179691 and parameters: {'max_depth': 1, 'learning_rate': 0.13511273592284834, 'n_estimators': 219, 'min_child_weight': 3, 'gamma': 0.005728389807278436, 'subsample': 0.052174289627948976, 'colsample_bytree': 0.02068996625756894, 'reg_alpha': 4.806662381266999e-08, 'reg_lambda': 5.576269192212292e-08}. Best is trial 102 with value: 0.6769537083125934.\u001b[0m\n",
      "/opt/miniconda3/envs/billettkontroll/lib/python3.8/site-packages/xgboost/data.py:250: FutureWarning: pandas.Int64Index is deprecated and will be removed from pandas in a future version. Use pandas.Index with the appropriate dtype instead.\n",
      "  elif isinstance(data.columns, (pd.Int64Index, pd.RangeIndex)):\n",
      "\u001b[32m[I 2022-12-02 23:04:31,441]\u001b[0m Trial 117 finished with value: 0.6674962667994027 and parameters: {'max_depth': 1, 'learning_rate': 0.1173680044599765, 'n_estimators': 240, 'min_child_weight': 5, 'gamma': 0.01863839058619316, 'subsample': 0.9601614761299615, 'colsample_bytree': 0.025329706352146802, 'reg_alpha': 2.6079136757870214e-08, 'reg_lambda': 1.0529702432716932e-08}. Best is trial 102 with value: 0.6769537083125934.\u001b[0m\n",
      "/opt/miniconda3/envs/billettkontroll/lib/python3.8/site-packages/xgboost/data.py:250: FutureWarning: pandas.Int64Index is deprecated and will be removed from pandas in a future version. Use pandas.Index with the appropriate dtype instead.\n",
      "  elif isinstance(data.columns, (pd.Int64Index, pd.RangeIndex)):\n",
      "\u001b[32m[I 2022-12-02 23:04:31,594]\u001b[0m Trial 118 finished with value: 0.6704828272772524 and parameters: {'max_depth': 1, 'learning_rate': 0.15084467000599225, 'n_estimators': 263, 'min_child_weight': 5, 'gamma': 0.0002327335718846729, 'subsample': 0.08637530141965169, 'colsample_bytree': 0.032933380576518796, 'reg_alpha': 1.265349200256094e-08, 'reg_lambda': 7.753220964821839e-08}. Best is trial 102 with value: 0.6769537083125934.\u001b[0m\n",
      "/opt/miniconda3/envs/billettkontroll/lib/python3.8/site-packages/xgboost/data.py:250: FutureWarning: pandas.Int64Index is deprecated and will be removed from pandas in a future version. Use pandas.Index with the appropriate dtype instead.\n",
      "  elif isinstance(data.columns, (pd.Int64Index, pd.RangeIndex)):\n",
      "\u001b[32m[I 2022-12-02 23:04:31,748]\u001b[0m Trial 119 finished with value: 0.670980587356894 and parameters: {'max_depth': 1, 'learning_rate': 0.09401796625863482, 'n_estimators': 260, 'min_child_weight': 5, 'gamma': 0.0001347304557866128, 'subsample': 0.12769556266959076, 'colsample_bytree': 0.03815656863519366, 'reg_alpha': 1.487529586156284e-08, 'reg_lambda': 7.252798449442537e-08}. Best is trial 102 with value: 0.6769537083125934.\u001b[0m\n",
      "/opt/miniconda3/envs/billettkontroll/lib/python3.8/site-packages/xgboost/data.py:250: FutureWarning: pandas.Int64Index is deprecated and will be removed from pandas in a future version. Use pandas.Index with the appropriate dtype instead.\n",
      "  elif isinstance(data.columns, (pd.Int64Index, pd.RangeIndex)):\n",
      "\u001b[32m[I 2022-12-02 23:04:31,901]\u001b[0m Trial 120 finished with value: 0.6694873071179691 and parameters: {'max_depth': 1, 'learning_rate': 0.08782196370640279, 'n_estimators': 260, 'min_child_weight': 5, 'gamma': 0.0001641414796755035, 'subsample': 0.12013764179486612, 'colsample_bytree': 0.0396668878487477, 'reg_alpha': 1.2183243105014957e-08, 'reg_lambda': 8.80176635879495e-08}. Best is trial 102 with value: 0.6769537083125934.\u001b[0m\n",
      "/opt/miniconda3/envs/billettkontroll/lib/python3.8/site-packages/xgboost/data.py:250: FutureWarning: pandas.Int64Index is deprecated and will be removed from pandas in a future version. Use pandas.Index with the appropriate dtype instead.\n",
      "  elif isinstance(data.columns, (pd.Int64Index, pd.RangeIndex)):\n",
      "\u001b[32m[I 2022-12-02 23:04:32,041]\u001b[0m Trial 121 finished with value: 0.6660029865604778 and parameters: {'max_depth': 1, 'learning_rate': 0.15643109814961978, 'n_estimators': 233, 'min_child_weight': 5, 'gamma': 1.0899355174436874e-05, 'subsample': 0.13525801080796876, 'colsample_bytree': 0.03179258984340899, 'reg_alpha': 1.9488955596811708e-08, 'reg_lambda': 2.2159216879766055e-08}. Best is trial 102 with value: 0.6769537083125934.\u001b[0m\n",
      "/opt/miniconda3/envs/billettkontroll/lib/python3.8/site-packages/xgboost/data.py:250: FutureWarning: pandas.Int64Index is deprecated and will be removed from pandas in a future version. Use pandas.Index with the appropriate dtype instead.\n",
      "  elif isinstance(data.columns, (pd.Int64Index, pd.RangeIndex)):\n",
      "\u001b[32m[I 2022-12-02 23:04:32,192]\u001b[0m Trial 122 finished with value: 0.6679940268790443 and parameters: {'max_depth': 1, 'learning_rate': 0.08101542774723135, 'n_estimators': 266, 'min_child_weight': 5, 'gamma': 0.004095741177817489, 'subsample': 0.09197672012829725, 'colsample_bytree': 0.03535099443923517, 'reg_alpha': 1.0112617639677147e-08, 'reg_lambda': 4.7740027810039956e-08}. Best is trial 102 with value: 0.6769537083125934.\u001b[0m\n",
      "/opt/miniconda3/envs/billettkontroll/lib/python3.8/site-packages/xgboost/data.py:250: FutureWarning: pandas.Int64Index is deprecated and will be removed from pandas in a future version. Use pandas.Index with the appropriate dtype instead.\n",
      "  elif isinstance(data.columns, (pd.Int64Index, pd.RangeIndex)):\n",
      "\u001b[32m[I 2022-12-02 23:04:32,347]\u001b[0m Trial 123 finished with value: 0.6674962667994027 and parameters: {'max_depth': 1, 'learning_rate': 0.09319881508595744, 'n_estimators': 283, 'min_child_weight': 5, 'gamma': 0.00022684200652285823, 'subsample': 0.08326950214285195, 'colsample_bytree': 0.023088049177030483, 'reg_alpha': 1.5522697476457567e-08, 'reg_lambda': 1.6248967188561743e-07}. Best is trial 102 with value: 0.6769537083125934.\u001b[0m\n",
      "/opt/miniconda3/envs/billettkontroll/lib/python3.8/site-packages/xgboost/data.py:250: FutureWarning: pandas.Int64Index is deprecated and will be removed from pandas in a future version. Use pandas.Index with the appropriate dtype instead.\n",
      "  elif isinstance(data.columns, (pd.Int64Index, pd.RangeIndex)):\n",
      "\u001b[32m[I 2022-12-02 23:04:32,524]\u001b[0m Trial 124 finished with value: 0.6650074664011946 and parameters: {'max_depth': 1, 'learning_rate': 0.09988714046651456, 'n_estimators': 294, 'min_child_weight': 5, 'gamma': 9.699221248632428e-05, 'subsample': 0.197754922351148, 'colsample_bytree': 0.04638897314270301, 'reg_alpha': 0.0001552749548796352, 'reg_lambda': 9.120091665879495e-08}. Best is trial 102 with value: 0.6769537083125934.\u001b[0m\n",
      "/opt/miniconda3/envs/billettkontroll/lib/python3.8/site-packages/xgboost/data.py:250: FutureWarning: pandas.Int64Index is deprecated and will be removed from pandas in a future version. Use pandas.Index with the appropriate dtype instead.\n",
      "  elif isinstance(data.columns, (pd.Int64Index, pd.RangeIndex)):\n",
      "\u001b[32m[I 2022-12-02 23:04:32,770]\u001b[0m Trial 125 finished with value: 0.6605276256844201 and parameters: {'max_depth': 2, 'learning_rate': 0.11290507956680541, 'n_estimators': 308, 'min_child_weight': 5, 'gamma': 5.124260827823894e-05, 'subsample': 0.1423280548394545, 'colsample_bytree': 0.01903243706012331, 'reg_alpha': 4.305297362706194e-08, 'reg_lambda': 4.1361192652170864e-08}. Best is trial 102 with value: 0.6769537083125934.\u001b[0m\n",
      "/opt/miniconda3/envs/billettkontroll/lib/python3.8/site-packages/xgboost/data.py:250: FutureWarning: pandas.Int64Index is deprecated and will be removed from pandas in a future version. Use pandas.Index with the appropriate dtype instead.\n",
      "  elif isinstance(data.columns, (pd.Int64Index, pd.RangeIndex)):\n",
      "\u001b[32m[I 2022-12-02 23:04:32,920]\u001b[0m Trial 126 finished with value: 0.6714783474365356 and parameters: {'max_depth': 1, 'learning_rate': 0.14623168258485275, 'n_estimators': 254, 'min_child_weight': 4, 'gamma': 0.0003533217164615645, 'subsample': 0.1142055558211963, 'colsample_bytree': 0.029507366975021786, 'reg_alpha': 8.716321145300926e-08, 'reg_lambda': 2.8758603756544e-08}. Best is trial 102 with value: 0.6769537083125934.\u001b[0m\n",
      "/opt/miniconda3/envs/billettkontroll/lib/python3.8/site-packages/xgboost/data.py:250: FutureWarning: pandas.Int64Index is deprecated and will be removed from pandas in a future version. Use pandas.Index with the appropriate dtype instead.\n",
      "  elif isinstance(data.columns, (pd.Int64Index, pd.RangeIndex)):\n",
      "\u001b[32m[I 2022-12-02 23:04:33,065]\u001b[0m Trial 127 finished with value: 0.6655052264808362 and parameters: {'max_depth': 1, 'learning_rate': 0.16787476949278554, 'n_estimators': 241, 'min_child_weight': 4, 'gamma': 0.00041019573962063923, 'subsample': 0.17606968426467576, 'colsample_bytree': 0.03001570723300224, 'reg_alpha': 2.8730033395837773e-08, 'reg_lambda': 7.992905815561831e-08}. Best is trial 102 with value: 0.6769537083125934.\u001b[0m\n",
      "/opt/miniconda3/envs/billettkontroll/lib/python3.8/site-packages/xgboost/data.py:250: FutureWarning: pandas.Int64Index is deprecated and will be removed from pandas in a future version. Use pandas.Index with the appropriate dtype instead.\n",
      "  elif isinstance(data.columns, (pd.Int64Index, pd.RangeIndex)):\n",
      "\u001b[32m[I 2022-12-02 23:04:33,229]\u001b[0m Trial 128 finished with value: 0.664509706321553 and parameters: {'max_depth': 1, 'learning_rate': 0.22284236030249935, 'n_estimators': 268, 'min_child_weight': 4, 'gamma': 0.0001406784932460207, 'subsample': 0.10974797172421331, 'colsample_bytree': 0.025466030067404714, 'reg_alpha': 1.0371915780449554e-07, 'reg_lambda': 3.089843776941057e-08}. Best is trial 102 with value: 0.6769537083125934.\u001b[0m\n",
      "/opt/miniconda3/envs/billettkontroll/lib/python3.8/site-packages/xgboost/data.py:250: FutureWarning: pandas.Int64Index is deprecated and will be removed from pandas in a future version. Use pandas.Index with the appropriate dtype instead.\n",
      "  elif isinstance(data.columns, (pd.Int64Index, pd.RangeIndex)):\n",
      "\u001b[32m[I 2022-12-02 23:04:33,391]\u001b[0m Trial 129 finished with value: 0.6640119462419114 and parameters: {'max_depth': 1, 'learning_rate': 0.1297222987754027, 'n_estimators': 280, 'min_child_weight': 3, 'gamma': 0.00029778639089634543, 'subsample': 0.09831857788600881, 'colsample_bytree': 0.03951529745980963, 'reg_alpha': 2.4130667431972485e-08, 'reg_lambda': 1.3083695259096015e-07}. Best is trial 102 with value: 0.6769537083125934.\u001b[0m\n",
      "/opt/miniconda3/envs/billettkontroll/lib/python3.8/site-packages/xgboost/data.py:250: FutureWarning: pandas.Int64Index is deprecated and will be removed from pandas in a future version. Use pandas.Index with the appropriate dtype instead.\n",
      "  elif isinstance(data.columns, (pd.Int64Index, pd.RangeIndex)):\n",
      "\u001b[32m[I 2022-12-02 23:04:33,543]\u001b[0m Trial 130 finished with value: 0.6684917869586859 and parameters: {'max_depth': 1, 'learning_rate': 0.14678332802418664, 'n_estimators': 257, 'min_child_weight': 5, 'gamma': 0.0005601858421340858, 'subsample': 0.12063986488635602, 'colsample_bytree': 0.050236862241910755, 'reg_alpha': 5.748588007543372e-08, 'reg_lambda': 3.5231200100192236e-07}. Best is trial 102 with value: 0.6769537083125934.\u001b[0m\n",
      "/opt/miniconda3/envs/billettkontroll/lib/python3.8/site-packages/xgboost/data.py:250: FutureWarning: pandas.Int64Index is deprecated and will be removed from pandas in a future version. Use pandas.Index with the appropriate dtype instead.\n",
      "  elif isinstance(data.columns, (pd.Int64Index, pd.RangeIndex)):\n",
      "\u001b[32m[I 2022-12-02 23:04:33,671]\u001b[0m Trial 131 finished with value: 0.6704828272772524 and parameters: {'max_depth': 1, 'learning_rate': 0.10217722836998434, 'n_estimators': 253, 'min_child_weight': 4, 'gamma': 2.3152522697886375e-05, 'subsample': 0.0674305012890571, 'colsample_bytree': 0.03534806952893714, 'reg_alpha': 7.797512992183042e-08, 'reg_lambda': 1.1352301963337833e-08}. Best is trial 102 with value: 0.6769537083125934.\u001b[0m\n",
      "/opt/miniconda3/envs/billettkontroll/lib/python3.8/site-packages/xgboost/data.py:250: FutureWarning: pandas.Int64Index is deprecated and will be removed from pandas in a future version. Use pandas.Index with the appropriate dtype instead.\n",
      "  elif isinstance(data.columns, (pd.Int64Index, pd.RangeIndex)):\n",
      "\u001b[32m[I 2022-12-02 23:04:33,811]\u001b[0m Trial 132 finished with value: 0.664509706321553 and parameters: {'max_depth': 1, 'learning_rate': 0.10296145880415286, 'n_estimators': 244, 'min_child_weight': 4, 'gamma': 2.2818374117391557e-05, 'subsample': 0.08704401716880227, 'colsample_bytree': 0.036380432040177046, 'reg_alpha': 2.4422095470917047e-07, 'reg_lambda': 1.4100059610036647e-08}. Best is trial 102 with value: 0.6769537083125934.\u001b[0m\n",
      "/opt/miniconda3/envs/billettkontroll/lib/python3.8/site-packages/xgboost/data.py:250: FutureWarning: pandas.Int64Index is deprecated and will be removed from pandas in a future version. Use pandas.Index with the appropriate dtype instead.\n",
      "  elif isinstance(data.columns, (pd.Int64Index, pd.RangeIndex)):\n",
      "\u001b[32m[I 2022-12-02 23:04:33,945]\u001b[0m Trial 133 finished with value: 0.6704828272772524 and parameters: {'max_depth': 1, 'learning_rate': 0.1833241309906364, 'n_estimators': 259, 'min_child_weight': 4, 'gamma': 5.373146369431814e-06, 'subsample': 0.07640565413306932, 'colsample_bytree': 0.029688668193661862, 'reg_alpha': 1.3826872741819715e-07, 'reg_lambda': 2.548736037877915e-07}. Best is trial 102 with value: 0.6769537083125934.\u001b[0m\n",
      "/opt/miniconda3/envs/billettkontroll/lib/python3.8/site-packages/xgboost/data.py:250: FutureWarning: pandas.Int64Index is deprecated and will be removed from pandas in a future version. Use pandas.Index with the appropriate dtype instead.\n",
      "  elif isinstance(data.columns, (pd.Int64Index, pd.RangeIndex)):\n",
      "\u001b[32m[I 2022-12-02 23:04:34,106]\u001b[0m Trial 134 finished with value: 0.6689895470383276 and parameters: {'max_depth': 1, 'learning_rate': 0.07683639487632432, 'n_estimators': 277, 'min_child_weight': 5, 'gamma': 2.5006337356600386e-05, 'subsample': 0.0680494758266835, 'colsample_bytree': 0.04287712099168329, 'reg_alpha': 4.4437417774620524e-08, 'reg_lambda': 6.726055147710234e-08}. Best is trial 102 with value: 0.6769537083125934.\u001b[0m\n",
      "/opt/miniconda3/envs/billettkontroll/lib/python3.8/site-packages/xgboost/data.py:250: FutureWarning: pandas.Int64Index is deprecated and will be removed from pandas in a future version. Use pandas.Index with the appropriate dtype instead.\n",
      "  elif isinstance(data.columns, (pd.Int64Index, pd.RangeIndex)):\n",
      "\u001b[32m[I 2022-12-02 23:04:34,228]\u001b[0m Trial 135 finished with value: 0.6674962667994027 and parameters: {'max_depth': 1, 'learning_rate': 0.25166196106835337, 'n_estimators': 225, 'min_child_weight': 4, 'gamma': 1.2378575858135483e-05, 'subsample': 0.0795196379229046, 'colsample_bytree': 0.029434475358462282, 'reg_alpha': 1.4386068282767436e-07, 'reg_lambda': 1.0032020031847608e-08}. Best is trial 102 with value: 0.6769537083125934.\u001b[0m\n",
      "/opt/miniconda3/envs/billettkontroll/lib/python3.8/site-packages/xgboost/data.py:250: FutureWarning: pandas.Int64Index is deprecated and will be removed from pandas in a future version. Use pandas.Index with the appropriate dtype instead.\n",
      "  elif isinstance(data.columns, (pd.Int64Index, pd.RangeIndex)):\n",
      "\u001b[32m[I 2022-12-02 23:04:34,340]\u001b[0m Trial 136 finished with value: 0.6724738675958188 and parameters: {'max_depth': 1, 'learning_rate': 0.09276931721431146, 'n_estimators': 205, 'min_child_weight': 4, 'gamma': 5.759636627788308e-05, 'subsample': 0.07219574966352421, 'colsample_bytree': 0.023073846479149868, 'reg_alpha': 7.647753915664028e-08, 'reg_lambda': 2.719631857427997e-07}. Best is trial 102 with value: 0.6769537083125934.\u001b[0m\n",
      "/opt/miniconda3/envs/billettkontroll/lib/python3.8/site-packages/xgboost/data.py:250: FutureWarning: pandas.Int64Index is deprecated and will be removed from pandas in a future version. Use pandas.Index with the appropriate dtype instead.\n",
      "  elif isinstance(data.columns, (pd.Int64Index, pd.RangeIndex)):\n",
      "\u001b[32m[I 2022-12-02 23:04:34,447]\u001b[0m Trial 137 finished with value: 0.6650074664011946 and parameters: {'max_depth': 1, 'learning_rate': 0.09276673768469314, 'n_estimators': 195, 'min_child_weight': 4, 'gamma': 7.129015749171213e-06, 'subsample': 0.07398200330565566, 'colsample_bytree': 0.023834830026623628, 'reg_alpha': 1.1681755941734995e-07, 'reg_lambda': 3.059531776601649e-07}. Best is trial 102 with value: 0.6769537083125934.\u001b[0m\n",
      "/opt/miniconda3/envs/billettkontroll/lib/python3.8/site-packages/xgboost/data.py:250: FutureWarning: pandas.Int64Index is deprecated and will be removed from pandas in a future version. Use pandas.Index with the appropriate dtype instead.\n",
      "  elif isinstance(data.columns, (pd.Int64Index, pd.RangeIndex)):\n",
      "\u001b[32m[I 2022-12-02 23:04:34,570]\u001b[0m Trial 138 finished with value: 0.6610253857640617 and parameters: {'max_depth': 2, 'learning_rate': 0.1067814656126655, 'n_estimators': 177, 'min_child_weight': 3, 'gamma': 0.00011904117967030012, 'subsample': 0.04692378195742451, 'colsample_bytree': 0.020940868342475643, 'reg_alpha': 6.966560287908779e-08, 'reg_lambda': 3.9557819912955e-08}. Best is trial 102 with value: 0.6769537083125934.\u001b[0m\n",
      "/opt/miniconda3/envs/billettkontroll/lib/python3.8/site-packages/xgboost/data.py:250: FutureWarning: pandas.Int64Index is deprecated and will be removed from pandas in a future version. Use pandas.Index with the appropriate dtype instead.\n",
      "  elif isinstance(data.columns, (pd.Int64Index, pd.RangeIndex)):\n",
      "\u001b[32m[I 2022-12-02 23:04:34,740]\u001b[0m Trial 139 finished with value: 0.6590343454454952 and parameters: {'max_depth': 1, 'learning_rate': 0.20127448322531516, 'n_estimators': 295, 'min_child_weight': 4, 'gamma': 2.3339547805292235e-07, 'subsample': 0.099477191049759, 'colsample_bytree': 0.01741937346120946, 'reg_alpha': 2.6430398448629665e-07, 'reg_lambda': 2.1779060283353302e-07}. Best is trial 102 with value: 0.6769537083125934.\u001b[0m\n",
      "/opt/miniconda3/envs/billettkontroll/lib/python3.8/site-packages/xgboost/data.py:250: FutureWarning: pandas.Int64Index is deprecated and will be removed from pandas in a future version. Use pandas.Index with the appropriate dtype instead.\n",
      "  elif isinstance(data.columns, (pd.Int64Index, pd.RangeIndex)):\n",
      "\u001b[32m[I 2022-12-02 23:04:34,899]\u001b[0m Trial 140 finished with value: 0.6655052264808362 and parameters: {'max_depth': 2, 'learning_rate': 0.08385268697911714, 'n_estimators': 235, 'min_child_weight': 4, 'gamma': 5.153648590671396e-05, 'subsample': 0.061109423290007986, 'colsample_bytree': 0.025995234839158148, 'reg_alpha': 3.5038696128882974e-08, 'reg_lambda': 2.6669990203825303e-08}. Best is trial 102 with value: 0.6769537083125934.\u001b[0m\n",
      "/opt/miniconda3/envs/billettkontroll/lib/python3.8/site-packages/xgboost/data.py:250: FutureWarning: pandas.Int64Index is deprecated and will be removed from pandas in a future version. Use pandas.Index with the appropriate dtype instead.\n",
      "  elif isinstance(data.columns, (pd.Int64Index, pd.RangeIndex)):\n",
      "\u001b[32m[I 2022-12-02 23:04:35,049]\u001b[0m Trial 141 finished with value: 0.6724738675958188 and parameters: {'max_depth': 1, 'learning_rate': 0.1764298344359248, 'n_estimators': 263, 'min_child_weight': 5, 'gamma': 2.2551952977620016e-06, 'subsample': 0.0882111967899475, 'colsample_bytree': 0.03029170219569036, 'reg_alpha': 1.5633320730728426e-08, 'reg_lambda': 1.2558964991076807e-07}. Best is trial 102 with value: 0.6769537083125934.\u001b[0m\n",
      "/opt/miniconda3/envs/billettkontroll/lib/python3.8/site-packages/xgboost/data.py:250: FutureWarning: pandas.Int64Index is deprecated and will be removed from pandas in a future version. Use pandas.Index with the appropriate dtype instead.\n",
      "  elif isinstance(data.columns, (pd.Int64Index, pd.RangeIndex)):\n",
      "\u001b[32m[I 2022-12-02 23:04:35,203]\u001b[0m Trial 142 finished with value: 0.6684917869586859 and parameters: {'max_depth': 1, 'learning_rate': 0.12306891948286054, 'n_estimators': 268, 'min_child_weight': 5, 'gamma': 2.297869928195913e-06, 'subsample': 0.0936504704189143, 'colsample_bytree': 0.029785261300672414, 'reg_alpha': 2.1254029089209145e-08, 'reg_lambda': 1.1488447560356693e-07}. Best is trial 102 with value: 0.6769537083125934.\u001b[0m\n",
      "/opt/miniconda3/envs/billettkontroll/lib/python3.8/site-packages/xgboost/data.py:250: FutureWarning: pandas.Int64Index is deprecated and will be removed from pandas in a future version. Use pandas.Index with the appropriate dtype instead.\n",
      "  elif isinstance(data.columns, (pd.Int64Index, pd.RangeIndex)):\n",
      "\u001b[32m[I 2022-12-02 23:04:35,317]\u001b[0m Trial 143 finished with value: 0.6669985067197611 and parameters: {'max_depth': 1, 'learning_rate': 0.29961282982276155, 'n_estimators': 205, 'min_child_weight': 4, 'gamma': 1.0583465678812649e-06, 'subsample': 0.06811236805113335, 'colsample_bytree': 0.036046987036604555, 'reg_alpha': 4.7092346857435286e-08, 'reg_lambda': 1.927157176842447e-07}. Best is trial 102 with value: 0.6769537083125934.\u001b[0m\n",
      "/opt/miniconda3/envs/billettkontroll/lib/python3.8/site-packages/xgboost/data.py:250: FutureWarning: pandas.Int64Index is deprecated and will be removed from pandas in a future version. Use pandas.Index with the appropriate dtype instead.\n",
      "  elif isinstance(data.columns, (pd.Int64Index, pd.RangeIndex)):\n",
      "\u001b[32m[I 2022-12-02 23:04:35,465]\u001b[0m Trial 144 finished with value: 0.670980587356894 and parameters: {'max_depth': 1, 'learning_rate': 0.09754710645040757, 'n_estimators': 252, 'min_child_weight': 3, 'gamma': 0.008444378854394355, 'subsample': 0.11375324821219131, 'colsample_bytree': 0.02286425971614603, 'reg_alpha': 0.0004506390442574459, 'reg_lambda': 4.6670798043253733e-07}. Best is trial 102 with value: 0.6769537083125934.\u001b[0m\n",
      "/opt/miniconda3/envs/billettkontroll/lib/python3.8/site-packages/xgboost/data.py:250: FutureWarning: pandas.Int64Index is deprecated and will be removed from pandas in a future version. Use pandas.Index with the appropriate dtype instead.\n",
      "  elif isinstance(data.columns, (pd.Int64Index, pd.RangeIndex)):\n",
      "\u001b[32m[I 2022-12-02 23:04:35,602]\u001b[0m Trial 145 finished with value: 0.6625186660029866 and parameters: {'max_depth': 1, 'learning_rate': 0.14288941049920262, 'n_estimators': 221, 'min_child_weight': 2, 'gamma': 0.0007879941351530764, 'subsample': 0.1325607843497135, 'colsample_bytree': 0.01960272478221017, 'reg_alpha': 0.00032935927577546365, 'reg_lambda': 1.322206648594745e-07}. Best is trial 102 with value: 0.6769537083125934.\u001b[0m\n",
      "/opt/miniconda3/envs/billettkontroll/lib/python3.8/site-packages/xgboost/data.py:250: FutureWarning: pandas.Int64Index is deprecated and will be removed from pandas in a future version. Use pandas.Index with the appropriate dtype instead.\n",
      "  elif isinstance(data.columns, (pd.Int64Index, pd.RangeIndex)):\n",
      "\u001b[32m[I 2022-12-02 23:04:35,765]\u001b[0m Trial 146 finished with value: 0.6615231458437033 and parameters: {'max_depth': 1, 'learning_rate': 0.1623057025204566, 'n_estimators': 277, 'min_child_weight': 3, 'gamma': 0.00021732597377646654, 'subsample': 0.1096110520173197, 'colsample_bytree': 0.027388584637680624, 'reg_alpha': 0.0009943471590846524, 'reg_lambda': 9.745087956481332e-08}. Best is trial 102 with value: 0.6769537083125934.\u001b[0m\n",
      "/opt/miniconda3/envs/billettkontroll/lib/python3.8/site-packages/xgboost/data.py:250: FutureWarning: pandas.Int64Index is deprecated and will be removed from pandas in a future version. Use pandas.Index with the appropriate dtype instead.\n",
      "  elif isinstance(data.columns, (pd.Int64Index, pd.RangeIndex)):\n",
      "\u001b[32m[I 2022-12-02 23:04:35,918]\u001b[0m Trial 147 finished with value: 0.6679940268790443 and parameters: {'max_depth': 1, 'learning_rate': 0.08847070664526858, 'n_estimators': 255, 'min_child_weight': 3, 'gamma': 5.857241379298753e-06, 'subsample': 0.11744092070791108, 'colsample_bytree': 0.022142953824513062, 'reg_alpha': 3.9441787951112876e-05, 'reg_lambda': 2.5668990010972127e-07}. Best is trial 102 with value: 0.6769537083125934.\u001b[0m\n",
      "/opt/miniconda3/envs/billettkontroll/lib/python3.8/site-packages/xgboost/data.py:250: FutureWarning: pandas.Int64Index is deprecated and will be removed from pandas in a future version. Use pandas.Index with the appropriate dtype instead.\n",
      "  elif isinstance(data.columns, (pd.Int64Index, pd.RangeIndex)):\n",
      "\u001b[32m[I 2022-12-02 23:04:36,061]\u001b[0m Trial 148 finished with value: 0.6669985067197611 and parameters: {'max_depth': 1, 'learning_rate': 0.192540889820052, 'n_estimators': 288, 'min_child_weight': 2, 'gamma': 4.508865118970188e-06, 'subsample': 0.05498065964560486, 'colsample_bytree': 0.025281493024332306, 'reg_alpha': 0.003581808220176616, 'reg_lambda': 4.305031570587252e-07}. Best is trial 102 with value: 0.6769537083125934.\u001b[0m\n",
      "/opt/miniconda3/envs/billettkontroll/lib/python3.8/site-packages/xgboost/data.py:250: FutureWarning: pandas.Int64Index is deprecated and will be removed from pandas in a future version. Use pandas.Index with the appropriate dtype instead.\n",
      "  elif isinstance(data.columns, (pd.Int64Index, pd.RangeIndex)):\n",
      "\u001b[32m[I 2022-12-02 23:04:36,278]\u001b[0m Trial 149 finished with value: 0.664509706321553 and parameters: {'max_depth': 2, 'learning_rate': 0.07724852607949752, 'n_estimators': 270, 'min_child_weight': 6, 'gamma': 0.007892546722360947, 'subsample': 0.1795645404945653, 'colsample_bytree': 0.013739486156452574, 'reg_alpha': 7.125492919141113e-05, 'reg_lambda': 1.1730016884226612e-06}. Best is trial 102 with value: 0.6769537083125934.\u001b[0m\n",
      "/opt/miniconda3/envs/billettkontroll/lib/python3.8/site-packages/xgboost/data.py:250: FutureWarning: pandas.Int64Index is deprecated and will be removed from pandas in a future version. Use pandas.Index with the appropriate dtype instead.\n",
      "  elif isinstance(data.columns, (pd.Int64Index, pd.RangeIndex)):\n",
      "\u001b[32m[I 2022-12-02 23:04:36,541]\u001b[0m Trial 150 finished with value: 0.6635141861622698 and parameters: {'max_depth': 4, 'learning_rate': 0.061225573540574764, 'n_estimators': 246, 'min_child_weight': 5, 'gamma': 6.561774351432189e-08, 'subsample': 0.15008635123577974, 'colsample_bytree': 0.03180502939376109, 'reg_alpha': 1.473212750746406e-08, 'reg_lambda': 5.658447502182852e-08}. Best is trial 102 with value: 0.6769537083125934.\u001b[0m\n",
      "/opt/miniconda3/envs/billettkontroll/lib/python3.8/site-packages/xgboost/data.py:250: FutureWarning: pandas.Int64Index is deprecated and will be removed from pandas in a future version. Use pandas.Index with the appropriate dtype instead.\n",
      "  elif isinstance(data.columns, (pd.Int64Index, pd.RangeIndex)):\n",
      "\u001b[32m[I 2022-12-02 23:04:36,677]\u001b[0m Trial 151 finished with value: 0.6719761075161772 and parameters: {'max_depth': 1, 'learning_rate': 0.1804808981314534, 'n_estimators': 257, 'min_child_weight': 5, 'gamma': 1.5764897373229686e-06, 'subsample': 0.07796592675489382, 'colsample_bytree': 0.023061621653717057, 'reg_alpha': 0.00047039649454258114, 'reg_lambda': 7.041944402077259e-07}. Best is trial 102 with value: 0.6769537083125934.\u001b[0m\n",
      "/opt/miniconda3/envs/billettkontroll/lib/python3.8/site-packages/xgboost/data.py:250: FutureWarning: pandas.Int64Index is deprecated and will be removed from pandas in a future version. Use pandas.Index with the appropriate dtype instead.\n",
      "  elif isinstance(data.columns, (pd.Int64Index, pd.RangeIndex)):\n",
      "\u001b[32m[I 2022-12-02 23:04:36,823]\u001b[0m Trial 152 finished with value: 0.6714783474365356 and parameters: {'max_depth': 1, 'learning_rate': 0.1511318329797615, 'n_estimators': 264, 'min_child_weight': 5, 'gamma': 1.213396377878797e-06, 'subsample': 0.08462903971329895, 'colsample_bytree': 0.020765121767655177, 'reg_alpha': 0.0015344344231608643, 'reg_lambda': 7.23390653403288e-07}. Best is trial 102 with value: 0.6769537083125934.\u001b[0m\n",
      "/opt/miniconda3/envs/billettkontroll/lib/python3.8/site-packages/xgboost/data.py:250: FutureWarning: pandas.Int64Index is deprecated and will be removed from pandas in a future version. Use pandas.Index with the appropriate dtype instead.\n",
      "  elif isinstance(data.columns, (pd.Int64Index, pd.RangeIndex)):\n",
      "\u001b[32m[I 2022-12-02 23:04:36,867]\u001b[0m Trial 153 finished with value: 0.6565455450472872 and parameters: {'max_depth': 1, 'learning_rate': 0.11896186931973741, 'n_estimators': 60, 'min_child_weight': 5, 'gamma': 6.961101740909746e-07, 'subsample': 0.08099455719020693, 'colsample_bytree': 0.017873271020757774, 'reg_alpha': 0.0006692266765296396, 'reg_lambda': 6.083742180568237e-07}. Best is trial 102 with value: 0.6769537083125934.\u001b[0m\n",
      "/opt/miniconda3/envs/billettkontroll/lib/python3.8/site-packages/xgboost/data.py:250: FutureWarning: pandas.Int64Index is deprecated and will be removed from pandas in a future version. Use pandas.Index with the appropriate dtype instead.\n",
      "  elif isinstance(data.columns, (pd.Int64Index, pd.RangeIndex)):\n",
      "\u001b[32m[I 2022-12-02 23:04:37,010]\u001b[0m Trial 154 finished with value: 0.6655052264808362 and parameters: {'max_depth': 1, 'learning_rate': 0.17725035140993375, 'n_estimators': 234, 'min_child_weight': 6, 'gamma': 4.885569820028455e-07, 'subsample': 0.11242060362997681, 'colsample_bytree': 0.02076775062309572, 'reg_alpha': 0.0002973688969077128, 'reg_lambda': 8.078054690904842e-07}. Best is trial 102 with value: 0.6769537083125934.\u001b[0m\n",
      "/opt/miniconda3/envs/billettkontroll/lib/python3.8/site-packages/xgboost/data.py:250: FutureWarning: pandas.Int64Index is deprecated and will be removed from pandas in a future version. Use pandas.Index with the appropriate dtype instead.\n",
      "  elif isinstance(data.columns, (pd.Int64Index, pd.RangeIndex)):\n",
      "\u001b[32m[I 2022-12-02 23:04:37,151]\u001b[0m Trial 155 finished with value: 0.670980587356894 and parameters: {'max_depth': 1, 'learning_rate': 0.13045270121624467, 'n_estimators': 284, 'min_child_weight': 5, 'gamma': 1.6111167374119307e-06, 'subsample': 0.05933157976409992, 'colsample_bytree': 0.01660068416142289, 'reg_alpha': 0.0018793357236827574, 'reg_lambda': 4.3851800403790107e-07}. Best is trial 102 with value: 0.6769537083125934.\u001b[0m\n",
      "/opt/miniconda3/envs/billettkontroll/lib/python3.8/site-packages/xgboost/data.py:250: FutureWarning: pandas.Int64Index is deprecated and will be removed from pandas in a future version. Use pandas.Index with the appropriate dtype instead.\n",
      "  elif isinstance(data.columns, (pd.Int64Index, pd.RangeIndex)):\n",
      "\u001b[32m[I 2022-12-02 23:04:37,290]\u001b[0m Trial 156 finished with value: 0.6759581881533101 and parameters: {'max_depth': 1, 'learning_rate': 0.13976946420350114, 'n_estimators': 281, 'min_child_weight': 5, 'gamma': 1.5081107528845095e-06, 'subsample': 0.05916953477811755, 'colsample_bytree': 0.019214418964603037, 'reg_alpha': 0.003665611403943316, 'reg_lambda': 1.3824253052611016e-06}. Best is trial 102 with value: 0.6769537083125934.\u001b[0m\n",
      "/opt/miniconda3/envs/billettkontroll/lib/python3.8/site-packages/xgboost/data.py:250: FutureWarning: pandas.Int64Index is deprecated and will be removed from pandas in a future version. Use pandas.Index with the appropriate dtype instead.\n",
      "  elif isinstance(data.columns, (pd.Int64Index, pd.RangeIndex)):\n",
      "\u001b[32m[I 2022-12-02 23:04:37,391]\u001b[0m Trial 157 finished with value: 0.6669985067197611 and parameters: {'max_depth': 1, 'learning_rate': 0.21022844565048285, 'n_estimators': 190, 'min_child_weight': 6, 'gamma': 2.3351066188165097e-06, 'subsample': 0.04866892363907463, 'colsample_bytree': 0.018868279527973167, 'reg_alpha': 0.001538465967220706, 'reg_lambda': 1.2488802029965133e-06}. Best is trial 102 with value: 0.6769537083125934.\u001b[0m\n",
      "/opt/miniconda3/envs/billettkontroll/lib/python3.8/site-packages/xgboost/data.py:250: FutureWarning: pandas.Int64Index is deprecated and will be removed from pandas in a future version. Use pandas.Index with the appropriate dtype instead.\n",
      "  elif isinstance(data.columns, (pd.Int64Index, pd.RangeIndex)):\n",
      "\u001b[32m[I 2022-12-02 23:04:37,532]\u001b[0m Trial 158 finished with value: 0.6739671478347437 and parameters: {'max_depth': 1, 'learning_rate': 0.13904903615283884, 'n_estimators': 284, 'min_child_weight': 5, 'gamma': 1.5706621003575102e-06, 'subsample': 0.058824159483533624, 'colsample_bytree': 0.014414155570399179, 'reg_alpha': 0.0032296337036017576, 'reg_lambda': 1.9505848685221558e-06}. Best is trial 102 with value: 0.6769537083125934.\u001b[0m\n",
      "/opt/miniconda3/envs/billettkontroll/lib/python3.8/site-packages/xgboost/data.py:250: FutureWarning: pandas.Int64Index is deprecated and will be removed from pandas in a future version. Use pandas.Index with the appropriate dtype instead.\n",
      "  elif isinstance(data.columns, (pd.Int64Index, pd.RangeIndex)):\n",
      "\u001b[32m[I 2022-12-02 23:04:37,673]\u001b[0m Trial 159 finished with value: 0.6704828272772524 and parameters: {'max_depth': 1, 'learning_rate': 0.16147478440519542, 'n_estimators': 284, 'min_child_weight': 5, 'gamma': 1.4815101358348265e-06, 'subsample': 0.05578308472361498, 'colsample_bytree': 0.015737665229363193, 'reg_alpha': 0.0038744072081392917, 'reg_lambda': 2.1402346111335273e-06}. Best is trial 102 with value: 0.6769537083125934.\u001b[0m\n",
      "/opt/miniconda3/envs/billettkontroll/lib/python3.8/site-packages/xgboost/data.py:250: FutureWarning: pandas.Int64Index is deprecated and will be removed from pandas in a future version. Use pandas.Index with the appropriate dtype instead.\n",
      "  elif isinstance(data.columns, (pd.Int64Index, pd.RangeIndex)):\n",
      "\u001b[32m[I 2022-12-02 23:04:37,822]\u001b[0m Trial 160 finished with value: 0.670980587356894 and parameters: {'max_depth': 1, 'learning_rate': 0.1468424758439823, 'n_estimators': 299, 'min_child_weight': 5, 'gamma': 3.350004362449532e-06, 'subsample': 0.06338926648568471, 'colsample_bytree': 0.014122761128278987, 'reg_alpha': 0.001323315818189, 'reg_lambda': 1.4734951897984827e-06}. Best is trial 102 with value: 0.6769537083125934.\u001b[0m\n",
      "/opt/miniconda3/envs/billettkontroll/lib/python3.8/site-packages/xgboost/data.py:250: FutureWarning: pandas.Int64Index is deprecated and will be removed from pandas in a future version. Use pandas.Index with the appropriate dtype instead.\n",
      "  elif isinstance(data.columns, (pd.Int64Index, pd.RangeIndex)):\n",
      "\u001b[32m[I 2022-12-02 23:04:37,955]\u001b[0m Trial 161 finished with value: 0.6684917869586859 and parameters: {'max_depth': 1, 'learning_rate': 0.11435228144022312, 'n_estimators': 251, 'min_child_weight': 5, 'gamma': 6.138577229026897e-07, 'subsample': 0.04213273723404227, 'colsample_bytree': 0.01280943132254002, 'reg_alpha': 0.0027381886312365608, 'reg_lambda': 8.414177272508738e-07}. Best is trial 102 with value: 0.6769537083125934.\u001b[0m\n",
      "/opt/miniconda3/envs/billettkontroll/lib/python3.8/site-packages/xgboost/data.py:250: FutureWarning: pandas.Int64Index is deprecated and will be removed from pandas in a future version. Use pandas.Index with the appropriate dtype instead.\n",
      "  elif isinstance(data.columns, (pd.Int64Index, pd.RangeIndex)):\n",
      "\u001b[32m[I 2022-12-02 23:04:38,105]\u001b[0m Trial 162 finished with value: 0.6669985067197611 and parameters: {'max_depth': 1, 'learning_rate': 0.1330329288570715, 'n_estimators': 277, 'min_child_weight': 5, 'gamma': 9.088672204474278e-07, 'subsample': 0.07300330507430493, 'colsample_bytree': 0.020401202350211405, 'reg_alpha': 0.007147812273817412, 'reg_lambda': 4.420924929203725e-06}. Best is trial 102 with value: 0.6769537083125934.\u001b[0m\n",
      "/opt/miniconda3/envs/billettkontroll/lib/python3.8/site-packages/xgboost/data.py:250: FutureWarning: pandas.Int64Index is deprecated and will be removed from pandas in a future version. Use pandas.Index with the appropriate dtype instead.\n",
      "  elif isinstance(data.columns, (pd.Int64Index, pd.RangeIndex)):\n",
      "\u001b[32m[I 2022-12-02 23:04:38,281]\u001b[0m Trial 163 finished with value: 0.6739671478347437 and parameters: {'max_depth': 2, 'learning_rate': 0.18176324980182573, 'n_estimators': 261, 'min_child_weight': 5, 'gamma': 3.221261460980442e-07, 'subsample': 0.05086109223276858, 'colsample_bytree': 0.024994801439150616, 'reg_alpha': 0.01006449789765529, 'reg_lambda': 2.444322318702889e-06}. Best is trial 102 with value: 0.6769537083125934.\u001b[0m\n",
      "/opt/miniconda3/envs/billettkontroll/lib/python3.8/site-packages/xgboost/data.py:250: FutureWarning: pandas.Int64Index is deprecated and will be removed from pandas in a future version. Use pandas.Index with the appropriate dtype instead.\n",
      "  elif isinstance(data.columns, (pd.Int64Index, pd.RangeIndex)):\n",
      "\u001b[32m[I 2022-12-02 23:04:38,427]\u001b[0m Trial 164 finished with value: 0.6749626679940269 and parameters: {'max_depth': 1, 'learning_rate': 0.18051553719161825, 'n_estimators': 293, 'min_child_weight': 5, 'gamma': 2.950789447752128e-07, 'subsample': 0.05044763292671405, 'colsample_bytree': 0.026881656746555155, 'reg_alpha': 0.013657667292359304, 'reg_lambda': 2.7227839731375935e-06}. Best is trial 102 with value: 0.6769537083125934.\u001b[0m\n",
      "/opt/miniconda3/envs/billettkontroll/lib/python3.8/site-packages/xgboost/data.py:250: FutureWarning: pandas.Int64Index is deprecated and will be removed from pandas in a future version. Use pandas.Index with the appropriate dtype instead.\n",
      "  elif isinstance(data.columns, (pd.Int64Index, pd.RangeIndex)):\n",
      "\u001b[32m[I 2022-12-02 23:04:38,578]\u001b[0m Trial 165 finished with value: 0.6699850671976108 and parameters: {'max_depth': 1, 'learning_rate': 0.17748603727630627, 'n_estimators': 309, 'min_child_weight': 5, 'gamma': 3.140283533574464e-07, 'subsample': 0.051523328836160384, 'colsample_bytree': 0.02481997647574542, 'reg_alpha': 0.011284356171395206, 'reg_lambda': 2.3118888184785035e-06}. Best is trial 102 with value: 0.6769537083125934.\u001b[0m\n",
      "/opt/miniconda3/envs/billettkontroll/lib/python3.8/site-packages/xgboost/data.py:250: FutureWarning: pandas.Int64Index is deprecated and will be removed from pandas in a future version. Use pandas.Index with the appropriate dtype instead.\n",
      "  elif isinstance(data.columns, (pd.Int64Index, pd.RangeIndex)):\n",
      "\u001b[32m[I 2022-12-02 23:04:38,772]\u001b[0m Trial 166 finished with value: 0.673469387755102 and parameters: {'max_depth': 2, 'learning_rate': 0.18855466097114784, 'n_estimators': 295, 'min_child_weight': 5, 'gamma': 1.296407667525619e-06, 'subsample': 0.04667446684100463, 'colsample_bytree': 0.022301997337200268, 'reg_alpha': 0.030998504611184294, 'reg_lambda': 3.993162697357681e-06}. Best is trial 102 with value: 0.6769537083125934.\u001b[0m\n",
      "/opt/miniconda3/envs/billettkontroll/lib/python3.8/site-packages/xgboost/data.py:250: FutureWarning: pandas.Int64Index is deprecated and will be removed from pandas in a future version. Use pandas.Index with the appropriate dtype instead.\n",
      "  elif isinstance(data.columns, (pd.Int64Index, pd.RangeIndex)):\n",
      "\u001b[32m[I 2022-12-02 23:04:38,964]\u001b[0m Trial 167 finished with value: 0.6679940268790443 and parameters: {'max_depth': 2, 'learning_rate': 0.2586713926830256, 'n_estimators': 295, 'min_child_weight': 5, 'gamma': 9.756200090427656e-08, 'subsample': 0.047745780537744115, 'colsample_bytree': 0.02199561477509383, 'reg_alpha': 0.0718418808842188, 'reg_lambda': 2.8822767315325956e-06}. Best is trial 102 with value: 0.6769537083125934.\u001b[0m\n",
      "/opt/miniconda3/envs/billettkontroll/lib/python3.8/site-packages/xgboost/data.py:250: FutureWarning: pandas.Int64Index is deprecated and will be removed from pandas in a future version. Use pandas.Index with the appropriate dtype instead.\n",
      "  elif isinstance(data.columns, (pd.Int64Index, pd.RangeIndex)):\n",
      "\u001b[32m[I 2022-12-02 23:04:39,161]\u001b[0m Trial 168 finished with value: 0.6699850671976108 and parameters: {'max_depth': 2, 'learning_rate': 0.209572511635544, 'n_estimators': 290, 'min_child_weight': 5, 'gamma': 1.4791588480476223e-06, 'subsample': 0.04447465389563022, 'colsample_bytree': 0.018915518222973028, 'reg_alpha': 0.025965246221963882, 'reg_lambda': 5.44135088693746e-06}. Best is trial 102 with value: 0.6769537083125934.\u001b[0m\n",
      "/opt/miniconda3/envs/billettkontroll/lib/python3.8/site-packages/xgboost/data.py:250: FutureWarning: pandas.Int64Index is deprecated and will be removed from pandas in a future version. Use pandas.Index with the appropriate dtype instead.\n",
      "  elif isinstance(data.columns, (pd.Int64Index, pd.RangeIndex)):\n",
      "\u001b[32m[I 2022-12-02 23:04:39,362]\u001b[0m Trial 169 finished with value: 0.662020905923345 and parameters: {'max_depth': 2, 'learning_rate': 0.1812724754753444, 'n_estimators': 303, 'min_child_weight': 5, 'gamma': 4.17518802954266e-07, 'subsample': 0.0387690099720719, 'colsample_bytree': 0.027373117602800406, 'reg_alpha': 0.03006562380677429, 'reg_lambda': 3.204101460323328e-06}. Best is trial 102 with value: 0.6769537083125934.\u001b[0m\n",
      "/opt/miniconda3/envs/billettkontroll/lib/python3.8/site-packages/xgboost/data.py:250: FutureWarning: pandas.Int64Index is deprecated and will be removed from pandas in a future version. Use pandas.Index with the appropriate dtype instead.\n",
      "  elif isinstance(data.columns, (pd.Int64Index, pd.RangeIndex)):\n",
      "\u001b[32m[I 2022-12-02 23:04:39,545]\u001b[0m Trial 170 finished with value: 0.662020905923345 and parameters: {'max_depth': 2, 'learning_rate': 0.16400136038743907, 'n_estimators': 277, 'min_child_weight': 5, 'gamma': 1.0834818339990587e-07, 'subsample': 0.05627812801094658, 'colsample_bytree': 0.011240926439839477, 'reg_alpha': 0.015018563902923561, 'reg_lambda': 1.7954408649272042e-06}. Best is trial 102 with value: 0.6769537083125934.\u001b[0m\n",
      "/opt/miniconda3/envs/billettkontroll/lib/python3.8/site-packages/xgboost/data.py:250: FutureWarning: pandas.Int64Index is deprecated and will be removed from pandas in a future version. Use pandas.Index with the appropriate dtype instead.\n",
      "  elif isinstance(data.columns, (pd.Int64Index, pd.RangeIndex)):\n",
      "\u001b[32m[I 2022-12-02 23:04:39,681]\u001b[0m Trial 171 finished with value: 0.6744649079143853 and parameters: {'max_depth': 1, 'learning_rate': 0.22566987997809235, 'n_estimators': 268, 'min_child_weight': 5, 'gamma': 1.702748801846523e-07, 'subsample': 0.0637922407673272, 'colsample_bytree': 0.023375916829133304, 'reg_alpha': 0.045304359773351996, 'reg_lambda': 1.231511127879401e-06}. Best is trial 102 with value: 0.6769537083125934.\u001b[0m\n",
      "/opt/miniconda3/envs/billettkontroll/lib/python3.8/site-packages/xgboost/data.py:250: FutureWarning: pandas.Int64Index is deprecated and will be removed from pandas in a future version. Use pandas.Index with the appropriate dtype instead.\n",
      "  elif isinstance(data.columns, (pd.Int64Index, pd.RangeIndex)):\n",
      "\u001b[32m[I 2022-12-02 23:04:39,822]\u001b[0m Trial 172 finished with value: 0.6739671478347437 and parameters: {'max_depth': 1, 'learning_rate': 0.27656044359237963, 'n_estimators': 275, 'min_child_weight': 5, 'gamma': 1.8795719727593003e-07, 'subsample': 0.06339626198435483, 'colsample_bytree': 0.023191277153813156, 'reg_alpha': 0.007107709142055523, 'reg_lambda': 1.2689025558758722e-06}. Best is trial 102 with value: 0.6769537083125934.\u001b[0m\n",
      "/opt/miniconda3/envs/billettkontroll/lib/python3.8/site-packages/xgboost/data.py:250: FutureWarning: pandas.Int64Index is deprecated and will be removed from pandas in a future version. Use pandas.Index with the appropriate dtype instead.\n",
      "  elif isinstance(data.columns, (pd.Int64Index, pd.RangeIndex)):\n",
      "\u001b[32m[I 2022-12-02 23:04:40,073]\u001b[0m Trial 173 finished with value: 0.6505724240915879 and parameters: {'max_depth': 4, 'learning_rate': 0.34818992112255504, 'n_estimators': 286, 'min_child_weight': 5, 'gamma': 1.7820002220568696e-07, 'subsample': 0.062883723488036, 'colsample_bytree': 0.02552011931021144, 'reg_alpha': 0.044553905016153965, 'reg_lambda': 4.192497732023072e-06}. Best is trial 102 with value: 0.6769537083125934.\u001b[0m\n",
      "/opt/miniconda3/envs/billettkontroll/lib/python3.8/site-packages/xgboost/data.py:250: FutureWarning: pandas.Int64Index is deprecated and will be removed from pandas in a future version. Use pandas.Index with the appropriate dtype instead.\n",
      "  elif isinstance(data.columns, (pd.Int64Index, pd.RangeIndex)):\n",
      "\u001b[32m[I 2022-12-02 23:04:40,213]\u001b[0m Trial 174 finished with value: 0.6704828272772524 and parameters: {'max_depth': 1, 'learning_rate': 0.23476940956212364, 'n_estimators': 271, 'min_child_weight': 5, 'gamma': 1.825188726472661e-07, 'subsample': 0.05278566158079578, 'colsample_bytree': 0.022877356534492552, 'reg_alpha': 0.0047766060034322684, 'reg_lambda': 1.145545416291829e-06}. Best is trial 102 with value: 0.6769537083125934.\u001b[0m\n",
      "/opt/miniconda3/envs/billettkontroll/lib/python3.8/site-packages/xgboost/data.py:250: FutureWarning: pandas.Int64Index is deprecated and will be removed from pandas in a future version. Use pandas.Index with the appropriate dtype instead.\n",
      "  elif isinstance(data.columns, (pd.Int64Index, pd.RangeIndex)):\n",
      "\u001b[32m[I 2022-12-02 23:04:40,352]\u001b[0m Trial 175 finished with value: 0.6704828272772524 and parameters: {'max_depth': 1, 'learning_rate': 0.2887380505360937, 'n_estimators': 280, 'min_child_weight': 5, 'gamma': 6.232981324928513e-08, 'subsample': 0.0577128100713987, 'colsample_bytree': 0.027809354369879823, 'reg_alpha': 0.00874491926324875, 'reg_lambda': 2.4251660163692175e-06}. Best is trial 102 with value: 0.6769537083125934.\u001b[0m\n",
      "/opt/miniconda3/envs/billettkontroll/lib/python3.8/site-packages/xgboost/data.py:250: FutureWarning: pandas.Int64Index is deprecated and will be removed from pandas in a future version. Use pandas.Index with the appropriate dtype instead.\n",
      "  elif isinstance(data.columns, (pd.Int64Index, pd.RangeIndex)):\n",
      "\u001b[32m[I 2022-12-02 23:04:40,500]\u001b[0m Trial 176 finished with value: 0.6679940268790443 and parameters: {'max_depth': 1, 'learning_rate': 0.32976322437682337, 'n_estimators': 294, 'min_child_weight': 5, 'gamma': 1.093701689846464e-08, 'subsample': 0.06519417487774634, 'colsample_bytree': 0.023345918498721894, 'reg_alpha': 0.04115523276495508, 'reg_lambda': 1.8082142280909286e-06}. Best is trial 102 with value: 0.6769537083125934.\u001b[0m\n",
      "/opt/miniconda3/envs/billettkontroll/lib/python3.8/site-packages/xgboost/data.py:250: FutureWarning: pandas.Int64Index is deprecated and will be removed from pandas in a future version. Use pandas.Index with the appropriate dtype instead.\n",
      "  elif isinstance(data.columns, (pd.Int64Index, pd.RangeIndex)):\n",
      "\u001b[32m[I 2022-12-02 23:04:40,700]\u001b[0m Trial 177 finished with value: 0.6560477849676456 and parameters: {'max_depth': 1, 'learning_rate': 0.2210906851295523, 'n_estimators': 408, 'min_child_weight': 5, 'gamma': 1.2878502090132905e-07, 'subsample': 0.07160639647773231, 'colsample_bytree': 0.015925352002972532, 'reg_alpha': 0.016359651535573935, 'reg_lambda': 1.226221353583407e-06}. Best is trial 102 with value: 0.6769537083125934.\u001b[0m\n",
      "/opt/miniconda3/envs/billettkontroll/lib/python3.8/site-packages/xgboost/data.py:250: FutureWarning: pandas.Int64Index is deprecated and will be removed from pandas in a future version. Use pandas.Index with the appropriate dtype instead.\n",
      "  elif isinstance(data.columns, (pd.Int64Index, pd.RangeIndex)):\n",
      "\u001b[32m[I 2022-12-02 23:04:40,814]\u001b[0m Trial 178 finished with value: 0.6650074664011946 and parameters: {'max_depth': 2, 'learning_rate': 0.26405447252848213, 'n_estimators': 166, 'min_child_weight': 6, 'gamma': 4.9732860400651985e-08, 'subsample': 0.05152211056306961, 'colsample_bytree': 0.13423505430923463, 'reg_alpha': 0.11904632083959937, 'reg_lambda': 6.981755359416421e-06}. Best is trial 102 with value: 0.6769537083125934.\u001b[0m\n",
      "/opt/miniconda3/envs/billettkontroll/lib/python3.8/site-packages/xgboost/data.py:250: FutureWarning: pandas.Int64Index is deprecated and will be removed from pandas in a future version. Use pandas.Index with the appropriate dtype instead.\n",
      "  elif isinstance(data.columns, (pd.Int64Index, pd.RangeIndex)):\n",
      "\u001b[32m[I 2022-12-02 23:04:40,946]\u001b[0m Trial 179 finished with value: 0.6699850671976108 and parameters: {'max_depth': 1, 'learning_rate': 0.208434538063451, 'n_estimators': 264, 'min_child_weight': 5, 'gamma': 3.4007753187094384e-08, 'subsample': 0.045126569040842376, 'colsample_bytree': 0.018777954025220693, 'reg_alpha': 0.002628356423654418, 'reg_lambda': 9.77672621881513e-07}. Best is trial 102 with value: 0.6769537083125934.\u001b[0m\n",
      "/opt/miniconda3/envs/billettkontroll/lib/python3.8/site-packages/xgboost/data.py:250: FutureWarning: pandas.Int64Index is deprecated and will be removed from pandas in a future version. Use pandas.Index with the appropriate dtype instead.\n",
      "  elif isinstance(data.columns, (pd.Int64Index, pd.RangeIndex)):\n",
      "\u001b[32m[I 2022-12-02 23:04:41,134]\u001b[0m Trial 180 finished with value: 0.6650074664011946 and parameters: {'max_depth': 2, 'learning_rate': 0.19274236585754204, 'n_estimators': 273, 'min_child_weight': 5, 'gamma': 3.44356648880901e-07, 'subsample': 0.06029487329040782, 'colsample_bytree': 0.02054966407876456, 'reg_alpha': 0.005943428191500436, 'reg_lambda': 1.2051996245293311e-05}. Best is trial 102 with value: 0.6769537083125934.\u001b[0m\n",
      "/opt/miniconda3/envs/billettkontroll/lib/python3.8/site-packages/xgboost/data.py:250: FutureWarning: pandas.Int64Index is deprecated and will be removed from pandas in a future version. Use pandas.Index with the appropriate dtype instead.\n",
      "  elif isinstance(data.columns, (pd.Int64Index, pd.RangeIndex)):\n",
      "\u001b[32m[I 2022-12-02 23:04:41,293]\u001b[0m Trial 181 finished with value: 0.6729716276754605 and parameters: {'max_depth': 1, 'learning_rate': 0.18724539202984153, 'n_estimators': 261, 'min_child_weight': 5, 'gamma': 9.608375576127705e-07, 'subsample': 0.07862199806245397, 'colsample_bytree': 0.11401548159563389, 'reg_alpha': 0.013674793037709484, 'reg_lambda': 1.5448974591228134e-06}. Best is trial 102 with value: 0.6769537083125934.\u001b[0m\n",
      "/opt/miniconda3/envs/billettkontroll/lib/python3.8/site-packages/xgboost/data.py:250: FutureWarning: pandas.Int64Index is deprecated and will be removed from pandas in a future version. Use pandas.Index with the appropriate dtype instead.\n",
      "  elif isinstance(data.columns, (pd.Int64Index, pd.RangeIndex)):\n",
      "\u001b[32m[I 2022-12-02 23:04:41,418]\u001b[0m Trial 182 finished with value: 0.6679940268790443 and parameters: {'max_depth': 1, 'learning_rate': 0.22560274402558736, 'n_estimators': 242, 'min_child_weight': 5, 'gamma': 7.410635373100796e-07, 'subsample': 0.066683087108882, 'colsample_bytree': 0.12005885498573741, 'reg_alpha': 0.009611248428624156, 'reg_lambda': 3.911073443110674e-06}. Best is trial 102 with value: 0.6769537083125934.\u001b[0m\n",
      "/opt/miniconda3/envs/billettkontroll/lib/python3.8/site-packages/xgboost/data.py:250: FutureWarning: pandas.Int64Index is deprecated and will be removed from pandas in a future version. Use pandas.Index with the appropriate dtype instead.\n",
      "  elif isinstance(data.columns, (pd.Int64Index, pd.RangeIndex)):\n",
      "\u001b[32m[I 2022-12-02 23:04:41,568]\u001b[0m Trial 183 finished with value: 0.6719761075161772 and parameters: {'max_depth': 1, 'learning_rate': 0.18827692962951376, 'n_estimators': 283, 'min_child_weight': 5, 'gamma': 9.591149712114692e-07, 'subsample': 0.07793906301803354, 'colsample_bytree': 0.10843854773106937, 'reg_alpha': 0.014991873462407353, 'reg_lambda': 1.5011643645418171e-06}. Best is trial 102 with value: 0.6769537083125934.\u001b[0m\n",
      "/opt/miniconda3/envs/billettkontroll/lib/python3.8/site-packages/xgboost/data.py:250: FutureWarning: pandas.Int64Index is deprecated and will be removed from pandas in a future version. Use pandas.Index with the appropriate dtype instead.\n",
      "  elif isinstance(data.columns, (pd.Int64Index, pd.RangeIndex)):\n",
      "\u001b[32m[I 2022-12-02 23:04:41,728]\u001b[0m Trial 184 finished with value: 0.6719761075161772 and parameters: {'max_depth': 1, 'learning_rate': 0.19427538197713676, 'n_estimators': 327, 'min_child_weight': 5, 'gamma': 5.031466168610733e-07, 'subsample': 0.049396436493030944, 'colsample_bytree': 0.14854963198097826, 'reg_alpha': 0.01232263975946169, 'reg_lambda': 1.4592071490644263e-06}. Best is trial 102 with value: 0.6769537083125934.\u001b[0m\n",
      "/opt/miniconda3/envs/billettkontroll/lib/python3.8/site-packages/xgboost/data.py:250: FutureWarning: pandas.Int64Index is deprecated and will be removed from pandas in a future version. Use pandas.Index with the appropriate dtype instead.\n",
      "  elif isinstance(data.columns, (pd.Int64Index, pd.RangeIndex)):\n",
      "\u001b[32m[I 2022-12-02 23:04:41,889]\u001b[0m Trial 185 finished with value: 0.6660029865604778 and parameters: {'max_depth': 1, 'learning_rate': 0.18347362265431963, 'n_estimators': 329, 'min_child_weight': 5, 'gamma': 1.0515740283714553e-06, 'subsample': 0.041703585724547104, 'colsample_bytree': 0.09917791184329967, 'reg_alpha': 0.012064803571875728, 'reg_lambda': 1.7578094569439866e-06}. Best is trial 102 with value: 0.6769537083125934.\u001b[0m\n",
      "/opt/miniconda3/envs/billettkontroll/lib/python3.8/site-packages/xgboost/data.py:250: FutureWarning: pandas.Int64Index is deprecated and will be removed from pandas in a future version. Use pandas.Index with the appropriate dtype instead.\n",
      "  elif isinstance(data.columns, (pd.Int64Index, pd.RangeIndex)):\n",
      "\u001b[32m[I 2022-12-02 23:04:42,043]\u001b[0m Trial 186 finished with value: 0.6655052264808362 and parameters: {'max_depth': 1, 'learning_rate': 0.23907399140570745, 'n_estimators': 314, 'min_child_weight': 6, 'gamma': 5.218577540847002e-07, 'subsample': 0.04963442605977355, 'colsample_bytree': 0.15460430324519917, 'reg_alpha': 0.02205764208753155, 'reg_lambda': 2.7330140456904605e-06}. Best is trial 102 with value: 0.6769537083125934.\u001b[0m\n",
      "/opt/miniconda3/envs/billettkontroll/lib/python3.8/site-packages/xgboost/data.py:250: FutureWarning: pandas.Int64Index is deprecated and will be removed from pandas in a future version. Use pandas.Index with the appropriate dtype instead.\n",
      "  elif isinstance(data.columns, (pd.Int64Index, pd.RangeIndex)):\n",
      "\u001b[32m[I 2022-12-02 23:04:42,198]\u001b[0m Trial 187 finished with value: 0.6694873071179691 and parameters: {'max_depth': 1, 'learning_rate': 0.1950580217609861, 'n_estimators': 302, 'min_child_weight': 5, 'gamma': 3.0569974926320745e-06, 'subsample': 0.05556023612584335, 'colsample_bytree': 0.11215610547462057, 'reg_alpha': 0.014959500199572087, 'reg_lambda': 1.3687331771701696e-06}. Best is trial 102 with value: 0.6769537083125934.\u001b[0m\n",
      "/opt/miniconda3/envs/billettkontroll/lib/python3.8/site-packages/xgboost/data.py:250: FutureWarning: pandas.Int64Index is deprecated and will be removed from pandas in a future version. Use pandas.Index with the appropriate dtype instead.\n",
      "  elif isinstance(data.columns, (pd.Int64Index, pd.RangeIndex)):\n",
      "\u001b[32m[I 2022-12-02 23:04:42,342]\u001b[0m Trial 188 finished with value: 0.6744649079143853 and parameters: {'max_depth': 1, 'learning_rate': 0.17472984525548788, 'n_estimators': 287, 'min_child_weight': 5, 'gamma': 3.8245435492328704e-07, 'subsample': 0.061347770965974206, 'colsample_bytree': 0.14246582936843155, 'reg_alpha': 0.035165696510859185, 'reg_lambda': 5.2123483101267705e-06}. Best is trial 102 with value: 0.6769537083125934.\u001b[0m\n",
      "/opt/miniconda3/envs/billettkontroll/lib/python3.8/site-packages/xgboost/data.py:250: FutureWarning: pandas.Int64Index is deprecated and will be removed from pandas in a future version. Use pandas.Index with the appropriate dtype instead.\n",
      "  elif isinstance(data.columns, (pd.Int64Index, pd.RangeIndex)):\n",
      "\u001b[32m[I 2022-12-02 23:04:42,488]\u001b[0m Trial 189 finished with value: 0.6774514683922349 and parameters: {'max_depth': 1, 'learning_rate': 0.16509636458826463, 'n_estimators': 292, 'min_child_weight': 5, 'gamma': 2.573030203592072e-07, 'subsample': 0.062400848802945844, 'colsample_bytree': 0.13329661765009587, 'reg_alpha': 0.00016395963666524237, 'reg_lambda': 5.5992678333278284e-06}. Best is trial 189 with value: 0.6774514683922349.\u001b[0m\n",
      "/opt/miniconda3/envs/billettkontroll/lib/python3.8/site-packages/xgboost/data.py:250: FutureWarning: pandas.Int64Index is deprecated and will be removed from pandas in a future version. Use pandas.Index with the appropriate dtype instead.\n",
      "  elif isinstance(data.columns, (pd.Int64Index, pd.RangeIndex)):\n",
      "\u001b[32m[I 2022-12-02 23:04:42,654]\u001b[0m Trial 190 finished with value: 0.6610253857640617 and parameters: {'max_depth': 1, 'learning_rate': 0.16645704625223323, 'n_estimators': 339, 'min_child_weight': 5, 'gamma': 1.8119389076181532e-07, 'subsample': 0.06286285812441625, 'colsample_bytree': 0.21737413036477465, 'reg_alpha': 0.03126602994270793, 'reg_lambda': 5.012864347061119e-06}. Best is trial 189 with value: 0.6774514683922349.\u001b[0m\n",
      "/opt/miniconda3/envs/billettkontroll/lib/python3.8/site-packages/xgboost/data.py:250: FutureWarning: pandas.Int64Index is deprecated and will be removed from pandas in a future version. Use pandas.Index with the appropriate dtype instead.\n",
      "  elif isinstance(data.columns, (pd.Int64Index, pd.RangeIndex)):\n",
      "\u001b[32m[I 2022-12-02 23:04:42,817]\u001b[0m Trial 191 finished with value: 0.662020905923345 and parameters: {'max_depth': 1, 'learning_rate': 0.2084406917065987, 'n_estimators': 320, 'min_child_weight': 5, 'gamma': 3.029646973697637e-07, 'subsample': 0.06865235691946774, 'colsample_bytree': 0.14656116871445285, 'reg_alpha': 0.0001487806628728626, 'reg_lambda': 2.0144059196667014e-06}. Best is trial 189 with value: 0.6774514683922349.\u001b[0m\n",
      "/opt/miniconda3/envs/billettkontroll/lib/python3.8/site-packages/xgboost/data.py:250: FutureWarning: pandas.Int64Index is deprecated and will be removed from pandas in a future version. Use pandas.Index with the appropriate dtype instead.\n",
      "  elif isinstance(data.columns, (pd.Int64Index, pd.RangeIndex)):\n",
      "\u001b[32m[I 2022-12-02 23:04:42,963]\u001b[0m Trial 192 finished with value: 0.6729716276754605 and parameters: {'max_depth': 1, 'learning_rate': 0.16907016870376435, 'n_estimators': 292, 'min_child_weight': 5, 'gamma': 4.401929069256988e-07, 'subsample': 0.05655684627626811, 'colsample_bytree': 0.12823744923115493, 'reg_alpha': 0.006370826727441531, 'reg_lambda': 8.420514668717663e-06}. Best is trial 189 with value: 0.6774514683922349.\u001b[0m\n",
      "/opt/miniconda3/envs/billettkontroll/lib/python3.8/site-packages/xgboost/data.py:250: FutureWarning: pandas.Int64Index is deprecated and will be removed from pandas in a future version. Use pandas.Index with the appropriate dtype instead.\n",
      "  elif isinstance(data.columns, (pd.Int64Index, pd.RangeIndex)):\n",
      "\u001b[32m[I 2022-12-02 23:04:43,205]\u001b[0m Trial 193 finished with value: 0.6684917869586859 and parameters: {'max_depth': 3, 'learning_rate': 0.17071375060384522, 'n_estimators': 297, 'min_child_weight': 5, 'gamma': 2.4471118203096257e-07, 'subsample': 0.05529270590731355, 'colsample_bytree': 0.1285378821931371, 'reg_alpha': 0.006162181191482781, 'reg_lambda': 2.5876005645402614e-05}. Best is trial 189 with value: 0.6774514683922349.\u001b[0m\n",
      "/opt/miniconda3/envs/billettkontroll/lib/python3.8/site-packages/xgboost/data.py:250: FutureWarning: pandas.Int64Index is deprecated and will be removed from pandas in a future version. Use pandas.Index with the appropriate dtype instead.\n",
      "  elif isinstance(data.columns, (pd.Int64Index, pd.RangeIndex)):\n",
      "\u001b[32m[I 2022-12-02 23:04:43,350]\u001b[0m Trial 194 finished with value: 0.6724738675958188 and parameters: {'max_depth': 1, 'learning_rate': 0.1534320285747919, 'n_estimators': 290, 'min_child_weight': 5, 'gamma': 3.745599564173345e-07, 'subsample': 0.05846041833722872, 'colsample_bytree': 0.17704246642400084, 'reg_alpha': 0.10074136318301838, 'reg_lambda': 7.427071053624397e-06}. Best is trial 189 with value: 0.6774514683922349.\u001b[0m\n",
      "/opt/miniconda3/envs/billettkontroll/lib/python3.8/site-packages/xgboost/data.py:250: FutureWarning: pandas.Int64Index is deprecated and will be removed from pandas in a future version. Use pandas.Index with the appropriate dtype instead.\n",
      "  elif isinstance(data.columns, (pd.Int64Index, pd.RangeIndex)):\n",
      "\u001b[32m[I 2022-12-02 23:04:43,519]\u001b[0m Trial 195 finished with value: 0.670980587356894 and parameters: {'max_depth': 1, 'learning_rate': 0.15507963485745682, 'n_estimators': 309, 'min_child_weight': 5, 'gamma': 5.944250780180796e-07, 'subsample': 0.06127854773532047, 'colsample_bytree': 0.28100845589883355, 'reg_alpha': 0.09640970154786313, 'reg_lambda': 7.224942512933456e-06}. Best is trial 189 with value: 0.6774514683922349.\u001b[0m\n",
      "/opt/miniconda3/envs/billettkontroll/lib/python3.8/site-packages/xgboost/data.py:250: FutureWarning: pandas.Int64Index is deprecated and will be removed from pandas in a future version. Use pandas.Index with the appropriate dtype instead.\n",
      "  elif isinstance(data.columns, (pd.Int64Index, pd.RangeIndex)):\n",
      "\u001b[32m[I 2022-12-02 23:04:43,676]\u001b[0m Trial 196 finished with value: 0.673469387755102 and parameters: {'max_depth': 1, 'learning_rate': 0.1370010277786332, 'n_estimators': 283, 'min_child_weight': 6, 'gamma': 3.0371680327255526e-07, 'subsample': 0.058074645785818495, 'colsample_bytree': 0.17326881332167637, 'reg_alpha': 0.06566817208432443, 'reg_lambda': 1.1973498368977375e-05}. Best is trial 189 with value: 0.6774514683922349.\u001b[0m\n",
      "/opt/miniconda3/envs/billettkontroll/lib/python3.8/site-packages/xgboost/data.py:250: FutureWarning: pandas.Int64Index is deprecated and will be removed from pandas in a future version. Use pandas.Index with the appropriate dtype instead.\n",
      "  elif isinstance(data.columns, (pd.Int64Index, pd.RangeIndex)):\n",
      "\u001b[32m[I 2022-12-02 23:04:43,821]\u001b[0m Trial 197 finished with value: 0.6719761075161772 and parameters: {'max_depth': 1, 'learning_rate': 0.1364401816976001, 'n_estimators': 292, 'min_child_weight': 6, 'gamma': 3.597987995270505e-07, 'subsample': 0.05947514843276733, 'colsample_bytree': 0.19200414541834912, 'reg_alpha': 0.31068175350392985, 'reg_lambda': 1.5889290726299195e-05}. Best is trial 189 with value: 0.6774514683922349.\u001b[0m\n",
      "/opt/miniconda3/envs/billettkontroll/lib/python3.8/site-packages/xgboost/data.py:250: FutureWarning: pandas.Int64Index is deprecated and will be removed from pandas in a future version. Use pandas.Index with the appropriate dtype instead.\n",
      "  elif isinstance(data.columns, (pd.Int64Index, pd.RangeIndex)):\n",
      "\u001b[32m[I 2022-12-02 23:04:43,971]\u001b[0m Trial 198 finished with value: 0.6689895470383276 and parameters: {'max_depth': 1, 'learning_rate': 0.1559883197079177, 'n_estimators': 304, 'min_child_weight': 5, 'gamma': 1.414085510586921e-07, 'subsample': 0.055705288417193986, 'colsample_bytree': 0.16510429402050125, 'reg_alpha': 0.05788022761883112, 'reg_lambda': 7.706240464649964e-06}. Best is trial 189 with value: 0.6774514683922349.\u001b[0m\n",
      "/opt/miniconda3/envs/billettkontroll/lib/python3.8/site-packages/xgboost/data.py:250: FutureWarning: pandas.Int64Index is deprecated and will be removed from pandas in a future version. Use pandas.Index with the appropriate dtype instead.\n",
      "  elif isinstance(data.columns, (pd.Int64Index, pd.RangeIndex)):\n",
      "\u001b[32m[I 2022-12-02 23:04:44,122]\u001b[0m Trial 199 finished with value: 0.6779492284718766 and parameters: {'max_depth': 1, 'learning_rate': 0.142884549810345, 'n_estimators': 287, 'min_child_weight': 5, 'gamma': 4.168446806520946e-07, 'subsample': 0.045373656396032934, 'colsample_bytree': 0.17638554121731512, 'reg_alpha': 0.040926285366744274, 'reg_lambda': 5.0920879702404685e-06}. Best is trial 199 with value: 0.6779492284718766.\u001b[0m\n",
      "/opt/miniconda3/envs/billettkontroll/lib/python3.8/site-packages/xgboost/data.py:250: FutureWarning: pandas.Int64Index is deprecated and will be removed from pandas in a future version. Use pandas.Index with the appropriate dtype instead.\n",
      "  elif isinstance(data.columns, (pd.Int64Index, pd.RangeIndex)):\n",
      "\u001b[32m[I 2022-12-02 23:04:44,271]\u001b[0m Trial 200 finished with value: 0.6719761075161772 and parameters: {'max_depth': 1, 'learning_rate': 0.13999366903135863, 'n_estimators': 295, 'min_child_weight': 5, 'gamma': 2.281532028758536e-07, 'subsample': 0.03529545893206362, 'colsample_bytree': 0.1993722184722021, 'reg_alpha': 0.0468221608978662, 'reg_lambda': 4.777737396782053e-06}. Best is trial 199 with value: 0.6779492284718766.\u001b[0m\n",
      "/opt/miniconda3/envs/billettkontroll/lib/python3.8/site-packages/xgboost/data.py:250: FutureWarning: pandas.Int64Index is deprecated and will be removed from pandas in a future version. Use pandas.Index with the appropriate dtype instead.\n",
      "  elif isinstance(data.columns, (pd.Int64Index, pd.RangeIndex)):\n",
      "\u001b[32m[I 2022-12-02 23:04:44,415]\u001b[0m Trial 201 finished with value: 0.6759581881533101 and parameters: {'max_depth': 1, 'learning_rate': 0.1698233646682468, 'n_estimators': 285, 'min_child_weight': 5, 'gamma': 3.9306104409359145e-07, 'subsample': 0.044903316826722946, 'colsample_bytree': 0.23227657121765183, 'reg_alpha': 0.08092088878775061, 'reg_lambda': 1.048031506173267e-05}. Best is trial 199 with value: 0.6779492284718766.\u001b[0m\n",
      "/opt/miniconda3/envs/billettkontroll/lib/python3.8/site-packages/xgboost/data.py:250: FutureWarning: pandas.Int64Index is deprecated and will be removed from pandas in a future version. Use pandas.Index with the appropriate dtype instead.\n",
      "  elif isinstance(data.columns, (pd.Int64Index, pd.RangeIndex)):\n",
      "\u001b[32m[I 2022-12-02 23:04:44,556]\u001b[0m Trial 202 finished with value: 0.6744649079143853 and parameters: {'max_depth': 1, 'learning_rate': 0.1672293616725917, 'n_estimators': 281, 'min_child_weight': 5, 'gamma': 6.53522781252656e-07, 'subsample': 0.04660967463766613, 'colsample_bytree': 0.13714576565634362, 'reg_alpha': 0.1804630336876905, 'reg_lambda': 1.0739824137070682e-05}. Best is trial 199 with value: 0.6779492284718766.\u001b[0m\n",
      "/opt/miniconda3/envs/billettkontroll/lib/python3.8/site-packages/xgboost/data.py:250: FutureWarning: pandas.Int64Index is deprecated and will be removed from pandas in a future version. Use pandas.Index with the appropriate dtype instead.\n",
      "  elif isinstance(data.columns, (pd.Int64Index, pd.RangeIndex)):\n",
      "\u001b[32m[I 2022-12-02 23:04:44,699]\u001b[0m Trial 203 finished with value: 0.6739671478347437 and parameters: {'max_depth': 1, 'learning_rate': 0.16939478955838835, 'n_estimators': 283, 'min_child_weight': 5, 'gamma': 7.737950597207307e-07, 'subsample': 0.047061705501694605, 'colsample_bytree': 0.12777944179964873, 'reg_alpha': 0.0674112372530478, 'reg_lambda': 4.259612992448448e-05}. Best is trial 199 with value: 0.6779492284718766.\u001b[0m\n",
      "/opt/miniconda3/envs/billettkontroll/lib/python3.8/site-packages/xgboost/data.py:250: FutureWarning: pandas.Int64Index is deprecated and will be removed from pandas in a future version. Use pandas.Index with the appropriate dtype instead.\n",
      "  elif isinstance(data.columns, (pd.Int64Index, pd.RangeIndex)):\n",
      "\u001b[32m[I 2022-12-02 23:04:44,843]\u001b[0m Trial 204 finished with value: 0.6779492284718766 and parameters: {'max_depth': 1, 'learning_rate': 0.16112912701859547, 'n_estimators': 289, 'min_child_weight': 5, 'gamma': 3.786527707173921e-07, 'subsample': 0.03792528435647458, 'colsample_bytree': 0.17641707643200866, 'reg_alpha': 0.1473456681438384, 'reg_lambda': 1.0518073889249543e-05}. Best is trial 199 with value: 0.6779492284718766.\u001b[0m\n",
      "/opt/miniconda3/envs/billettkontroll/lib/python3.8/site-packages/xgboost/data.py:250: FutureWarning: pandas.Int64Index is deprecated and will be removed from pandas in a future version. Use pandas.Index with the appropriate dtype instead.\n",
      "  elif isinstance(data.columns, (pd.Int64Index, pd.RangeIndex)):\n",
      "\u001b[32m[I 2022-12-02 23:04:44,987]\u001b[0m Trial 205 finished with value: 0.6774514683922349 and parameters: {'max_depth': 1, 'learning_rate': 0.16335094957474752, 'n_estimators': 279, 'min_child_weight': 5, 'gamma': 7.734442339137853e-07, 'subsample': 0.04069631041569176, 'colsample_bytree': 0.2394491755677767, 'reg_alpha': 0.16537531358138632, 'reg_lambda': 4.5770061767148224e-05}. Best is trial 199 with value: 0.6779492284718766.\u001b[0m\n",
      "/opt/miniconda3/envs/billettkontroll/lib/python3.8/site-packages/xgboost/data.py:250: FutureWarning: pandas.Int64Index is deprecated and will be removed from pandas in a future version. Use pandas.Index with the appropriate dtype instead.\n",
      "  elif isinstance(data.columns, (pd.Int64Index, pd.RangeIndex)):\n",
      "\u001b[32m[I 2022-12-02 23:04:45,130]\u001b[0m Trial 206 finished with value: 0.6749626679940269 and parameters: {'max_depth': 1, 'learning_rate': 0.1432191239104833, 'n_estimators': 281, 'min_child_weight': 5, 'gamma': 7.377983070864247e-07, 'subsample': 0.042338892739808835, 'colsample_bytree': 0.30973608262705743, 'reg_alpha': 0.15286543671370464, 'reg_lambda': 4.788690714059326e-05}. Best is trial 199 with value: 0.6779492284718766.\u001b[0m\n",
      "/opt/miniconda3/envs/billettkontroll/lib/python3.8/site-packages/xgboost/data.py:250: FutureWarning: pandas.Int64Index is deprecated and will be removed from pandas in a future version. Use pandas.Index with the appropriate dtype instead.\n",
      "  elif isinstance(data.columns, (pd.Int64Index, pd.RangeIndex)):\n",
      "\u001b[32m[I 2022-12-02 23:04:45,272]\u001b[0m Trial 207 finished with value: 0.6655052264808362 and parameters: {'max_depth': 1, 'learning_rate': 0.13924831018892064, 'n_estimators': 285, 'min_child_weight': 5, 'gamma': 3.944497431446794e-07, 'subsample': 0.03233868762067221, 'colsample_bytree': 0.24416645369311438, 'reg_alpha': 0.1949763050644623, 'reg_lambda': 3.391596933729669e-05}. Best is trial 199 with value: 0.6779492284718766.\u001b[0m\n",
      "/opt/miniconda3/envs/billettkontroll/lib/python3.8/site-packages/xgboost/data.py:250: FutureWarning: pandas.Int64Index is deprecated and will be removed from pandas in a future version. Use pandas.Index with the appropriate dtype instead.\n",
      "  elif isinstance(data.columns, (pd.Int64Index, pd.RangeIndex)):\n",
      "\u001b[32m[I 2022-12-02 23:04:45,414]\u001b[0m Trial 208 finished with value: 0.6684917869586859 and parameters: {'max_depth': 1, 'learning_rate': 0.1608693101080492, 'n_estimators': 278, 'min_child_weight': 5, 'gamma': 8.673845926359923e-07, 'subsample': 0.038477840798348206, 'colsample_bytree': 0.4083047003159109, 'reg_alpha': 0.549390737379828, 'reg_lambda': 5.134964069334383e-05}. Best is trial 199 with value: 0.6779492284718766.\u001b[0m\n",
      "/opt/miniconda3/envs/billettkontroll/lib/python3.8/site-packages/xgboost/data.py:250: FutureWarning: pandas.Int64Index is deprecated and will be removed from pandas in a future version. Use pandas.Index with the appropriate dtype instead.\n",
      "  elif isinstance(data.columns, (pd.Int64Index, pd.RangeIndex)):\n",
      "\u001b[32m[I 2022-12-02 23:04:45,581]\u001b[0m Trial 209 finished with value: 0.6739671478347437 and parameters: {'max_depth': 1, 'learning_rate': 0.16796467939894388, 'n_estimators': 298, 'min_child_weight': 5, 'gamma': 6.17959153020177e-07, 'subsample': 0.04243731390881529, 'colsample_bytree': 0.22998459286848927, 'reg_alpha': 0.16514361024141222, 'reg_lambda': 0.00013885350577782162}. Best is trial 199 with value: 0.6779492284718766.\u001b[0m\n",
      "/opt/miniconda3/envs/billettkontroll/lib/python3.8/site-packages/xgboost/data.py:250: FutureWarning: pandas.Int64Index is deprecated and will be removed from pandas in a future version. Use pandas.Index with the appropriate dtype instead.\n",
      "  elif isinstance(data.columns, (pd.Int64Index, pd.RangeIndex)):\n",
      "\u001b[32m[I 2022-12-02 23:04:45,735]\u001b[0m Trial 210 finished with value: 0.6704828272772524 and parameters: {'max_depth': 1, 'learning_rate': 0.14655752794721788, 'n_estimators': 309, 'min_child_weight': 5, 'gamma': 5.740617246191075e-07, 'subsample': 0.042198008956207234, 'colsample_bytree': 0.299248207971671, 'reg_alpha': 0.14543406223810806, 'reg_lambda': 0.00011341295969756529}. Best is trial 199 with value: 0.6779492284718766.\u001b[0m\n",
      "/opt/miniconda3/envs/billettkontroll/lib/python3.8/site-packages/xgboost/data.py:250: FutureWarning: pandas.Int64Index is deprecated and will be removed from pandas in a future version. Use pandas.Index with the appropriate dtype instead.\n",
      "  elif isinstance(data.columns, (pd.Int64Index, pd.RangeIndex)):\n",
      "\u001b[32m[I 2022-12-02 23:04:45,885]\u001b[0m Trial 211 finished with value: 0.6689895470383276 and parameters: {'max_depth': 1, 'learning_rate': 0.12635429412583404, 'n_estimators': 283, 'min_child_weight': 5, 'gamma': 2.6998411300586076e-07, 'subsample': 0.03822303951094803, 'colsample_bytree': 0.3514072691067392, 'reg_alpha': 0.2752749090661446, 'reg_lambda': 1.9633474875822804e-05}. Best is trial 199 with value: 0.6779492284718766.\u001b[0m\n",
      "/opt/miniconda3/envs/billettkontroll/lib/python3.8/site-packages/xgboost/data.py:250: FutureWarning: pandas.Int64Index is deprecated and will be removed from pandas in a future version. Use pandas.Index with the appropriate dtype instead.\n",
      "  elif isinstance(data.columns, (pd.Int64Index, pd.RangeIndex)):\n",
      "\u001b[32m[I 2022-12-02 23:04:46,035]\u001b[0m Trial 212 finished with value: 0.6714783474365356 and parameters: {'max_depth': 1, 'learning_rate': 0.16322234511058778, 'n_estimators': 299, 'min_child_weight': 5, 'gamma': 1.577097266298466e-07, 'subsample': 0.043200096204476096, 'colsample_bytree': 0.2641482241711632, 'reg_alpha': 0.07829695161504818, 'reg_lambda': 1.1806563416325356e-05}. Best is trial 199 with value: 0.6779492284718766.\u001b[0m\n",
      "/opt/miniconda3/envs/billettkontroll/lib/python3.8/site-packages/xgboost/data.py:250: FutureWarning: pandas.Int64Index is deprecated and will be removed from pandas in a future version. Use pandas.Index with the appropriate dtype instead.\n",
      "  elif isinstance(data.columns, (pd.Int64Index, pd.RangeIndex)):\n",
      "\u001b[32m[I 2022-12-02 23:04:46,175]\u001b[0m Trial 213 finished with value: 0.6764559482329517 and parameters: {'max_depth': 1, 'learning_rate': 0.1776339663636827, 'n_estimators': 276, 'min_child_weight': 5, 'gamma': 7.355251748207033e-07, 'subsample': 0.046188956245707374, 'colsample_bytree': 0.1689732446824321, 'reg_alpha': 0.1618395104337433, 'reg_lambda': 0.000160292028781142}. Best is trial 199 with value: 0.6779492284718766.\u001b[0m\n",
      "/opt/miniconda3/envs/billettkontroll/lib/python3.8/site-packages/xgboost/data.py:250: FutureWarning: pandas.Int64Index is deprecated and will be removed from pandas in a future version. Use pandas.Index with the appropriate dtype instead.\n",
      "  elif isinstance(data.columns, (pd.Int64Index, pd.RangeIndex)):\n",
      "\u001b[32m[I 2022-12-02 23:04:46,318]\u001b[0m Trial 214 finished with value: 0.6759581881533101 and parameters: {'max_depth': 1, 'learning_rate': 0.1725558287510689, 'n_estimators': 287, 'min_child_weight': 5, 'gamma': 7.853262995486814e-07, 'subsample': 0.04557788291363814, 'colsample_bytree': 0.24048874838246617, 'reg_alpha': 0.18213112837234308, 'reg_lambda': 9.735246798800489e-05}. Best is trial 199 with value: 0.6779492284718766.\u001b[0m\n",
      "/opt/miniconda3/envs/billettkontroll/lib/python3.8/site-packages/xgboost/data.py:250: FutureWarning: pandas.Int64Index is deprecated and will be removed from pandas in a future version. Use pandas.Index with the appropriate dtype instead.\n",
      "  elif isinstance(data.columns, (pd.Int64Index, pd.RangeIndex)):\n",
      "\u001b[32m[I 2022-12-02 23:04:46,470]\u001b[0m Trial 215 finished with value: 0.6784469885515182 and parameters: {'max_depth': 1, 'learning_rate': 0.17603024577454243, 'n_estimators': 304, 'min_child_weight': 5, 'gamma': 7.052699520123446e-07, 'subsample': 0.04638085931703579, 'colsample_bytree': 0.248294380857862, 'reg_alpha': 0.13908128723176033, 'reg_lambda': 0.0002708543958530296}. Best is trial 215 with value: 0.6784469885515182.\u001b[0m\n",
      "/opt/miniconda3/envs/billettkontroll/lib/python3.8/site-packages/xgboost/data.py:250: FutureWarning: pandas.Int64Index is deprecated and will be removed from pandas in a future version. Use pandas.Index with the appropriate dtype instead.\n",
      "  elif isinstance(data.columns, (pd.Int64Index, pd.RangeIndex)):\n",
      "\u001b[32m[I 2022-12-02 23:04:46,615]\u001b[0m Trial 216 finished with value: 0.6774514683922349 and parameters: {'max_depth': 1, 'learning_rate': 0.1672995745148579, 'n_estimators': 275, 'min_child_weight': 5, 'gamma': 6.391439906044692e-07, 'subsample': 0.0402012265577796, 'colsample_bytree': 0.23580301343287735, 'reg_alpha': 0.16327179237104628, 'reg_lambda': 0.0003669116409729124}. Best is trial 215 with value: 0.6784469885515182.\u001b[0m\n",
      "/opt/miniconda3/envs/billettkontroll/lib/python3.8/site-packages/xgboost/data.py:250: FutureWarning: pandas.Int64Index is deprecated and will be removed from pandas in a future version. Use pandas.Index with the appropriate dtype instead.\n",
      "  elif isinstance(data.columns, (pd.Int64Index, pd.RangeIndex)):\n",
      "\u001b[32m[I 2022-12-02 23:04:46,753]\u001b[0m Trial 217 finished with value: 0.6665007466401195 and parameters: {'max_depth': 1, 'learning_rate': 0.20859283923118632, 'n_estimators': 274, 'min_child_weight': 5, 'gamma': 7.495467768837841e-07, 'subsample': 0.037811290481972494, 'colsample_bytree': 0.24392309856124642, 'reg_alpha': 0.24512411015816113, 'reg_lambda': 0.0002269974331758062}. Best is trial 215 with value: 0.6784469885515182.\u001b[0m\n",
      "/opt/miniconda3/envs/billettkontroll/lib/python3.8/site-packages/xgboost/data.py:250: FutureWarning: pandas.Int64Index is deprecated and will be removed from pandas in a future version. Use pandas.Index with the appropriate dtype instead.\n",
      "  elif isinstance(data.columns, (pd.Int64Index, pd.RangeIndex)):\n",
      "\u001b[32m[I 2022-12-02 23:04:46,898]\u001b[0m Trial 218 finished with value: 0.6744649079143853 and parameters: {'max_depth': 1, 'learning_rate': 0.14850254251155984, 'n_estimators': 286, 'min_child_weight': 5, 'gamma': 4.580680503296185e-07, 'subsample': 0.03411405007985196, 'colsample_bytree': 0.18927658126683677, 'reg_alpha': 0.10662559276559111, 'reg_lambda': 0.0005059790010082753}. Best is trial 215 with value: 0.6784469885515182.\u001b[0m\n",
      "/opt/miniconda3/envs/billettkontroll/lib/python3.8/site-packages/xgboost/data.py:250: FutureWarning: pandas.Int64Index is deprecated and will be removed from pandas in a future version. Use pandas.Index with the appropriate dtype instead.\n",
      "  elif isinstance(data.columns, (pd.Int64Index, pd.RangeIndex)):\n",
      "\u001b[32m[I 2022-12-02 23:04:47,052]\u001b[0m Trial 219 finished with value: 0.6679940268790443 and parameters: {'max_depth': 1, 'learning_rate': 0.1715883861115126, 'n_estimators': 307, 'min_child_weight': 5, 'gamma': 4.6172135709610926e-07, 'subsample': 0.03326348305836148, 'colsample_bytree': 0.21056917404497622, 'reg_alpha': 0.15848979600966198, 'reg_lambda': 0.000631772653487418}. Best is trial 215 with value: 0.6784469885515182.\u001b[0m\n",
      "/opt/miniconda3/envs/billettkontroll/lib/python3.8/site-packages/xgboost/data.py:250: FutureWarning: pandas.Int64Index is deprecated and will be removed from pandas in a future version. Use pandas.Index with the appropriate dtype instead.\n",
      "  elif isinstance(data.columns, (pd.Int64Index, pd.RangeIndex)):\n",
      "\u001b[32m[I 2022-12-02 23:04:47,199]\u001b[0m Trial 220 finished with value: 0.6729716276754605 and parameters: {'max_depth': 1, 'learning_rate': 0.15034303814662617, 'n_estimators': 288, 'min_child_weight': 5, 'gamma': 5.682625751079735e-07, 'subsample': 0.029437592312097964, 'colsample_bytree': 0.1901204087785644, 'reg_alpha': 0.10224636681326427, 'reg_lambda': 7.864806233502581e-05}. Best is trial 215 with value: 0.6784469885515182.\u001b[0m\n",
      "/opt/miniconda3/envs/billettkontroll/lib/python3.8/site-packages/xgboost/data.py:250: FutureWarning: pandas.Int64Index is deprecated and will be removed from pandas in a future version. Use pandas.Index with the appropriate dtype instead.\n",
      "  elif isinstance(data.columns, (pd.Int64Index, pd.RangeIndex)):\n",
      "\u001b[32m[I 2022-12-02 23:04:47,352]\u001b[0m Trial 221 finished with value: 0.6764559482329517 and parameters: {'max_depth': 1, 'learning_rate': 0.1650015188919968, 'n_estimators': 303, 'min_child_weight': 5, 'gamma': 7.227885332087047e-07, 'subsample': 0.04056630154813393, 'colsample_bytree': 0.22598901065313365, 'reg_alpha': 0.42388833902289325, 'reg_lambda': 0.00012780965978684503}. Best is trial 215 with value: 0.6784469885515182.\u001b[0m\n",
      "/opt/miniconda3/envs/billettkontroll/lib/python3.8/site-packages/xgboost/data.py:250: FutureWarning: pandas.Int64Index is deprecated and will be removed from pandas in a future version. Use pandas.Index with the appropriate dtype instead.\n",
      "  elif isinstance(data.columns, (pd.Int64Index, pd.RangeIndex)):\n",
      "\u001b[32m[I 2022-12-02 23:04:47,497]\u001b[0m Trial 222 finished with value: 0.6719761075161772 and parameters: {'max_depth': 1, 'learning_rate': 0.145898266287954, 'n_estimators': 277, 'min_child_weight': 5, 'gamma': 7.74389320695994e-07, 'subsample': 0.03988704723222558, 'colsample_bytree': 0.23231338035197802, 'reg_alpha': 0.21948947757132517, 'reg_lambda': 0.00023403582868843873}. Best is trial 215 with value: 0.6784469885515182.\u001b[0m\n",
      "/opt/miniconda3/envs/billettkontroll/lib/python3.8/site-packages/xgboost/data.py:250: FutureWarning: pandas.Int64Index is deprecated and will be removed from pandas in a future version. Use pandas.Index with the appropriate dtype instead.\n",
      "  elif isinstance(data.columns, (pd.Int64Index, pd.RangeIndex)):\n",
      "\u001b[32m[I 2022-12-02 23:04:47,649]\u001b[0m Trial 223 finished with value: 0.6744649079143853 and parameters: {'max_depth': 1, 'learning_rate': 0.17037852716176305, 'n_estimators': 300, 'min_child_weight': 5, 'gamma': 6.252155561362112e-07, 'subsample': 0.034942156266961635, 'colsample_bytree': 0.2265090114471176, 'reg_alpha': 0.14213283282535186, 'reg_lambda': 0.00037309795418613676}. Best is trial 215 with value: 0.6784469885515182.\u001b[0m\n",
      "/opt/miniconda3/envs/billettkontroll/lib/python3.8/site-packages/xgboost/data.py:250: FutureWarning: pandas.Int64Index is deprecated and will be removed from pandas in a future version. Use pandas.Index with the appropriate dtype instead.\n",
      "  elif isinstance(data.columns, (pd.Int64Index, pd.RangeIndex)):\n",
      "\u001b[32m[I 2022-12-02 23:04:47,807]\u001b[0m Trial 224 finished with value: 0.6316575410652066 and parameters: {'max_depth': 1, 'learning_rate': 0.010131322407562916, 'n_estimators': 318, 'min_child_weight': 5, 'gamma': 2.181027267060506e-07, 'subsample': 0.03568096088684119, 'colsample_bytree': 0.21743399280146694, 'reg_alpha': 0.381826866875173, 'reg_lambda': 0.00015209567505303958}. Best is trial 215 with value: 0.6784469885515182.\u001b[0m\n",
      "/opt/miniconda3/envs/billettkontroll/lib/python3.8/site-packages/xgboost/data.py:250: FutureWarning: pandas.Int64Index is deprecated and will be removed from pandas in a future version. Use pandas.Index with the appropriate dtype instead.\n",
      "  elif isinstance(data.columns, (pd.Int64Index, pd.RangeIndex)):\n",
      "\u001b[32m[I 2022-12-02 23:04:47,963]\u001b[0m Trial 225 finished with value: 0.6789447486311598 and parameters: {'max_depth': 1, 'learning_rate': 0.1590126089041665, 'n_estimators': 304, 'min_child_weight': 5, 'gamma': 7.738926810011361e-07, 'subsample': 0.045134073595004404, 'colsample_bytree': 0.25382410367272906, 'reg_alpha': 0.5953211376122817, 'reg_lambda': 0.0004138788150125591}. Best is trial 225 with value: 0.6789447486311598.\u001b[0m\n",
      "/opt/miniconda3/envs/billettkontroll/lib/python3.8/site-packages/xgboost/data.py:250: FutureWarning: pandas.Int64Index is deprecated and will be removed from pandas in a future version. Use pandas.Index with the appropriate dtype instead.\n",
      "  elif isinstance(data.columns, (pd.Int64Index, pd.RangeIndex)):\n",
      "\u001b[32m[I 2022-12-02 23:04:48,118]\u001b[0m Trial 226 finished with value: 0.6749626679940269 and parameters: {'max_depth': 1, 'learning_rate': 0.15642124048385983, 'n_estimators': 306, 'min_child_weight': 5, 'gamma': 3.229807054045663e-07, 'subsample': 0.044674539798005106, 'colsample_bytree': 0.2618523896615993, 'reg_alpha': 0.12419647903185262, 'reg_lambda': 0.0003826157472681222}. Best is trial 225 with value: 0.6789447486311598.\u001b[0m\n",
      "/opt/miniconda3/envs/billettkontroll/lib/python3.8/site-packages/xgboost/data.py:250: FutureWarning: pandas.Int64Index is deprecated and will be removed from pandas in a future version. Use pandas.Index with the appropriate dtype instead.\n",
      "  elif isinstance(data.columns, (pd.Int64Index, pd.RangeIndex)):\n",
      "\u001b[32m[I 2022-12-02 23:04:48,275]\u001b[0m Trial 227 finished with value: 0.6704828272772524 and parameters: {'max_depth': 1, 'learning_rate': 0.1613777563965434, 'n_estimators': 310, 'min_child_weight': 5, 'gamma': 7.154624864634447e-07, 'subsample': 0.04481325907298448, 'colsample_bytree': 0.26324290995080774, 'reg_alpha': 0.5618002096818514, 'reg_lambda': 0.0006286791783480925}. Best is trial 225 with value: 0.6789447486311598.\u001b[0m\n",
      "/opt/miniconda3/envs/billettkontroll/lib/python3.8/site-packages/xgboost/data.py:250: FutureWarning: pandas.Int64Index is deprecated and will be removed from pandas in a future version. Use pandas.Index with the appropriate dtype instead.\n",
      "  elif isinstance(data.columns, (pd.Int64Index, pd.RangeIndex)):\n",
      "\u001b[32m[I 2022-12-02 23:04:48,424]\u001b[0m Trial 228 finished with value: 0.6699850671976108 and parameters: {'max_depth': 1, 'learning_rate': 0.15776002173246154, 'n_estimators': 300, 'min_child_weight': 5, 'gamma': 4.446890137055017e-07, 'subsample': 0.03396351207661286, 'colsample_bytree': 0.2822462504468705, 'reg_alpha': 0.44077305210507345, 'reg_lambda': 0.0003458964706234648}. Best is trial 225 with value: 0.6789447486311598.\u001b[0m\n",
      "/opt/miniconda3/envs/billettkontroll/lib/python3.8/site-packages/xgboost/data.py:250: FutureWarning: pandas.Int64Index is deprecated and will be removed from pandas in a future version. Use pandas.Index with the appropriate dtype instead.\n",
      "  elif isinstance(data.columns, (pd.Int64Index, pd.RangeIndex)):\n",
      "\u001b[32m[I 2022-12-02 23:04:48,580]\u001b[0m Trial 229 finished with value: 0.6749626679940269 and parameters: {'max_depth': 1, 'learning_rate': 0.13114198818507916, 'n_estimators': 303, 'min_child_weight': 5, 'gamma': 1.4501302397365623e-06, 'subsample': 0.03973809746726428, 'colsample_bytree': 0.33666954191395293, 'reg_alpha': 0.14161451490674748, 'reg_lambda': 0.0003533445816017618}. Best is trial 225 with value: 0.6789447486311598.\u001b[0m\n",
      "/opt/miniconda3/envs/billettkontroll/lib/python3.8/site-packages/xgboost/data.py:250: FutureWarning: pandas.Int64Index is deprecated and will be removed from pandas in a future version. Use pandas.Index with the appropriate dtype instead.\n",
      "  elif isinstance(data.columns, (pd.Int64Index, pd.RangeIndex)):\n",
      "\u001b[32m[I 2022-12-02 23:04:48,742]\u001b[0m Trial 230 finished with value: 0.6749626679940269 and parameters: {'max_depth': 1, 'learning_rate': 0.1264391043688469, 'n_estimators': 315, 'min_child_weight': 5, 'gamma': 3.933892315184981e-07, 'subsample': 0.0398241912010236, 'colsample_bytree': 0.33893855059179806, 'reg_alpha': 0.13610932648142016, 'reg_lambda': 0.00041324468301034485}. Best is trial 225 with value: 0.6789447486311598.\u001b[0m\n",
      "/opt/miniconda3/envs/billettkontroll/lib/python3.8/site-packages/xgboost/data.py:250: FutureWarning: pandas.Int64Index is deprecated and will be removed from pandas in a future version. Use pandas.Index with the appropriate dtype instead.\n",
      "  elif isinstance(data.columns, (pd.Int64Index, pd.RangeIndex)):\n",
      "\u001b[32m[I 2022-12-02 23:04:48,906]\u001b[0m Trial 231 finished with value: 0.6714783474365356 and parameters: {'max_depth': 1, 'learning_rate': 0.12465958420640309, 'n_estimators': 323, 'min_child_weight': 5, 'gamma': 1.1944623237903808e-06, 'subsample': 0.039889196259392794, 'colsample_bytree': 0.4028934939661288, 'reg_alpha': 0.12248296228411339, 'reg_lambda': 0.0004367088534647739}. Best is trial 225 with value: 0.6789447486311598.\u001b[0m\n",
      "/opt/miniconda3/envs/billettkontroll/lib/python3.8/site-packages/xgboost/data.py:250: FutureWarning: pandas.Int64Index is deprecated and will be removed from pandas in a future version. Use pandas.Index with the appropriate dtype instead.\n",
      "  elif isinstance(data.columns, (pd.Int64Index, pd.RangeIndex)):\n",
      "\u001b[32m[I 2022-12-02 23:04:49,069]\u001b[0m Trial 232 finished with value: 0.6699850671976108 and parameters: {'max_depth': 1, 'learning_rate': 0.14635148839422438, 'n_estimators': 310, 'min_child_weight': 5, 'gamma': 4.4629941198940076e-07, 'subsample': 0.037171342418573686, 'colsample_bytree': 0.26111837647738456, 'reg_alpha': 0.19469319337912466, 'reg_lambda': 0.0013244401774828805}. Best is trial 225 with value: 0.6789447486311598.\u001b[0m\n",
      "/opt/miniconda3/envs/billettkontroll/lib/python3.8/site-packages/xgboost/data.py:250: FutureWarning: pandas.Int64Index is deprecated and will be removed from pandas in a future version. Use pandas.Index with the appropriate dtype instead.\n",
      "  elif isinstance(data.columns, (pd.Int64Index, pd.RangeIndex)):\n",
      "\u001b[32m[I 2022-12-02 23:04:49,226]\u001b[0m Trial 233 finished with value: 0.664509706321553 and parameters: {'max_depth': 1, 'learning_rate': 0.13036597077296164, 'n_estimators': 315, 'min_child_weight': 5, 'gamma': 3.2543604456201444e-07, 'subsample': 0.04134031689287611, 'colsample_bytree': 0.3040523304018742, 'reg_alpha': 0.31808841711474023, 'reg_lambda': 0.0003502843071025027}. Best is trial 225 with value: 0.6789447486311598.\u001b[0m\n",
      "/opt/miniconda3/envs/billettkontroll/lib/python3.8/site-packages/xgboost/data.py:250: FutureWarning: pandas.Int64Index is deprecated and will be removed from pandas in a future version. Use pandas.Index with the appropriate dtype instead.\n",
      "  elif isinstance(data.columns, (pd.Int64Index, pd.RangeIndex)):\n",
      "\u001b[32m[I 2022-12-02 23:04:49,383]\u001b[0m Trial 234 finished with value: 0.6714783474365356 and parameters: {'max_depth': 1, 'learning_rate': 0.17709798161520912, 'n_estimators': 303, 'min_child_weight': 5, 'gamma': 5.882112392030403e-07, 'subsample': 0.04530151114447768, 'colsample_bytree': 0.344518962593185, 'reg_alpha': 0.12635256974695788, 'reg_lambda': 0.0009516932898448777}. Best is trial 225 with value: 0.6789447486311598.\u001b[0m\n",
      "/opt/miniconda3/envs/billettkontroll/lib/python3.8/site-packages/xgboost/data.py:250: FutureWarning: pandas.Int64Index is deprecated and will be removed from pandas in a future version. Use pandas.Index with the appropriate dtype instead.\n",
      "  elif isinstance(data.columns, (pd.Int64Index, pd.RangeIndex)):\n",
      "\u001b[32m[I 2022-12-02 23:04:49,531]\u001b[0m Trial 235 finished with value: 0.6729716276754605 and parameters: {'max_depth': 1, 'learning_rate': 0.1531319178387676, 'n_estimators': 292, 'min_child_weight': 5, 'gamma': 1.1529853010012017e-06, 'subsample': 0.036482241600064046, 'colsample_bytree': 0.19196474119455872, 'reg_alpha': 0.9996373015244858, 'reg_lambda': 0.00047963824372117134}. Best is trial 225 with value: 0.6789447486311598.\u001b[0m\n",
      "/opt/miniconda3/envs/billettkontroll/lib/python3.8/site-packages/xgboost/data.py:250: FutureWarning: pandas.Int64Index is deprecated and will be removed from pandas in a future version. Use pandas.Index with the appropriate dtype instead.\n",
      "  elif isinstance(data.columns, (pd.Int64Index, pd.RangeIndex)):\n",
      "\u001b[32m[I 2022-12-02 23:04:49,684]\u001b[0m Trial 236 finished with value: 0.6744649079143853 and parameters: {'max_depth': 1, 'learning_rate': 0.1952019006385405, 'n_estimators': 306, 'min_child_weight': 5, 'gamma': 8.61962755105488e-07, 'subsample': 0.04579104788767043, 'colsample_bytree': 0.33190039344364525, 'reg_alpha': 0.09448797790796709, 'reg_lambda': 0.0003403163446693874}. Best is trial 225 with value: 0.6789447486311598.\u001b[0m\n",
      "/opt/miniconda3/envs/billettkontroll/lib/python3.8/site-packages/xgboost/data.py:250: FutureWarning: pandas.Int64Index is deprecated and will be removed from pandas in a future version. Use pandas.Index with the appropriate dtype instead.\n",
      "  elif isinstance(data.columns, (pd.Int64Index, pd.RangeIndex)):\n",
      "\u001b[32m[I 2022-12-02 23:04:49,843]\u001b[0m Trial 237 finished with value: 0.6704828272772524 and parameters: {'max_depth': 1, 'learning_rate': 0.1868767753502623, 'n_estimators': 314, 'min_child_weight': 5, 'gamma': 1.8786140756615054e-06, 'subsample': 0.04607820779420415, 'colsample_bytree': 0.31422919544233097, 'reg_alpha': 0.08789063985723385, 'reg_lambda': 0.0002058331180310374}. Best is trial 225 with value: 0.6789447486311598.\u001b[0m\n",
      "/opt/miniconda3/envs/billettkontroll/lib/python3.8/site-packages/xgboost/data.py:250: FutureWarning: pandas.Int64Index is deprecated and will be removed from pandas in a future version. Use pandas.Index with the appropriate dtype instead.\n",
      "  elif isinstance(data.columns, (pd.Int64Index, pd.RangeIndex)):\n",
      "\u001b[32m[I 2022-12-02 23:04:50,012]\u001b[0m Trial 238 finished with value: 0.6679940268790443 and parameters: {'max_depth': 1, 'learning_rate': 0.20089851767557157, 'n_estimators': 333, 'min_child_weight': 5, 'gamma': 9.087003958524173e-07, 'subsample': 0.04105577443375381, 'colsample_bytree': 0.351591722509263, 'reg_alpha': 0.21286235015486576, 'reg_lambda': 0.00028684240572479896}. Best is trial 225 with value: 0.6789447486311598.\u001b[0m\n",
      "/opt/miniconda3/envs/billettkontroll/lib/python3.8/site-packages/xgboost/data.py:250: FutureWarning: pandas.Int64Index is deprecated and will be removed from pandas in a future version. Use pandas.Index with the appropriate dtype instead.\n",
      "  elif isinstance(data.columns, (pd.Int64Index, pd.RangeIndex)):\n",
      "\u001b[32m[I 2022-12-02 23:04:50,164]\u001b[0m Trial 239 finished with value: 0.6729716276754605 and parameters: {'max_depth': 1, 'learning_rate': 0.1723432139663479, 'n_estimators': 304, 'min_child_weight': 5, 'gamma': 7.482691437776083e-07, 'subsample': 0.04818446060027226, 'colsample_bytree': 0.23823431908929804, 'reg_alpha': 0.15023759321779215, 'reg_lambda': 9.916053783990347e-05}. Best is trial 225 with value: 0.6789447486311598.\u001b[0m\n",
      "/opt/miniconda3/envs/billettkontroll/lib/python3.8/site-packages/xgboost/data.py:250: FutureWarning: pandas.Int64Index is deprecated and will be removed from pandas in a future version. Use pandas.Index with the appropriate dtype instead.\n",
      "  elif isinstance(data.columns, (pd.Int64Index, pd.RangeIndex)):\n",
      "\u001b[32m[I 2022-12-02 23:04:50,311]\u001b[0m Trial 240 finished with value: 0.6674962667994027 and parameters: {'max_depth': 1, 'learning_rate': 0.13709011360177126, 'n_estimators': 290, 'min_child_weight': 5, 'gamma': 4.2020584563600617e-07, 'subsample': 0.030849816878348413, 'colsample_bytree': 0.1638228244100006, 'reg_alpha': 0.40325222036723574, 'reg_lambda': 0.0005724619549858139}. Best is trial 225 with value: 0.6789447486311598.\u001b[0m\n",
      "/opt/miniconda3/envs/billettkontroll/lib/python3.8/site-packages/xgboost/data.py:250: FutureWarning: pandas.Int64Index is deprecated and will be removed from pandas in a future version. Use pandas.Index with the appropriate dtype instead.\n",
      "  elif isinstance(data.columns, (pd.Int64Index, pd.RangeIndex)):\n",
      "\u001b[32m[I 2022-12-02 23:04:50,460]\u001b[0m Trial 241 finished with value: 0.6694873071179691 and parameters: {'max_depth': 1, 'learning_rate': 0.15849273596162874, 'n_estimators': 300, 'min_child_weight': 5, 'gamma': 2.65958561235743e-07, 'subsample': 0.04131265449118996, 'colsample_bytree': 0.3283687839001952, 'reg_alpha': 0.10410950462455659, 'reg_lambda': 0.0002884278290323745}. Best is trial 225 with value: 0.6789447486311598.\u001b[0m\n",
      "/opt/miniconda3/envs/billettkontroll/lib/python3.8/site-packages/xgboost/data.py:250: FutureWarning: pandas.Int64Index is deprecated and will be removed from pandas in a future version. Use pandas.Index with the appropriate dtype instead.\n",
      "  elif isinstance(data.columns, (pd.Int64Index, pd.RangeIndex)):\n",
      "\u001b[32m[I 2022-12-02 23:04:50,623]\u001b[0m Trial 242 finished with value: 0.6739671478347437 and parameters: {'max_depth': 1, 'learning_rate': 0.17676306653323123, 'n_estimators': 322, 'min_child_weight': 5, 'gamma': 5.119972827045831e-07, 'subsample': 0.04459952117748434, 'colsample_bytree': 0.28072626753843655, 'reg_alpha': 0.04859945911383334, 'reg_lambda': 0.00017872382670174514}. Best is trial 225 with value: 0.6789447486311598.\u001b[0m\n",
      "/opt/miniconda3/envs/billettkontroll/lib/python3.8/site-packages/xgboost/data.py:250: FutureWarning: pandas.Int64Index is deprecated and will be removed from pandas in a future version. Use pandas.Index with the appropriate dtype instead.\n",
      "  elif isinstance(data.columns, (pd.Int64Index, pd.RangeIndex)):\n",
      "\u001b[32m[I 2022-12-02 23:04:50,784]\u001b[0m Trial 243 finished with value: 0.6784469885515182 and parameters: {'max_depth': 1, 'learning_rate': 0.21718126016292896, 'n_estimators': 291, 'min_child_weight': 5, 'gamma': 1.1146691169281815e-06, 'subsample': 0.035012493374314474, 'colsample_bytree': 0.21369470787399067, 'reg_alpha': 0.14145178895667854, 'reg_lambda': 0.0008394580327793439}. Best is trial 225 with value: 0.6789447486311598.\u001b[0m\n",
      "/opt/miniconda3/envs/billettkontroll/lib/python3.8/site-packages/xgboost/data.py:250: FutureWarning: pandas.Int64Index is deprecated and will be removed from pandas in a future version. Use pandas.Index with the appropriate dtype instead.\n",
      "  elif isinstance(data.columns, (pd.Int64Index, pd.RangeIndex)):\n",
      "\u001b[32m[I 2022-12-02 23:04:50,931]\u001b[0m Trial 244 finished with value: 0.6660029865604778 and parameters: {'max_depth': 1, 'learning_rate': 0.21881523205388667, 'n_estimators': 289, 'min_child_weight': 5, 'gamma': 1.1433264412807696e-06, 'subsample': 0.034439553792425436, 'colsample_bytree': 0.21177875570838284, 'reg_alpha': 0.1611237191756325, 'reg_lambda': 0.0007943571961322659}. Best is trial 225 with value: 0.6789447486311598.\u001b[0m\n",
      "/opt/miniconda3/envs/billettkontroll/lib/python3.8/site-packages/xgboost/data.py:250: FutureWarning: pandas.Int64Index is deprecated and will be removed from pandas in a future version. Use pandas.Index with the appropriate dtype instead.\n",
      "  elif isinstance(data.columns, (pd.Int64Index, pd.RangeIndex)):\n",
      "\u001b[32m[I 2022-12-02 23:04:51,089]\u001b[0m Trial 245 finished with value: 0.6704828272772524 and parameters: {'max_depth': 1, 'learning_rate': 0.20022102552420606, 'n_estimators': 308, 'min_child_weight': 5, 'gamma': 8.965194146140306e-07, 'subsample': 0.03827363659987118, 'colsample_bytree': 0.3974159309962301, 'reg_alpha': 0.27961040765498185, 'reg_lambda': 0.0003893251269696802}. Best is trial 225 with value: 0.6789447486311598.\u001b[0m\n",
      "/opt/miniconda3/envs/billettkontroll/lib/python3.8/site-packages/xgboost/data.py:250: FutureWarning: pandas.Int64Index is deprecated and will be removed from pandas in a future version. Use pandas.Index with the appropriate dtype instead.\n",
      "  elif isinstance(data.columns, (pd.Int64Index, pd.RangeIndex)):\n",
      "\u001b[32m[I 2022-12-02 23:04:51,240]\u001b[0m Trial 246 finished with value: 0.6630164260826281 and parameters: {'max_depth': 1, 'learning_rate': 0.23370388707388018, 'n_estimators': 298, 'min_child_weight': 5, 'gamma': 3.581598621104632e-07, 'subsample': 0.03718634373517664, 'colsample_bytree': 0.24773774646343258, 'reg_alpha': 0.0799166963599378, 'reg_lambda': 0.0004441852267059919}. Best is trial 225 with value: 0.6789447486311598.\u001b[0m\n",
      "/opt/miniconda3/envs/billettkontroll/lib/python3.8/site-packages/xgboost/data.py:250: FutureWarning: pandas.Int64Index is deprecated and will be removed from pandas in a future version. Use pandas.Index with the appropriate dtype instead.\n",
      "  elif isinstance(data.columns, (pd.Int64Index, pd.RangeIndex)):\n",
      "\u001b[32m[I 2022-12-02 23:04:51,388]\u001b[0m Trial 247 finished with value: 0.6714783474365356 and parameters: {'max_depth': 1, 'learning_rate': 0.15127787343362442, 'n_estimators': 278, 'min_child_weight': 5, 'gamma': 6.089867486998359e-07, 'subsample': 0.0274958307901597, 'colsample_bytree': 0.17900761585228148, 'reg_alpha': 0.13028063455175878, 'reg_lambda': 0.001193083941602213}. Best is trial 225 with value: 0.6789447486311598.\u001b[0m\n",
      "/opt/miniconda3/envs/billettkontroll/lib/python3.8/site-packages/xgboost/data.py:250: FutureWarning: pandas.Int64Index is deprecated and will be removed from pandas in a future version. Use pandas.Index with the appropriate dtype instead.\n",
      "  elif isinstance(data.columns, (pd.Int64Index, pd.RangeIndex)):\n",
      "\u001b[32m[I 2022-12-02 23:04:51,536]\u001b[0m Trial 248 finished with value: 0.6674962667994027 and parameters: {'max_depth': 1, 'learning_rate': 0.15868399843856326, 'n_estimators': 292, 'min_child_weight': 5, 'gamma': 2.4192617444955706e-07, 'subsample': 0.0317696779676118, 'colsample_bytree': 0.20204593277128335, 'reg_alpha': 0.1984294343401064, 'reg_lambda': 6.164058965432535e-05}. Best is trial 225 with value: 0.6789447486311598.\u001b[0m\n",
      "/opt/miniconda3/envs/billettkontroll/lib/python3.8/site-packages/xgboost/data.py:250: FutureWarning: pandas.Int64Index is deprecated and will be removed from pandas in a future version. Use pandas.Index with the appropriate dtype instead.\n",
      "  elif isinstance(data.columns, (pd.Int64Index, pd.RangeIndex)):\n",
      "\u001b[32m[I 2022-12-02 23:04:51,680]\u001b[0m Trial 249 finished with value: 0.6729716276754605 and parameters: {'max_depth': 1, 'learning_rate': 0.12317182389470774, 'n_estimators': 285, 'min_child_weight': 5, 'gamma': 1.6680970131184218e-06, 'subsample': 0.049211668165304256, 'colsample_bytree': 0.22344766836732685, 'reg_alpha': 0.058902240135206334, 'reg_lambda': 0.00011613558836339594}. Best is trial 225 with value: 0.6789447486311598.\u001b[0m\n"
     ]
    }
   ],
   "source": [
    "def objective(trial):\n",
    "    \"\"\"Define the objective function\"\"\"\n",
    "\n",
    "    params = {\n",
    "        'max_depth': trial.suggest_int('max_depth', 1, 9),\n",
    "        'learning_rate': trial.suggest_loguniform('learning_rate', 0.01, 1.0),\n",
    "        'n_estimators': trial.suggest_int('n_estimators', 50, 500),\n",
    "        'min_child_weight': trial.suggest_int('min_child_weight', 1, 10),\n",
    "        'gamma': trial.suggest_loguniform('gamma', 1e-8, 1.0),\n",
    "        'subsample': trial.suggest_loguniform('subsample', 0.01, 1.0),\n",
    "        'colsample_bytree': trial.suggest_loguniform('colsample_bytree', 0.01, 1.0),\n",
    "        'reg_alpha': trial.suggest_loguniform('reg_alpha', 1e-8, 1.0),\n",
    "        'reg_lambda': trial.suggest_loguniform('reg_lambda', 1e-8, 1.0),\n",
    "        'eval_metric': 'mlogloss',\n",
    "        'use_label_encoder': False\n",
    "    }\n",
    "\n",
    "    # Fit the model\n",
    "    optuna_model = xgb.XGBClassifier(**params)\n",
    "    optuna_model.fit(X_train, y_train)\n",
    "\n",
    "    # Make predictions\n",
    "    y_pred = optuna_model.predict(X_test)\n",
    "\n",
    "    # Evaluate predictions\n",
    "    accuracy = accuracy_score(y_test, y_pred)\n",
    "    return accuracy\n",
    "\n",
    "study = opt.create_study(direction=\"maximize\")\n",
    "study.optimize(objective, n_trials=500)"
   ]
  },
  {
   "cell_type": "code",
   "execution_count": 461,
   "metadata": {},
   "outputs": [
    {
     "name": "stderr",
     "output_type": "stream",
     "text": [
      "/opt/miniconda3/envs/billettkontroll/lib/python3.8/site-packages/xgboost/sklearn.py:1224: UserWarning: The use of label encoder in XGBClassifier is deprecated and will be removed in a future release. To remove this warning, do the following: 1) Pass option use_label_encoder=False when constructing XGBClassifier object; and 2) Encode your labels (y) as integers starting with 0, i.e. 0, 1, 2, ..., [num_class - 1].\n",
      "  warnings.warn(label_encoder_deprecation_msg, UserWarning)\n",
      "/opt/miniconda3/envs/billettkontroll/lib/python3.8/site-packages/xgboost/data.py:250: FutureWarning: pandas.Int64Index is deprecated and will be removed from pandas in a future version. Use pandas.Index with the appropriate dtype instead.\n",
      "  elif isinstance(data.columns, (pd.Int64Index, pd.RangeIndex)):\n"
     ]
    },
    {
     "name": "stdout",
     "output_type": "stream",
     "text": [
      "[23:04:51] WARNING: /var/folders/nz/j6p8yfhx1mv_0grj5xl4650h0000gp/T/abs_eek2t0c4ro/croots/recipe/xgboost-split_1659548960591/work/src/learner.cc:1115: Starting in XGBoost 1.3.0, the default evaluation metric used with the objective 'binary:logistic' was changed from 'error' to 'logloss'. Explicitly set eval_metric if you'd like to restore the old behavior.\n"
     ]
    },
    {
     "data": {
      "text/html": [
       "<style>#sk-container-id-22 {color: black;background-color: white;}#sk-container-id-22 pre{padding: 0;}#sk-container-id-22 div.sk-toggleable {background-color: white;}#sk-container-id-22 label.sk-toggleable__label {cursor: pointer;display: block;width: 100%;margin-bottom: 0;padding: 0.3em;box-sizing: border-box;text-align: center;}#sk-container-id-22 label.sk-toggleable__label-arrow:before {content: \"▸\";float: left;margin-right: 0.25em;color: #696969;}#sk-container-id-22 label.sk-toggleable__label-arrow:hover:before {color: black;}#sk-container-id-22 div.sk-estimator:hover label.sk-toggleable__label-arrow:before {color: black;}#sk-container-id-22 div.sk-toggleable__content {max-height: 0;max-width: 0;overflow: hidden;text-align: left;background-color: #f0f8ff;}#sk-container-id-22 div.sk-toggleable__content pre {margin: 0.2em;color: black;border-radius: 0.25em;background-color: #f0f8ff;}#sk-container-id-22 input.sk-toggleable__control:checked~div.sk-toggleable__content {max-height: 200px;max-width: 100%;overflow: auto;}#sk-container-id-22 input.sk-toggleable__control:checked~label.sk-toggleable__label-arrow:before {content: \"▾\";}#sk-container-id-22 div.sk-estimator input.sk-toggleable__control:checked~label.sk-toggleable__label {background-color: #d4ebff;}#sk-container-id-22 div.sk-label input.sk-toggleable__control:checked~label.sk-toggleable__label {background-color: #d4ebff;}#sk-container-id-22 input.sk-hidden--visually {border: 0;clip: rect(1px 1px 1px 1px);clip: rect(1px, 1px, 1px, 1px);height: 1px;margin: -1px;overflow: hidden;padding: 0;position: absolute;width: 1px;}#sk-container-id-22 div.sk-estimator {font-family: monospace;background-color: #f0f8ff;border: 1px dotted black;border-radius: 0.25em;box-sizing: border-box;margin-bottom: 0.5em;}#sk-container-id-22 div.sk-estimator:hover {background-color: #d4ebff;}#sk-container-id-22 div.sk-parallel-item::after {content: \"\";width: 100%;border-bottom: 1px solid gray;flex-grow: 1;}#sk-container-id-22 div.sk-label:hover label.sk-toggleable__label {background-color: #d4ebff;}#sk-container-id-22 div.sk-serial::before {content: \"\";position: absolute;border-left: 1px solid gray;box-sizing: border-box;top: 0;bottom: 0;left: 50%;z-index: 0;}#sk-container-id-22 div.sk-serial {display: flex;flex-direction: column;align-items: center;background-color: white;padding-right: 0.2em;padding-left: 0.2em;position: relative;}#sk-container-id-22 div.sk-item {position: relative;z-index: 1;}#sk-container-id-22 div.sk-parallel {display: flex;align-items: stretch;justify-content: center;background-color: white;position: relative;}#sk-container-id-22 div.sk-item::before, #sk-container-id-22 div.sk-parallel-item::before {content: \"\";position: absolute;border-left: 1px solid gray;box-sizing: border-box;top: 0;bottom: 0;left: 50%;z-index: -1;}#sk-container-id-22 div.sk-parallel-item {display: flex;flex-direction: column;z-index: 1;position: relative;background-color: white;}#sk-container-id-22 div.sk-parallel-item:first-child::after {align-self: flex-end;width: 50%;}#sk-container-id-22 div.sk-parallel-item:last-child::after {align-self: flex-start;width: 50%;}#sk-container-id-22 div.sk-parallel-item:only-child::after {width: 0;}#sk-container-id-22 div.sk-dashed-wrapped {border: 1px dashed gray;margin: 0 0.4em 0.5em 0.4em;box-sizing: border-box;padding-bottom: 0.4em;background-color: white;}#sk-container-id-22 div.sk-label label {font-family: monospace;font-weight: bold;display: inline-block;line-height: 1.2em;}#sk-container-id-22 div.sk-label-container {text-align: center;}#sk-container-id-22 div.sk-container {/* jupyter's `normalize.less` sets `[hidden] { display: none; }` but bootstrap.min.css set `[hidden] { display: none !important; }` so we also need the `!important` here to be able to override the default hidden behavior on the sphinx rendered scikit-learn.org. See: https://github.com/scikit-learn/scikit-learn/issues/21755 */display: inline-block !important;position: relative;}#sk-container-id-22 div.sk-text-repr-fallback {display: none;}</style><div id=\"sk-container-id-22\" class=\"sk-top-container\"><div class=\"sk-text-repr-fallback\"><pre>XGBClassifier(base_score=0.5, booster=&#x27;gbtree&#x27;, colsample_bylevel=1,\n",
       "              colsample_bynode=1, colsample_bytree=0.25382410367272906,\n",
       "              enable_categorical=False, gamma=7.738926810011361e-07, gpu_id=-1,\n",
       "              importance_type=None, interaction_constraints=&#x27;&#x27;,\n",
       "              learning_rate=0.1590126089041665, max_delta_step=0, max_depth=1,\n",
       "              min_child_weight=5, missing=nan, monotone_constraints=&#x27;()&#x27;,\n",
       "              n_estimators=304, n_jobs=8, num_parallel_tree=1, predictor=&#x27;auto&#x27;,\n",
       "              random_state=0, reg_alpha=0.5953211376122817,\n",
       "              reg_lambda=0.0004138788150125591, scale_pos_weight=1,\n",
       "              subsample=0.045134073595004404, tree_method=&#x27;exact&#x27;,\n",
       "              validate_parameters=1, verbosity=None)</pre><b>In a Jupyter environment, please rerun this cell to show the HTML representation or trust the notebook. <br />On GitHub, the HTML representation is unable to render, please try loading this page with nbviewer.org.</b></div><div class=\"sk-container\" hidden><div class=\"sk-item\"><div class=\"sk-estimator sk-toggleable\"><input class=\"sk-toggleable__control sk-hidden--visually\" id=\"sk-estimator-id-22\" type=\"checkbox\" checked><label for=\"sk-estimator-id-22\" class=\"sk-toggleable__label sk-toggleable__label-arrow\">XGBClassifier</label><div class=\"sk-toggleable__content\"><pre>XGBClassifier(base_score=0.5, booster=&#x27;gbtree&#x27;, colsample_bylevel=1,\n",
       "              colsample_bynode=1, colsample_bytree=0.25382410367272906,\n",
       "              enable_categorical=False, gamma=7.738926810011361e-07, gpu_id=-1,\n",
       "              importance_type=None, interaction_constraints=&#x27;&#x27;,\n",
       "              learning_rate=0.1590126089041665, max_delta_step=0, max_depth=1,\n",
       "              min_child_weight=5, missing=nan, monotone_constraints=&#x27;()&#x27;,\n",
       "              n_estimators=304, n_jobs=8, num_parallel_tree=1, predictor=&#x27;auto&#x27;,\n",
       "              random_state=0, reg_alpha=0.5953211376122817,\n",
       "              reg_lambda=0.0004138788150125591, scale_pos_weight=1,\n",
       "              subsample=0.045134073595004404, tree_method=&#x27;exact&#x27;,\n",
       "              validate_parameters=1, verbosity=None)</pre></div></div></div></div></div>"
      ],
      "text/plain": [
       "XGBClassifier(base_score=0.5, booster='gbtree', colsample_bylevel=1,\n",
       "              colsample_bynode=1, colsample_bytree=0.25382410367272906,\n",
       "              enable_categorical=False, gamma=7.738926810011361e-07, gpu_id=-1,\n",
       "              importance_type=None, interaction_constraints='',\n",
       "              learning_rate=0.1590126089041665, max_delta_step=0, max_depth=1,\n",
       "              min_child_weight=5, missing=nan, monotone_constraints='()',\n",
       "              n_estimators=304, n_jobs=8, num_parallel_tree=1, predictor='auto',\n",
       "              random_state=0, reg_alpha=0.5953211376122817,\n",
       "              reg_lambda=0.0004138788150125591, scale_pos_weight=1,\n",
       "              subsample=0.045134073595004404, tree_method='exact',\n",
       "              validate_parameters=1, verbosity=None)"
      ]
     },
     "execution_count": 461,
     "metadata": {},
     "output_type": "execute_result"
    }
   ],
   "source": [
    "bparams = study.best_params\n",
    "model2 = xgb.XGBClassifier(**bparams)\n",
    "model2.fit(X_train, y_train)"
   ]
  },
  {
   "cell_type": "code",
   "execution_count": 462,
   "metadata": {},
   "outputs": [],
   "source": [
    "preds2 = model2.predict(X_test)"
   ]
  },
  {
   "cell_type": "markdown",
   "metadata": {},
   "source": [
    "## Model 2 testing"
   ]
  },
  {
   "cell_type": "code",
   "execution_count": 463,
   "metadata": {},
   "outputs": [
    {
     "data": {
      "text/plain": [
       "<AxesSubplot: title={'center': 'Feature importance'}, xlabel='F score', ylabel='Features'>"
      ]
     },
     "execution_count": 463,
     "metadata": {},
     "output_type": "execute_result"
    },
    {
     "data": {
      "image/png": "[encoded data removed]",
      "text/plain": [
       "<Figure size 640x480 with 1 Axes>"
      ]
     },
     "metadata": {},
     "output_type": "display_data"
    }
   ],
   "source": [
    "xgb.plot_importance(model2)"
   ]
  },
  {
   "cell_type": "code",
   "execution_count": 464,
   "metadata": {},
   "outputs": [
    {
     "data": {
      "text/plain": [
       "<sklearn.metrics._plot.confusion_matrix.ConfusionMatrixDisplay at 0x16a1ba7c0>"
      ]
     },
     "execution_count": 464,
     "metadata": {},
     "output_type": "execute_result"
    },
    {
     "data": {
      "image/png": "[encoded data removed]",
      "text/plain": [
       "<Figure size 640x480 with 2 Axes>"
      ]
     },
     "metadata": {},
     "output_type": "display_data"
    }
   ],
   "source": [
    "cm = confusion_matrix(y_true=y_test, y_pred=preds2)\n",
    "disp = ConfusionMatrixDisplay(confusion_matrix=cm, display_labels=model2.classes_)\n",
    "\n",
    "disp.plot(cmap='Blues')"
   ]
  },
  {
   "cell_type": "code",
   "execution_count": 465,
   "metadata": {},
   "outputs": [
    {
     "name": "stdout",
     "output_type": "stream",
     "text": [
      "Accuracy:  67.89\n"
     ]
    }
   ],
   "source": [
    "accuracy = accuracy_score(y_true=y_test, y_pred=preds2)\n",
    "print(f\"Accuracy: {accuracy * 100.0 : .2f}\")"
   ]
  },
  {
   "cell_type": "markdown",
   "metadata": {},
   "source": [
    "# Self testing"
   ]
  },
  {
   "cell_type": "code",
   "execution_count": 466,
   "metadata": {},
   "outputs": [
    {
     "data": {
      "text/html": [
       "<div>\n",
       "<style scoped>\n",
       "    .dataframe tbody tr th:only-of-type {\n",
       "        vertical-align: middle;\n",
       "    }\n",
       "\n",
       "    .dataframe tbody tr th {\n",
       "        vertical-align: top;\n",
       "    }\n",
       "\n",
       "    .dataframe thead th {\n",
       "        text-align: right;\n",
       "    }\n",
       "</style>\n",
       "<table border=\"1\" class=\"dataframe\">\n",
       "  <thead>\n",
       "    <tr style=\"text-align: right;\">\n",
       "      <th></th>\n",
       "      <th>Linje</th>\n",
       "      <th>Vogn</th>\n",
       "      <th>Klokke</th>\n",
       "      <th>Fra</th>\n",
       "      <th>Til</th>\n",
       "      <th>Fullt?</th>\n",
       "    </tr>\n",
       "  </thead>\n",
       "  <tbody>\n",
       "    <tr>\n",
       "      <th>4048</th>\n",
       "      <td>3</td>\n",
       "      <td>1</td>\n",
       "      <td>13.14</td>\n",
       "      <td>1</td>\n",
       "      <td>4</td>\n",
       "      <td>2</td>\n",
       "    </tr>\n",
       "    <tr>\n",
       "      <th>9122</th>\n",
       "      <td>1</td>\n",
       "      <td>1</td>\n",
       "      <td>14.84</td>\n",
       "      <td>1</td>\n",
       "      <td>3</td>\n",
       "      <td>1</td>\n",
       "    </tr>\n",
       "    <tr>\n",
       "      <th>9108</th>\n",
       "      <td>0</td>\n",
       "      <td>0</td>\n",
       "      <td>15.59</td>\n",
       "      <td>2</td>\n",
       "      <td>2</td>\n",
       "      <td>1</td>\n",
       "    </tr>\n",
       "    <tr>\n",
       "      <th>7189</th>\n",
       "      <td>0</td>\n",
       "      <td>1</td>\n",
       "      <td>8.55</td>\n",
       "      <td>0</td>\n",
       "      <td>1</td>\n",
       "      <td>0</td>\n",
       "    </tr>\n",
       "    <tr>\n",
       "      <th>2195</th>\n",
       "      <td>1</td>\n",
       "      <td>1</td>\n",
       "      <td>7.97</td>\n",
       "      <td>2</td>\n",
       "      <td>2</td>\n",
       "      <td>1</td>\n",
       "    </tr>\n",
       "  </tbody>\n",
       "</table>\n",
       "</div>"
      ],
      "text/plain": [
       "      Linje  Vogn  Klokke  Fra  Til  Fullt?\n",
       "4048      3     1   13.14    1    4       2\n",
       "9122      1     1   14.84    1    3       1\n",
       "9108      0     0   15.59    2    2       1\n",
       "7189      0     1    8.55    0    1       0\n",
       "2195      1     1    7.97    2    2       1"
      ]
     },
     "execution_count": 466,
     "metadata": {},
     "output_type": "execute_result"
    }
   ],
   "source": [
    "X_test.head(5)"
   ]
  },
  {
   "cell_type": "code",
   "execution_count": 467,
   "metadata": {},
   "outputs": [
    {
     "data": {
      "text/plain": [
       "4048    0\n",
       "9122    1\n",
       "9108    0\n",
       "7189    1\n",
       "2195    0\n",
       "Name: Sjekket?, dtype: int8"
      ]
     },
     "execution_count": 467,
     "metadata": {},
     "output_type": "execute_result"
    }
   ],
   "source": [
    "y_test.head(5)"
   ]
  },
  {
   "cell_type": "code",
   "execution_count": 468,
   "metadata": {},
   "outputs": [
    {
     "data": {
      "text/html": [
       "<div>\n",
       "<style scoped>\n",
       "    .dataframe tbody tr th:only-of-type {\n",
       "        vertical-align: middle;\n",
       "    }\n",
       "\n",
       "    .dataframe tbody tr th {\n",
       "        vertical-align: top;\n",
       "    }\n",
       "\n",
       "    .dataframe thead th {\n",
       "        text-align: right;\n",
       "    }\n",
       "</style>\n",
       "<table border=\"1\" class=\"dataframe\">\n",
       "  <thead>\n",
       "    <tr style=\"text-align: right;\">\n",
       "      <th></th>\n",
       "      <th>Linje</th>\n",
       "      <th>Vogn</th>\n",
       "      <th>Klokke</th>\n",
       "      <th>Fra</th>\n",
       "      <th>Til</th>\n",
       "      <th>Fullt?</th>\n",
       "    </tr>\n",
       "  </thead>\n",
       "  <tbody>\n",
       "    <tr>\n",
       "      <th>0</th>\n",
       "      <td>3</td>\n",
       "      <td>1</td>\n",
       "      <td>6.0</td>\n",
       "      <td>0</td>\n",
       "      <td>3</td>\n",
       "      <td>1</td>\n",
       "    </tr>\n",
       "  </tbody>\n",
       "</table>\n",
       "</div>"
      ],
      "text/plain": [
       "   Linje  Vogn  Klokke  Fra  Til  Fullt?\n",
       "0      3     1     6.0    0    3       1"
      ]
     },
     "execution_count": 468,
     "metadata": {},
     "output_type": "execute_result"
    }
   ],
   "source": [
    "tester = X_test\n",
    "tester = tester.drop(X_test.index)\n",
    "tester\n",
    "\n",
    "# Parameters\n",
    "linje = \"r11\"\n",
    "vogn = \"fremst\"\n",
    "# dato = 20221011\n",
    "klokke = 6.00\n",
    "fra = \"eidsvoll\"\n",
    "til = \"oslo_lufthavn\"\n",
    "fullt = \"nei\"\n",
    "\n",
    "data = {\"Linje\": [findCatCode(linjeCat, linje)], \n",
    "          \"Vogn\": [findCatCode(vognCat, vogn)],\n",
    "          \"Klokke\": [klokke], \n",
    "          \"Fra\": [findCatCode(fraCat, fra)], \n",
    "          \"Til\": [findCatCode(tilCat, til)], \n",
    "         \"Fullt?\": [findCatCode(fulltCat, fullt)]}\n",
    "\n",
    "testdb = pd.DataFrame(data)\n",
    "\n",
    "tester = pd.concat([tester, testdb])\n",
    "tester\n"
   ]
  },
  {
   "cell_type": "code",
   "execution_count": 469,
   "metadata": {},
   "outputs": [
    {
     "name": "stdout",
     "output_type": "stream",
     "text": [
      "Nei = 1\n",
      "Ja = 0\n",
      "[0]\n",
      "Ja, det er en sannsynlighet\n"
     ]
    }
   ],
   "source": [
    "# Finds what the number means\n",
    "ja = findCatCode(sjekketCat, 'ja')\n",
    "nei = findCatCode(sjekketCat, 'nei')\n",
    "\n",
    "print(f\"Nei = {nei}\\n\"+\n",
    "      f\"Ja = {ja}\")\n",
    "\n",
    "testpred = model2.predict(tester)\n",
    "print(testpred)\n",
    "\n",
    "if testpred[0] == ja:\n",
    "    print(\"Ja, det er en sannsynlighet\")\n",
    "else:\n",
    "    print(\"Nei, det er liten sannsynlighet\")"
   ]
  }
 ],
 "metadata": {
  "kernelspec": {
   "display_name": "Python 3.8.15 ('billettkontroll')",
   "language": "python",
   "name": "python3"
  },
  "language_info": {
   "codemirror_mode": {
    "name": "ipython",
    "version": 3
   },
   "file_extension": ".py",
   "mimetype": "text/x-python",
   "name": "python",
   "nbconvert_exporter": "python",
   "pygments_lexer": "ipython3",
   "version": "3.8.15"
  },
  "orig_nbformat": 4,
  "vscode": {
   "interpreter": {
    "hash": "9f8025469ff554a19d5f57826227d6ef385421df569183cf90fa46a8f7077469"
   }
  }
 },
 "nbformat": 4,
 "nbformat_minor": 2
}
