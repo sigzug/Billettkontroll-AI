{
 "cells": [
  {
   "cell_type": "code",
   "execution_count": 1,
   "id": "4cada475",
   "metadata": {},
   "outputs": [],
   "source": [
    "mode = \"unload\"\n",
    "\n",
    "if mode == 'unload':\n",
    "    # Zip all files in the current directory\n",
    "    !tar chvfz notebook.tar.gz *\n",
    "elif mode == 'load':\n",
    "    # Unzip all files in the current directory\n",
    "    !tar -xv -f notebook.tar.gz"
   ]
  },
  {
   "cell_type": "code",
   "execution_count": null,
   "id": "97187a60",
   "metadata": {},
   "outputs": [],
   "source": []
  }
 ],
 "metadata": {
  "kernelspec": {
   "display_name": "Python 3 (ipykernel)",
   "language": "python",
   "name": "python3"
  },
  "language_info": {
   "codemirror_mode": {
    "name": "ipython",
    "version": 3
   },
   "file_extension": ".py",
   "mimetype": "text/x-python",
   "name": "python",
   "nbconvert_exporter": "python",
   "pygments_lexer": "ipython3",
   "version": "3.8.15"
  }
 },
 "nbformat": 4,
 "nbformat_minor": 5
}
